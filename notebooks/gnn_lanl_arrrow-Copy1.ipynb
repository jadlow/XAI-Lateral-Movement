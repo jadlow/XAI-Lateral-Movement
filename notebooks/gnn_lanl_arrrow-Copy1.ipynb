{
 "cells": [
  {
   "cell_type": "code",
   "execution_count": 2,
   "id": "2428e294",
   "metadata": {},
   "outputs": [],
   "source": [
    "from pyarrow import csv"
   ]
  },
  {
   "cell_type": "code",
   "execution_count": 3,
   "id": "35d23708",
   "metadata": {},
   "outputs": [],
   "source": [
    "read_options = csv.ReadOptions(\n",
    "               column_names=[\"time\",\"source user@domain\",\"destination user@domain\", \\\n",
    "                             \"source computer\",\"destination computer\",\"authentication type\", \\\n",
    "                             \"logon type\",\"authentication orientation\",\"success/failure\",\"day\"])\n"
   ]
  },
  {
   "cell_type": "code",
   "execution_count": 4,
   "id": "143a4842",
   "metadata": {},
   "outputs": [
    {
     "ename": "ArrowInvalid",
     "evalue": "CSV parse error: Expected 10 columns, got 3: source user@domain,destination computer,source computer",
     "output_type": "error",
     "traceback": [
      "\u001b[0;31m---------------------------------------------------------------------------\u001b[0m",
      "\u001b[0;31mArrowInvalid\u001b[0m                              Traceback (most recent call last)",
      "Cell \u001b[0;32mIn[4], line 1\u001b[0m\n\u001b[0;32m----> 1\u001b[0m table_file \u001b[38;5;241m=\u001b[39m \u001b[43mcsv\u001b[49m\u001b[38;5;241;43m.\u001b[39;49m\u001b[43mread_csv\u001b[49m\u001b[43m(\u001b[49m\u001b[38;5;124;43m'\u001b[39;49m\u001b[38;5;124;43m../lm-vol/LANL_test_unique_v2.csv\u001b[39;49m\u001b[38;5;124;43m'\u001b[39;49m\u001b[43m,\u001b[49m\u001b[43m \u001b[49m\u001b[43mread_options\u001b[49m\u001b[38;5;241;43m=\u001b[39;49m\u001b[43mread_options\u001b[49m\u001b[43m)\u001b[49m\n",
      "File \u001b[0;32m/usr/local/lib/python3.8/site-packages/pyarrow/_csv.pyx:1217\u001b[0m, in \u001b[0;36mpyarrow._csv.read_csv\u001b[0;34m()\u001b[0m\n",
      "File \u001b[0;32m/usr/local/lib/python3.8/site-packages/pyarrow/_csv.pyx:1226\u001b[0m, in \u001b[0;36mpyarrow._csv.read_csv\u001b[0;34m()\u001b[0m\n",
      "File \u001b[0;32m/usr/local/lib/python3.8/site-packages/pyarrow/error.pxi:144\u001b[0m, in \u001b[0;36mpyarrow.lib.pyarrow_internal_check_status\u001b[0;34m()\u001b[0m\n",
      "File \u001b[0;32m/usr/local/lib/python3.8/site-packages/pyarrow/error.pxi:100\u001b[0m, in \u001b[0;36mpyarrow.lib.check_status\u001b[0;34m()\u001b[0m\n",
      "\u001b[0;31mArrowInvalid\u001b[0m: CSV parse error: Expected 10 columns, got 3: source user@domain,destination computer,source computer"
     ]
    }
   ],
   "source": [
    "table_file = csv.read_csv('../lm-vol/LANL_test_unique_v2.csv', read_options=read_options)"
   ]
  },
  {
   "cell_type": "code",
   "execution_count": null,
   "id": "6f9f7629",
   "metadata": {},
   "outputs": [],
   "source": [
    "help(table_file.filter)"
   ]
  },
  {
   "cell_type": "code",
   "execution_count": null,
   "id": "b1f3cb82",
   "metadata": {},
   "outputs": [],
   "source": [
    "pandas_lanl = table_file.to_pandas()"
   ]
  },
  {
   "cell_type": "code",
   "execution_count": null,
   "id": "c24134d1",
   "metadata": {},
   "outputs": [],
   "source": [
    "pandas_lanl.shape"
   ]
  },
  {
   "cell_type": "code",
   "execution_count": null,
   "id": "d2eca39a",
   "metadata": {},
   "outputs": [],
   "source": [
    "pandas_lanl.columns"
   ]
  },
  {
   "cell_type": "code",
   "execution_count": 8,
   "id": "033c350d",
   "metadata": {},
   "outputs": [],
   "source": [
    "import pandas as pd \n",
    "import torch\n",
    "from torch import Tensor"
   ]
  },
  {
   "cell_type": "code",
   "execution_count": 9,
   "id": "83e16b51",
   "metadata": {},
   "outputs": [
    {
     "data": {
      "text/html": [
       "<div>\n",
       "<style scoped>\n",
       "    .dataframe tbody tr th:only-of-type {\n",
       "        vertical-align: middle;\n",
       "    }\n",
       "\n",
       "    .dataframe tbody tr th {\n",
       "        vertical-align: top;\n",
       "    }\n",
       "\n",
       "    .dataframe thead th {\n",
       "        text-align: right;\n",
       "    }\n",
       "</style>\n",
       "<table border=\"1\" class=\"dataframe\">\n",
       "  <thead>\n",
       "    <tr style=\"text-align: right;\">\n",
       "      <th></th>\n",
       "      <th>time</th>\n",
       "      <th>source user@domain</th>\n",
       "      <th>destination user@domain</th>\n",
       "      <th>source computer</th>\n",
       "      <th>destination computer</th>\n",
       "      <th>authentication type</th>\n",
       "      <th>logon type</th>\n",
       "      <th>authentication orientation</th>\n",
       "      <th>success/failure</th>\n",
       "      <th>day</th>\n",
       "    </tr>\n",
       "  </thead>\n",
       "  <tbody>\n",
       "    <tr>\n",
       "      <th>348405497</th>\n",
       "      <td>3387188</td>\n",
       "      <td>U53@DOM1</td>\n",
       "      <td>U53@DOM1</td>\n",
       "      <td>C612</td>\n",
       "      <td>C612</td>\n",
       "      <td>?</td>\n",
       "      <td>Network</td>\n",
       "      <td>LogOff</td>\n",
       "      <td>Success</td>\n",
       "      <td>40</td>\n",
       "    </tr>\n",
       "    <tr>\n",
       "      <th>602164002</th>\n",
       "      <td>4433436</td>\n",
       "      <td>U6752@DOM1</td>\n",
       "      <td>U6752@DOM1</td>\n",
       "      <td>C10</td>\n",
       "      <td>C10</td>\n",
       "      <td>?</td>\n",
       "      <td>Network</td>\n",
       "      <td>LogOff</td>\n",
       "      <td>Success</td>\n",
       "      <td>52</td>\n",
       "    </tr>\n",
       "    <tr>\n",
       "      <th>634846394</th>\n",
       "      <td>4605643</td>\n",
       "      <td>C12757$@DOM1</td>\n",
       "      <td>C12757$@DOM1</td>\n",
       "      <td>C612</td>\n",
       "      <td>C612</td>\n",
       "      <td>?</td>\n",
       "      <td>Network</td>\n",
       "      <td>LogOff</td>\n",
       "      <td>Success</td>\n",
       "      <td>54</td>\n",
       "    </tr>\n",
       "    <tr>\n",
       "      <th>624831862</th>\n",
       "      <td>4547984</td>\n",
       "      <td>U346@DOM1</td>\n",
       "      <td>U346@DOM1</td>\n",
       "      <td>C1183</td>\n",
       "      <td>C92</td>\n",
       "      <td>Kerberos</td>\n",
       "      <td>Network</td>\n",
       "      <td>LogOn</td>\n",
       "      <td>Success</td>\n",
       "      <td>53</td>\n",
       "    </tr>\n",
       "    <tr>\n",
       "      <th>443144291</th>\n",
       "      <td>3762135</td>\n",
       "      <td>U1457@?</td>\n",
       "      <td>U1457@?</td>\n",
       "      <td>C552</td>\n",
       "      <td>C552</td>\n",
       "      <td>?</td>\n",
       "      <td>?</td>\n",
       "      <td>TGT</td>\n",
       "      <td>Fail</td>\n",
       "      <td>44</td>\n",
       "    </tr>\n",
       "  </tbody>\n",
       "</table>\n",
       "</div>"
      ],
      "text/plain": [
       "              time source user@domain destination user@domain source computer  \\\n",
       "348405497  3387188           U53@DOM1                U53@DOM1            C612   \n",
       "602164002  4433436         U6752@DOM1              U6752@DOM1             C10   \n",
       "634846394  4605643       C12757$@DOM1            C12757$@DOM1            C612   \n",
       "624831862  4547984          U346@DOM1               U346@DOM1           C1183   \n",
       "443144291  3762135            U1457@?                 U1457@?            C552   \n",
       "\n",
       "          destination computer authentication type logon type  \\\n",
       "348405497                 C612                   ?    Network   \n",
       "602164002                  C10                   ?    Network   \n",
       "634846394                 C612                   ?    Network   \n",
       "624831862                  C92            Kerberos    Network   \n",
       "443144291                 C552                   ?          ?   \n",
       "\n",
       "          authentication orientation success/failure  day  \n",
       "348405497                     LogOff         Success   40  \n",
       "602164002                     LogOff         Success   52  \n",
       "634846394                     LogOff         Success   54  \n",
       "624831862                      LogOn         Success   53  \n",
       "443144291                        TGT            Fail   44  "
      ]
     },
     "execution_count": 9,
     "metadata": {},
     "output_type": "execute_result"
    }
   ],
   "source": [
    "pandas_lanl.sample(5)"
   ]
  },
  {
   "cell_type": "code",
   "execution_count": 10,
   "id": "34addd1c",
   "metadata": {},
   "outputs": [],
   "source": [
    "pandas_lanl = pandas_lanl.rename(columns={'source user@domain': \"src_user\", 'destination user@domain': \"dest_user\"})"
   ]
  },
  {
   "cell_type": "code",
   "execution_count": 11,
   "id": "de17e1d3",
   "metadata": {},
   "outputs": [],
   "source": [
    "df = pandas_lanl ##shallow copy lol"
   ]
  },
  {
   "cell_type": "code",
   "execution_count": 12,
   "id": "64872f46",
   "metadata": {},
   "outputs": [
    {
     "data": {
      "text/plain": [
       "Index(['time', 'src_user', 'dest_user', 'source computer',\n",
       "       'destination computer', 'authentication type', 'logon type',\n",
       "       'authentication orientation', 'success/failure', 'day'],\n",
       "      dtype='object')"
      ]
     },
     "execution_count": 12,
     "metadata": {},
     "output_type": "execute_result"
    }
   ],
   "source": [
    "df.columns"
   ]
  },
  {
   "cell_type": "code",
   "execution_count": 13,
   "id": "b4b14458",
   "metadata": {},
   "outputs": [],
   "source": [
    "df = df[(df['src_user'].str.contains('LOCAL')==False) & (df['src_user'].str.contains('SYSTEM')==False) & \n",
    "        (df['src_user'].str.contains('ANONYMOUS')==False) & (df['src_user'].str.contains('ADMINISTRARTOR')==False) &\n",
    "        (df['src_user'].str.contains('$')==False) \n",
    "       ]\n",
    "\n",
    "df = df[(df['dest_user'].str.contains('LOCAL')==False) & (df['dest_user'].str.contains('SYSTEM')==False) & \n",
    "        (df['dest_user'].str.contains('ANONYMOUS')==False) & (df['dest_user'].str.contains('ADMINISTRARTOR')==False) &\n",
    "        (df['dest_user'].str.contains('$')==False) \n",
    "       ]\n"
   ]
  },
  {
   "cell_type": "code",
   "execution_count": 14,
   "id": "21422d8d",
   "metadata": {},
   "outputs": [
    {
     "data": {
      "text/plain": [
       "(0, 10)"
      ]
     },
     "execution_count": 14,
     "metadata": {},
     "output_type": "execute_result"
    }
   ],
   "source": [
    "df.shape"
   ]
  },
  {
   "cell_type": "code",
   "execution_count": 16,
   "id": "3709e017",
   "metadata": {},
   "outputs": [
    {
     "data": {
      "text/html": [
       "<div>\n",
       "<style scoped>\n",
       "    .dataframe tbody tr th:only-of-type {\n",
       "        vertical-align: middle;\n",
       "    }\n",
       "\n",
       "    .dataframe tbody tr th {\n",
       "        vertical-align: top;\n",
       "    }\n",
       "\n",
       "    .dataframe thead th {\n",
       "        text-align: right;\n",
       "    }\n",
       "</style>\n",
       "<table border=\"1\" class=\"dataframe\">\n",
       "  <thead>\n",
       "    <tr style=\"text-align: right;\">\n",
       "      <th></th>\n",
       "      <th>time</th>\n",
       "      <th>src_user</th>\n",
       "      <th>dest_user</th>\n",
       "      <th>source computer</th>\n",
       "      <th>destination computer</th>\n",
       "      <th>authentication type</th>\n",
       "      <th>logon type</th>\n",
       "      <th>authentication orientation</th>\n",
       "      <th>success/failure</th>\n",
       "      <th>day</th>\n",
       "    </tr>\n",
       "  </thead>\n",
       "  <tbody>\n",
       "    <tr>\n",
       "      <th>620080501</th>\n",
       "      <td>4521322</td>\n",
       "      <td>U341@DOM1</td>\n",
       "      <td>U341@DOM1</td>\n",
       "      <td>C612</td>\n",
       "      <td>C612</td>\n",
       "      <td>?</td>\n",
       "      <td>Network</td>\n",
       "      <td>LogOff</td>\n",
       "      <td>Success</td>\n",
       "      <td>53</td>\n",
       "    </tr>\n",
       "    <tr>\n",
       "      <th>99001974</th>\n",
       "      <td>1490866</td>\n",
       "      <td>C2070$@DOM1</td>\n",
       "      <td>C2070$@DOM1</td>\n",
       "      <td>C2071</td>\n",
       "      <td>C2071</td>\n",
       "      <td>?</td>\n",
       "      <td>?</td>\n",
       "      <td>TGT</td>\n",
       "      <td>Success</td>\n",
       "      <td>18</td>\n",
       "    </tr>\n",
       "  </tbody>\n",
       "</table>\n",
       "</div>"
      ],
      "text/plain": [
       "              time     src_user    dest_user source computer  \\\n",
       "620080501  4521322    U341@DOM1    U341@DOM1            C612   \n",
       "99001974   1490866  C2070$@DOM1  C2070$@DOM1           C2071   \n",
       "\n",
       "          destination computer authentication type logon type  \\\n",
       "620080501                 C612                   ?    Network   \n",
       "99001974                 C2071                   ?          ?   \n",
       "\n",
       "          authentication orientation success/failure  day  \n",
       "620080501                     LogOff         Success   53  \n",
       "99001974                         TGT         Success   18  "
      ]
     },
     "execution_count": 16,
     "metadata": {},
     "output_type": "execute_result"
    }
   ],
   "source": [
    "pandas_lanl.sample(2)"
   ]
  },
  {
   "cell_type": "code",
   "execution_count": null,
   "id": "b9c479ab",
   "metadata": {},
   "outputs": [],
   "source": []
  },
  {
   "cell_type": "code",
   "execution_count": null,
   "id": "bdd1c88c",
   "metadata": {},
   "outputs": [],
   "source": []
  },
  {
   "cell_type": "code",
   "execution_count": null,
   "id": "768861ce",
   "metadata": {},
   "outputs": [],
   "source": []
  },
  {
   "cell_type": "code",
   "execution_count": null,
   "id": "f999cc88",
   "metadata": {},
   "outputs": [],
   "source": []
  },
  {
   "cell_type": "code",
   "execution_count": null,
   "id": "85834a05",
   "metadata": {},
   "outputs": [],
   "source": []
  },
  {
   "cell_type": "code",
   "execution_count": null,
   "id": "da7bf688",
   "metadata": {},
   "outputs": [],
   "source": []
  },
  {
   "cell_type": "code",
   "execution_count": 1,
   "id": "ba8ed54e",
   "metadata": {},
   "outputs": [],
   "source": [
    "####decide to play with unique test data \n",
    "import pandas as pd \n",
    "import torch\n",
    "from torch import Tensor"
   ]
  },
  {
   "cell_type": "code",
   "execution_count": 2,
   "id": "1ed39cbb",
   "metadata": {},
   "outputs": [
    {
     "name": "stderr",
     "output_type": "stream",
     "text": [
      "/tmp/ipykernel_450327/2683578649.py:1: DtypeWarning: Columns (0,9) have mixed types. Specify dtype option on import or set low_memory=False.\n",
      "  pandas_lanl = pd.read_csv(\"../lm-vol/LANL_test_NTLM_Pikachu_filter.csv\")\n"
     ]
    }
   ],
   "source": [
    "\n",
    "pandas_lanl = pd.read_csv(\"../lm-vol/LANL_test_NTLM_Pikachu_filter.csv\")"
   ]
  },
  {
   "cell_type": "code",
   "execution_count": 3,
   "id": "41003e0f",
   "metadata": {},
   "outputs": [
    {
     "data": {
      "text/plain": [
       "(3590236, 12)"
      ]
     },
     "execution_count": 3,
     "metadata": {},
     "output_type": "execute_result"
    }
   ],
   "source": [
    "pandas_lanl.shape"
   ]
  },
  {
   "cell_type": "code",
   "execution_count": null,
   "id": "7a2bba64",
   "metadata": {},
   "outputs": [],
   "source": []
  },
  {
   "cell_type": "code",
   "execution_count": 4,
   "id": "a8dd5c04",
   "metadata": {},
   "outputs": [
    {
     "data": {
      "text/html": [
       "<div>\n",
       "<style scoped>\n",
       "    .dataframe tbody tr th:only-of-type {\n",
       "        vertical-align: middle;\n",
       "    }\n",
       "\n",
       "    .dataframe tbody tr th {\n",
       "        vertical-align: top;\n",
       "    }\n",
       "\n",
       "    .dataframe thead th {\n",
       "        text-align: right;\n",
       "    }\n",
       "</style>\n",
       "<table border=\"1\" class=\"dataframe\">\n",
       "  <thead>\n",
       "    <tr style=\"text-align: right;\">\n",
       "      <th></th>\n",
       "      <th>source user@domain</th>\n",
       "      <th>destination computer</th>\n",
       "    </tr>\n",
       "  </thead>\n",
       "  <tbody>\n",
       "    <tr>\n",
       "      <th>2718838</th>\n",
       "      <td>U9336@DOM1</td>\n",
       "      <td>C92</td>\n",
       "    </tr>\n",
       "    <tr>\n",
       "      <th>2317722</th>\n",
       "      <td>U14@DOM1</td>\n",
       "      <td>C433</td>\n",
       "    </tr>\n",
       "    <tr>\n",
       "      <th>1369727</th>\n",
       "      <td>U7539@DOM1</td>\n",
       "      <td>C1015</td>\n",
       "    </tr>\n",
       "    <tr>\n",
       "      <th>1930436</th>\n",
       "      <td>U4003@DOM1</td>\n",
       "      <td>C5618</td>\n",
       "    </tr>\n",
       "    <tr>\n",
       "      <th>2664098</th>\n",
       "      <td>U7159@DOM1</td>\n",
       "      <td>C625</td>\n",
       "    </tr>\n",
       "  </tbody>\n",
       "</table>\n",
       "</div>"
      ],
      "text/plain": [
       "        source user@domain destination computer\n",
       "2718838         U9336@DOM1                  C92\n",
       "2317722           U14@DOM1                 C433\n",
       "1369727         U7539@DOM1                C1015\n",
       "1930436         U4003@DOM1                C5618\n",
       "2664098         U7159@DOM1                 C625"
      ]
     },
     "execution_count": 4,
     "metadata": {},
     "output_type": "execute_result"
    }
   ],
   "source": [
    "client_service = pandas_lanl[['source user@domain','destination computer']].copy()\n",
    "client_service.sample(5)"
   ]
  },
  {
   "cell_type": "code",
   "execution_count": 5,
   "id": "8524a7e4",
   "metadata": {},
   "outputs": [],
   "source": [
    "#df.rename(columns={\"A\": \"a\", \"B\": \"c\"})\n",
    "client_service = client_service.rename(columns={\"source user@domain\":\"client\",\"destination computer\":\"service\"})"
   ]
  },
  {
   "cell_type": "code",
   "execution_count": 6,
   "id": "04386391",
   "metadata": {},
   "outputs": [
    {
     "name": "stdout",
     "output_type": "stream",
     "text": [
      "                clientId  mappedID\n",
      "0     source user@domain         0\n",
      "1              U898@DOM1         1\n",
      "2               U12@DOM1         2\n",
      "3               U14@DOM1         3\n",
      "4               U51@DOM1         4\n",
      "...                  ...       ...\n",
      "8684         U3998@C2106      8684\n",
      "8685        U1718@C17388      8685\n",
      "8686             U9298@?      8686\n",
      "8687          U1066@DOM1      8687\n",
      "8688          U3648@DOM1      8688\n",
      "\n",
      "[8689 rows x 2 columns]\n"
     ]
    }
   ],
   "source": [
    "unique_client_id = client_service['client'].unique()\n",
    "unique_client_id = pd.DataFrame(data={\n",
    "     'clientId': unique_client_id,\n",
    "     'mappedID': pd.RangeIndex(len(unique_client_id)),\n",
    " })\n",
    "\n",
    "print(unique_client_id)\n",
    "\n",
    "\n",
    "\n",
    "unique_service_id = client_service['service'].unique()\n",
    "unique_service_id = pd.DataFrame(data={\n",
    "     'serviceId': unique_service_id,\n",
    "     'mappedID': pd.RangeIndex(len(unique_service_id)),\n",
    " })"
   ]
  },
  {
   "cell_type": "code",
   "execution_count": 7,
   "id": "c4f9e40d",
   "metadata": {},
   "outputs": [
    {
     "name": "stdout",
     "output_type": "stream",
     "text": [
      "8689 8215\n"
     ]
    }
   ],
   "source": [
    "print(len(unique_client_id), len(unique_service_id))"
   ]
  },
  {
   "cell_type": "code",
   "execution_count": 8,
   "id": "4534aba5",
   "metadata": {},
   "outputs": [
    {
     "data": {
      "text/html": [
       "<div>\n",
       "<style scoped>\n",
       "    .dataframe tbody tr th:only-of-type {\n",
       "        vertical-align: middle;\n",
       "    }\n",
       "\n",
       "    .dataframe tbody tr th {\n",
       "        vertical-align: top;\n",
       "    }\n",
       "\n",
       "    .dataframe thead th {\n",
       "        text-align: right;\n",
       "    }\n",
       "</style>\n",
       "<table border=\"1\" class=\"dataframe\">\n",
       "  <thead>\n",
       "    <tr style=\"text-align: right;\">\n",
       "      <th></th>\n",
       "      <th>client</th>\n",
       "      <th>service</th>\n",
       "    </tr>\n",
       "  </thead>\n",
       "  <tbody>\n",
       "    <tr>\n",
       "      <th>0</th>\n",
       "      <td>source user@domain</td>\n",
       "      <td>destination computer</td>\n",
       "    </tr>\n",
       "    <tr>\n",
       "      <th>1</th>\n",
       "      <td>U898@DOM1</td>\n",
       "      <td>C2944</td>\n",
       "    </tr>\n",
       "    <tr>\n",
       "      <th>2</th>\n",
       "      <td>U12@DOM1</td>\n",
       "      <td>C368</td>\n",
       "    </tr>\n",
       "    <tr>\n",
       "      <th>3</th>\n",
       "      <td>U14@DOM1</td>\n",
       "      <td>C421</td>\n",
       "    </tr>\n",
       "    <tr>\n",
       "      <th>4</th>\n",
       "      <td>U51@DOM1</td>\n",
       "      <td>C1487</td>\n",
       "    </tr>\n",
       "    <tr>\n",
       "      <th>...</th>\n",
       "      <td>...</td>\n",
       "      <td>...</td>\n",
       "    </tr>\n",
       "    <tr>\n",
       "      <th>3590231</th>\n",
       "      <td>U194@DOM1</td>\n",
       "      <td>C10</td>\n",
       "    </tr>\n",
       "    <tr>\n",
       "      <th>3590232</th>\n",
       "      <td>U2@DOM1</td>\n",
       "      <td>C7</td>\n",
       "    </tr>\n",
       "    <tr>\n",
       "      <th>3590233</th>\n",
       "      <td>U68@DOM1</td>\n",
       "      <td>C7</td>\n",
       "    </tr>\n",
       "    <tr>\n",
       "      <th>3590234</th>\n",
       "      <td>U94@DOM1</td>\n",
       "      <td>C7</td>\n",
       "    </tr>\n",
       "    <tr>\n",
       "      <th>3590235</th>\n",
       "      <td>U244@C2769</td>\n",
       "      <td>C2769</td>\n",
       "    </tr>\n",
       "  </tbody>\n",
       "</table>\n",
       "<p>3590236 rows × 2 columns</p>\n",
       "</div>"
      ],
      "text/plain": [
       "                     client               service\n",
       "0        source user@domain  destination computer\n",
       "1                 U898@DOM1                 C2944\n",
       "2                  U12@DOM1                  C368\n",
       "3                  U14@DOM1                  C421\n",
       "4                  U51@DOM1                 C1487\n",
       "...                     ...                   ...\n",
       "3590231           U194@DOM1                   C10\n",
       "3590232             U2@DOM1                    C7\n",
       "3590233            U68@DOM1                    C7\n",
       "3590234            U94@DOM1                    C7\n",
       "3590235          U244@C2769                 C2769\n",
       "\n",
       "[3590236 rows x 2 columns]"
      ]
     },
     "execution_count": 8,
     "metadata": {},
     "output_type": "execute_result"
    }
   ],
   "source": [
    "client_service"
   ]
  },
  {
   "cell_type": "code",
   "execution_count": 9,
   "id": "eaa952aa",
   "metadata": {},
   "outputs": [
    {
     "name": "stdout",
     "output_type": "stream",
     "text": [
      "tensor([[   0,    1,    2,  ...,   52,    8, 1030],\n",
      "        [   0,    1,    2,  ...,    6,    6,   22]])\n"
     ]
    }
   ],
   "source": [
    "# Perform merge to obtain the edges from users and movies:\n",
    "client_id = pd.merge(client_service['client'], unique_client_id, left_on='client', right_on='clientId', how='left')\n",
    "client_id = torch.from_numpy(client_id['mappedID'].values)\n",
    "service_id = pd.merge(client_service['service'], unique_service_id, left_on='service', right_on='serviceId', how='left')\n",
    "service_id = torch.from_numpy(service_id['mappedID'].values)\n",
    "\n",
    "# following PyG semantics:\n",
    "edge_index_client_to_service = torch.stack([client_id, service_id], dim=0)\n",
    "\n",
    "print(edge_index_client_to_service)\n"
   ]
  },
  {
   "cell_type": "code",
   "execution_count": 10,
   "id": "f4d3f11a",
   "metadata": {},
   "outputs": [],
   "source": [
    "from torch_geometric.data import HeteroData\n",
    "import torch_geometric.transforms as T\n"
   ]
  },
  {
   "cell_type": "code",
   "execution_count": 11,
   "id": "c5145fb4",
   "metadata": {},
   "outputs": [],
   "source": [
    "# pip install pyg-lib torch-scatter torch-sparse torch-cluster torch-spline-conv torch-geometric -f https://data.pyg.org/whl/torch-1.13.0+cpu.html"
   ]
  },
  {
   "cell_type": "code",
   "execution_count": 12,
   "id": "6c0fc5e5",
   "metadata": {},
   "outputs": [],
   "source": [
    "from torch_geometric.data import HeteroData\n",
    "import torch_geometric.transforms as T\n",
    "\n",
    "data = HeteroData()\n",
    "data[\"client\"].node_id = torch.arange(len(unique_client_id))\n",
    "data[\"service\"].node_id = torch.arange(len(unique_service_id))\n",
    "\n",
    "data[\"client\", \"auth_attempt\", \"service\"].edge_index = edge_index_client_to_service\n",
    "\n",
    "Transform = T.ToUndirected()\n",
    "data = Transform(data)"
   ]
  },
  {
   "cell_type": "code",
   "execution_count": 13,
   "id": "12a290b5",
   "metadata": {},
   "outputs": [],
   "source": [
    "transform = T.RandomLinkSplit(\n",
    "    num_val=0.1,  # TODO\n",
    "    num_test=0.1,  # TODO\n",
    "    disjoint_train_ratio=0.3,  # TODO\n",
    "    neg_sampling_ratio=2,  # TODO\n",
    "    add_negative_train_samples=False,  # TODO\n",
    "    edge_types=(\"client\", \"auth_attempt\", \"service\"),\n",
    "    rev_edge_types=(\"service\", \"rev_auth_attempt\", \"client\"),\n",
    ")\n",
    "\n",
    "train_data, val_data, test_data = transform(data)"
   ]
  },
  {
   "cell_type": "code",
   "execution_count": 14,
   "id": "10a85717",
   "metadata": {},
   "outputs": [
    {
     "name": "stdout",
     "output_type": "stream",
     "text": [
      "Sampled mini-batch:\n",
      "===================\n",
      "HeteroData(\n",
      "  \u001b[1mclient\u001b[0m={ node_id=[842] },\n",
      "  \u001b[1mservice\u001b[0m={ node_id=[487] },\n",
      "  \u001b[1m(client, auth_attempt, service)\u001b[0m={\n",
      "    edge_index=[2, 1959],\n",
      "    edge_label=[384],\n",
      "    edge_label_index=[2, 384],\n",
      "    input_id=[128]\n",
      "  },\n",
      "  \u001b[1m(service, rev_auth_attempt, client)\u001b[0m={ edge_index=[2, 6468] }\n",
      ")\n"
     ]
    }
   ],
   "source": [
    "from torch_geometric.loader import LinkNeighborLoader\n",
    "\n",
    "# Define seed edges:\n",
    "edge_label_index = train_data[\"client\", \"auth_attempt\", \"service\"].edge_label_index\n",
    "edge_label = train_data[\"client\", \"auth_attempt\", \"service\"].edge_label\n",
    "\n",
    "train_loader = LinkNeighborLoader(\n",
    "    data=train_data,  # TODO\n",
    "    num_neighbors=[20,10],  # TODO\n",
    "    neg_sampling_ratio=2,  # TODO\n",
    "    edge_label_index=((\"client\", \"auth_attempt\", \"service\"), edge_label_index),\n",
    "    edge_label=edge_label,\n",
    "    batch_size=128,\n",
    "    shuffle=True,\n",
    ")\n",
    "\n",
    "# Inspect a sample:\n",
    "sampled_data = next(iter(train_loader))\n",
    "\n",
    "print(\"Sampled mini-batch:\")\n",
    "print(\"===================\")\n",
    "print(sampled_data)"
   ]
  },
  {
   "cell_type": "code",
   "execution_count": 15,
   "id": "6be5cd26",
   "metadata": {},
   "outputs": [],
   "source": [
    "from torch_geometric.nn import SAGEConv, to_hetero"
   ]
  },
  {
   "cell_type": "code",
   "execution_count": 16,
   "id": "03a45ad5",
   "metadata": {},
   "outputs": [
    {
     "name": "stdout",
     "output_type": "stream",
     "text": [
      "Model(\n",
      "  (user_emb): Embedding(8689, 64)\n",
      "  (movie_emb): Embedding(8215, 64)\n",
      "  (gnn): GraphModule(\n",
      "    (conv1): ModuleDict(\n",
      "      (client__auth_attempt__service): SAGEConv(64, 64, aggr=mean)\n",
      "      (service__rev_auth_attempt__client): SAGEConv(64, 64, aggr=mean)\n",
      "    )\n",
      "    (conv2): ModuleDict(\n",
      "      (client__auth_attempt__service): SAGEConv(64, 64, aggr=mean)\n",
      "      (service__rev_auth_attempt__client): SAGEConv(64, 64, aggr=mean)\n",
      "    )\n",
      "  )\n",
      "  (classifier): Classifier()\n",
      ")\n"
     ]
    }
   ],
   "source": [
    "class GNN(torch.nn.Module):\n",
    "    def __init__(self, hidden_channels):\n",
    "        super().__init__()\n",
    "\n",
    "        self.conv1 = SAGEConv(hidden_channels, hidden_channels)\n",
    "        self.conv2 = SAGEConv(hidden_channels, hidden_channels)\n",
    "\n",
    "    def forward(self, x: Tensor, edge_index: Tensor) -> Tensor:\n",
    "        # Define a 2-layer GNN computation graph.\n",
    "        # Use a *single* `ReLU` non-linearity in-between.\n",
    "        # TODO:\n",
    "        x = self.conv1(x, edge_index).relu()\n",
    "        x = self.conv2(x, edge_index)\n",
    "        return x\n",
    "        # raise NotImplementedError\n",
    "\n",
    "# Our final classifier applies the dot-product between source and destination\n",
    "# node embeddings to derive edge-level predictions:\n",
    "class Classifier(torch.nn.Module):\n",
    "    def forward(self, x_user: Tensor, x_movie: Tensor, edge_label_index: Tensor) -> Tensor:\n",
    "        # Convert node embeddings to edge-level representations:\n",
    "        edge_feat_user = x_user[edge_label_index[0]]\n",
    "        edge_feat_movie = x_movie[edge_label_index[1]]\n",
    "\n",
    "        # Apply dot-product to get a prediction per supervision edge:\n",
    "        return (edge_feat_user * edge_feat_movie).sum(dim=-1)\n",
    "\n",
    "\n",
    "class Model(torch.nn.Module):\n",
    "    def __init__(self, hidden_channels):\n",
    "        super().__init__()\n",
    "        # Since the dataset does not come with rich features, we also learn two\n",
    "        # embedding matrices for users and movies:\n",
    "        # self.movie_lin = torch.nn.Linear(20, hidden_channels)\n",
    "        self.user_emb = torch.nn.Embedding(data[\"client\"].num_nodes, hidden_channels)\n",
    "        self.movie_emb = torch.nn.Embedding(data[\"service\"].num_nodes, hidden_channels)\n",
    "\n",
    "        # Instantiate homogeneous GNN:\n",
    "        self.gnn = GNN(hidden_channels)\n",
    "\n",
    "        # Convert GNN model into a heterogeneous variant:\n",
    "        self.gnn = to_hetero(self.gnn, metadata=data.metadata())\n",
    "\n",
    "        self.classifier = Classifier()\n",
    "\n",
    "    def forward(self, data: HeteroData) -> Tensor:\n",
    "        x_dict = {\n",
    "          \"client\": self.user_emb(data[\"client\"].node_id),\n",
    "          \"service\": self.movie_emb(data[\"service\"].node_id),\n",
    "        } \n",
    "\n",
    "        # `x_dict` holds feature matrices of all node types\n",
    "        # `edge_index_dict` holds all edge indices of all edge types\n",
    "        x_dict = self.gnn(x_dict, data.edge_index_dict)\n",
    "\n",
    "        pred = self.classifier(\n",
    "            x_dict[\"client\"],\n",
    "            x_dict[\"service\"],\n",
    "            data[\"client\", \"auth_attempt\", \"service\"].edge_label_index,\n",
    "        )\n",
    "\n",
    "        return pred\n",
    "\n",
    "        \n",
    "model = Model(hidden_channels=64)\n",
    "\n",
    "print(model)"
   ]
  },
  {
   "cell_type": "code",
   "execution_count": 17,
   "id": "040f51f6",
   "metadata": {},
   "outputs": [
    {
     "name": "stdout",
     "output_type": "stream",
     "text": [
      "Device: 'cpu'\n"
     ]
    },
    {
     "name": "stderr",
     "output_type": "stream",
     "text": [
      "  1%|▎                                                       | 37/6732 [01:55<5:48:34,  3.12s/it]\n"
     ]
    },
    {
     "ename": "KeyboardInterrupt",
     "evalue": "",
     "output_type": "error",
     "traceback": [
      "\u001b[0;31m---------------------------------------------------------------------------\u001b[0m",
      "\u001b[0;31mKeyboardInterrupt\u001b[0m                         Traceback (most recent call last)",
      "Cell \u001b[0;32mIn[17], line 32\u001b[0m\n\u001b[1;32m     28\u001b[0m loss \u001b[38;5;241m=\u001b[39m F\u001b[38;5;241m.\u001b[39mbinary_cross_entropy_with_logits(pred, sampled_data[\u001b[38;5;124m\"\u001b[39m\u001b[38;5;124mclient\u001b[39m\u001b[38;5;124m\"\u001b[39m, \u001b[38;5;124m\"\u001b[39m\u001b[38;5;124mauth_attempt\u001b[39m\u001b[38;5;124m\"\u001b[39m, \u001b[38;5;124m\"\u001b[39m\u001b[38;5;124mservice\u001b[39m\u001b[38;5;124m\"\u001b[39m]\u001b[38;5;241m.\u001b[39medge_label)\n\u001b[1;32m     30\u001b[0m \u001b[38;5;66;03m# raise NotImplementedError\u001b[39;00m\n\u001b[0;32m---> 32\u001b[0m \u001b[43mloss\u001b[49m\u001b[38;5;241;43m.\u001b[39;49m\u001b[43mbackward\u001b[49m\u001b[43m(\u001b[49m\u001b[43m)\u001b[49m\n\u001b[1;32m     33\u001b[0m optimizer\u001b[38;5;241m.\u001b[39mstep()\n\u001b[1;32m     34\u001b[0m total_loss \u001b[38;5;241m+\u001b[39m\u001b[38;5;241m=\u001b[39m \u001b[38;5;28mfloat\u001b[39m(loss) \u001b[38;5;241m*\u001b[39m pred\u001b[38;5;241m.\u001b[39mnumel()\n",
      "File \u001b[0;32m/usr/local/lib/python3.8/site-packages/torch/_tensor.py:488\u001b[0m, in \u001b[0;36mTensor.backward\u001b[0;34m(self, gradient, retain_graph, create_graph, inputs)\u001b[0m\n\u001b[1;32m    478\u001b[0m \u001b[38;5;28;01mif\u001b[39;00m has_torch_function_unary(\u001b[38;5;28mself\u001b[39m):\n\u001b[1;32m    479\u001b[0m     \u001b[38;5;28;01mreturn\u001b[39;00m handle_torch_function(\n\u001b[1;32m    480\u001b[0m         Tensor\u001b[38;5;241m.\u001b[39mbackward,\n\u001b[1;32m    481\u001b[0m         (\u001b[38;5;28mself\u001b[39m,),\n\u001b[0;32m   (...)\u001b[0m\n\u001b[1;32m    486\u001b[0m         inputs\u001b[38;5;241m=\u001b[39minputs,\n\u001b[1;32m    487\u001b[0m     )\n\u001b[0;32m--> 488\u001b[0m \u001b[43mtorch\u001b[49m\u001b[38;5;241;43m.\u001b[39;49m\u001b[43mautograd\u001b[49m\u001b[38;5;241;43m.\u001b[39;49m\u001b[43mbackward\u001b[49m\u001b[43m(\u001b[49m\n\u001b[1;32m    489\u001b[0m \u001b[43m    \u001b[49m\u001b[38;5;28;43mself\u001b[39;49m\u001b[43m,\u001b[49m\u001b[43m \u001b[49m\u001b[43mgradient\u001b[49m\u001b[43m,\u001b[49m\u001b[43m \u001b[49m\u001b[43mretain_graph\u001b[49m\u001b[43m,\u001b[49m\u001b[43m \u001b[49m\u001b[43mcreate_graph\u001b[49m\u001b[43m,\u001b[49m\u001b[43m \u001b[49m\u001b[43minputs\u001b[49m\u001b[38;5;241;43m=\u001b[39;49m\u001b[43minputs\u001b[49m\n\u001b[1;32m    490\u001b[0m \u001b[43m\u001b[49m\u001b[43m)\u001b[49m\n",
      "File \u001b[0;32m/usr/local/lib/python3.8/site-packages/torch/autograd/__init__.py:197\u001b[0m, in \u001b[0;36mbackward\u001b[0;34m(tensors, grad_tensors, retain_graph, create_graph, grad_variables, inputs)\u001b[0m\n\u001b[1;32m    192\u001b[0m     retain_graph \u001b[38;5;241m=\u001b[39m create_graph\n\u001b[1;32m    194\u001b[0m \u001b[38;5;66;03m# The reason we repeat same the comment below is that\u001b[39;00m\n\u001b[1;32m    195\u001b[0m \u001b[38;5;66;03m# some Python versions print out the first line of a multi-line function\u001b[39;00m\n\u001b[1;32m    196\u001b[0m \u001b[38;5;66;03m# calls in the traceback and some print out the last line\u001b[39;00m\n\u001b[0;32m--> 197\u001b[0m \u001b[43mVariable\u001b[49m\u001b[38;5;241;43m.\u001b[39;49m\u001b[43m_execution_engine\u001b[49m\u001b[38;5;241;43m.\u001b[39;49m\u001b[43mrun_backward\u001b[49m\u001b[43m(\u001b[49m\u001b[43m  \u001b[49m\u001b[38;5;66;43;03m# Calls into the C++ engine to run the backward pass\u001b[39;49;00m\n\u001b[1;32m    198\u001b[0m \u001b[43m    \u001b[49m\u001b[43mtensors\u001b[49m\u001b[43m,\u001b[49m\u001b[43m \u001b[49m\u001b[43mgrad_tensors_\u001b[49m\u001b[43m,\u001b[49m\u001b[43m \u001b[49m\u001b[43mretain_graph\u001b[49m\u001b[43m,\u001b[49m\u001b[43m \u001b[49m\u001b[43mcreate_graph\u001b[49m\u001b[43m,\u001b[49m\u001b[43m \u001b[49m\u001b[43minputs\u001b[49m\u001b[43m,\u001b[49m\n\u001b[1;32m    199\u001b[0m \u001b[43m    \u001b[49m\u001b[43mallow_unreachable\u001b[49m\u001b[38;5;241;43m=\u001b[39;49m\u001b[38;5;28;43;01mTrue\u001b[39;49;00m\u001b[43m,\u001b[49m\u001b[43m \u001b[49m\u001b[43maccumulate_grad\u001b[49m\u001b[38;5;241;43m=\u001b[39;49m\u001b[38;5;28;43;01mTrue\u001b[39;49;00m\u001b[43m)\u001b[49m\n",
      "\u001b[0;31mKeyboardInterrupt\u001b[0m: "
     ]
    }
   ],
   "source": [
    "import tqdm\n",
    "import torch.nn.functional as F\n",
    "\n",
    "device = torch.device('cuda' if torch.cuda.is_available() else 'cpu')\n",
    "print(f\"Device: '{device}'\")\n",
    "\n",
    "model = model.to(device)\n",
    "optimizer = torch.optim.Adam(model.parameters(), lr=0.001)\n",
    "\n",
    "for epoch in range(1, 8):\n",
    "    total_loss = total_examples = 0\n",
    "    for sampled_data in tqdm.tqdm(train_loader):\n",
    "        optimizer.zero_grad()\n",
    "\n",
    "        \n",
    "        # print(sampled_data)\n",
    "\n",
    "        # TODO: Move `sampled_data` to the respective `device`\n",
    "        sampled_data = sampled_data.to(device)\n",
    "        # TODO: Run `forward` pass of the model\n",
    "        pred = model.forward(sampled_data)\n",
    "\n",
    "        # print(pred.size() == sampled_data[\"user\", \"rates\", \"movie\"].edge_label.size())\n",
    "        # print(sampled_data[\"user\", \"rates\", \"movie\"].edge_label)\n",
    "        # TODO: Apply binary cross entropy via\n",
    "        # `F.binary_cross_entropy_with_logits(pred, ground_truth)`\n",
    "        \n",
    "        loss = F.binary_cross_entropy_with_logits(pred, sampled_data[\"client\", \"auth_attempt\", \"service\"].edge_label)\n",
    "\n",
    "        # raise NotImplementedError\n",
    "\n",
    "        loss.backward()\n",
    "        optimizer.step()\n",
    "        total_loss += float(loss) * pred.numel()\n",
    "        total_examples += pred.numel()\n",
    "    print(f\"Epoch: {epoch:03d}, Loss: {total_loss / total_examples:.4f}\")"
   ]
  },
  {
   "cell_type": "code",
   "execution_count": null,
   "id": "0a28c3d4",
   "metadata": {},
   "outputs": [],
   "source": [
    "torch.save(model, '../lm-vol/torchmodelntlmpika')"
   ]
  },
  {
   "cell_type": "code",
   "execution_count": null,
   "id": "97d163ec",
   "metadata": {},
   "outputs": [],
   "source": []
  },
  {
   "cell_type": "code",
   "execution_count": null,
   "id": "c56a8bc9",
   "metadata": {},
   "outputs": [],
   "source": []
  }
 ],
 "metadata": {
  "kernelspec": {
   "display_name": "Python 3 (ipykernel)",
   "language": "python",
   "name": "python3"
  },
  "language_info": {
   "codemirror_mode": {
    "name": "ipython",
    "version": 3
   },
   "file_extension": ".py",
   "mimetype": "text/x-python",
   "name": "python",
   "nbconvert_exporter": "python",
   "pygments_lexer": "ipython3",
   "version": "3.8.10"
  }
 },
 "nbformat": 4,
 "nbformat_minor": 5
}
