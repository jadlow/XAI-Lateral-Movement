{
 "cells": [
  {
   "cell_type": "code",
   "execution_count": 1,
   "id": "2428e294",
   "metadata": {},
   "outputs": [],
   "source": [
    "from pyarrow import csv"
   ]
  },
  {
   "cell_type": "code",
   "execution_count": 2,
   "id": "35d23708",
   "metadata": {},
   "outputs": [],
   "source": [
    "read_options = csv.ReadOptions(\n",
    "               column_names=[\"time\",\"source user@domain\",\"destination user@domain\", \\\n",
    "                             \"source computer\",\"destination computer\",\"authentication type\", \\\n",
    "                             \"logon type\",\"authentication orientation\",\"success/failure\",\"day\"])\n"
   ]
  },
  {
   "cell_type": "code",
   "execution_count": null,
   "id": "143a4842",
   "metadata": {},
   "outputs": [],
   "source": [
    "table_file = csv.read_csv('../lm-vol/LANL_train.csv', read_options=read_options)"
   ]
  },
  {
   "cell_type": "code",
   "execution_count": null,
   "id": "6f9f7629",
   "metadata": {},
   "outputs": [],
   "source": [
    "help(table_file.filter)"
   ]
  },
  {
   "cell_type": "code",
   "execution_count": null,
   "id": "b1f3cb82",
   "metadata": {},
   "outputs": [],
   "source": [
    "pandas_lanl = table_file.to_pandas()"
   ]
  },
  {
   "cell_type": "code",
   "execution_count": null,
   "id": "c24134d1",
   "metadata": {},
   "outputs": [],
   "source": [
    "pandas_lanl.shape"
   ]
  },
  {
   "cell_type": "code",
   "execution_count": null,
   "id": "d2eca39a",
   "metadata": {},
   "outputs": [],
   "source": [
    "pandas_lanl.columns"
   ]
  },
  {
   "cell_type": "code",
   "execution_count": 10,
   "id": "033c350d",
   "metadata": {},
   "outputs": [],
   "source": [
    "import pandas as pd \n",
    "import torch\n",
    "from torch import Tensor"
   ]
  },
  {
   "cell_type": "code",
   "execution_count": 11,
   "id": "83e16b51",
   "metadata": {},
   "outputs": [
    {
     "data": {
      "text/html": [
       "<div>\n",
       "<style scoped>\n",
       "    .dataframe tbody tr th:only-of-type {\n",
       "        vertical-align: middle;\n",
       "    }\n",
       "\n",
       "    .dataframe tbody tr th {\n",
       "        vertical-align: top;\n",
       "    }\n",
       "\n",
       "    .dataframe thead th {\n",
       "        text-align: right;\n",
       "    }\n",
       "</style>\n",
       "<table border=\"1\" class=\"dataframe\">\n",
       "  <thead>\n",
       "    <tr style=\"text-align: right;\">\n",
       "      <th></th>\n",
       "      <th>time</th>\n",
       "      <th>source user@domain</th>\n",
       "      <th>destination user@domain</th>\n",
       "      <th>source computer</th>\n",
       "      <th>destination computer</th>\n",
       "      <th>authentication type</th>\n",
       "      <th>logon type</th>\n",
       "      <th>authentication orientation</th>\n",
       "      <th>success/failure</th>\n",
       "      <th>day</th>\n",
       "    </tr>\n",
       "  </thead>\n",
       "  <tbody>\n",
       "    <tr>\n",
       "      <th>171</th>\n",
       "      <td>170.0</td>\n",
       "      <td>760075</td>\n",
       "      <td>U1653@DOM1</td>\n",
       "      <td>C17693</td>\n",
       "      <td>C395</td>\n",
       "      <td>U1653@DOM1</td>\n",
       "      <td>NTLM</td>\n",
       "      <td>Network</td>\n",
       "      <td>LogOn</td>\n",
       "      <td>Success</td>\n",
       "    </tr>\n",
       "    <tr>\n",
       "      <th>246</th>\n",
       "      <td>245.0</td>\n",
       "      <td>767813</td>\n",
       "      <td>U66@DOM1</td>\n",
       "      <td>C17693</td>\n",
       "      <td>C2944</td>\n",
       "      <td>U66@DOM1</td>\n",
       "      <td>NTLM</td>\n",
       "      <td>Network</td>\n",
       "      <td>LogOn</td>\n",
       "      <td>Success</td>\n",
       "    </tr>\n",
       "    <tr>\n",
       "      <th>415</th>\n",
       "      <td>414.0</td>\n",
       "      <td>1076742</td>\n",
       "      <td>U453@DOM1</td>\n",
       "      <td>C17693</td>\n",
       "      <td>C2388</td>\n",
       "      <td>U453@DOM1</td>\n",
       "      <td>NTLM</td>\n",
       "      <td>Network</td>\n",
       "      <td>LogOn</td>\n",
       "      <td>Success</td>\n",
       "    </tr>\n",
       "    <tr>\n",
       "      <th>97</th>\n",
       "      <td>96.0</td>\n",
       "      <td>739706</td>\n",
       "      <td>U1600@DOM1</td>\n",
       "      <td>C17693</td>\n",
       "      <td>C92</td>\n",
       "      <td>U1600@DOM1</td>\n",
       "      <td>NTLM</td>\n",
       "      <td>Network</td>\n",
       "      <td>LogOn</td>\n",
       "      <td>Success</td>\n",
       "    </tr>\n",
       "    <tr>\n",
       "      <th>250</th>\n",
       "      <td>249.0</td>\n",
       "      <td>768546</td>\n",
       "      <td>U4353@DOM1</td>\n",
       "      <td>C17693</td>\n",
       "      <td>C17860</td>\n",
       "      <td>U4353@DOM1</td>\n",
       "      <td>NTLM</td>\n",
       "      <td>Network</td>\n",
       "      <td>LogOn</td>\n",
       "      <td>Success</td>\n",
       "    </tr>\n",
       "  </tbody>\n",
       "</table>\n",
       "</div>"
      ],
      "text/plain": [
       "      time source user@domain destination user@domain source computer  \\\n",
       "171  170.0             760075              U1653@DOM1          C17693   \n",
       "246  245.0             767813                U66@DOM1          C17693   \n",
       "415  414.0            1076742               U453@DOM1          C17693   \n",
       "97    96.0             739706              U1600@DOM1          C17693   \n",
       "250  249.0             768546              U4353@DOM1          C17693   \n",
       "\n",
       "    destination computer authentication type logon type  \\\n",
       "171                 C395          U1653@DOM1       NTLM   \n",
       "246                C2944            U66@DOM1       NTLM   \n",
       "415                C2388           U453@DOM1       NTLM   \n",
       "97                   C92          U1600@DOM1       NTLM   \n",
       "250               C17860          U4353@DOM1       NTLM   \n",
       "\n",
       "    authentication orientation success/failure      day  \n",
       "171                    Network           LogOn  Success  \n",
       "246                    Network           LogOn  Success  \n",
       "415                    Network           LogOn  Success  \n",
       "97                     Network           LogOn  Success  \n",
       "250                    Network           LogOn  Success  "
      ]
     },
     "execution_count": 11,
     "metadata": {},
     "output_type": "execute_result"
    }
   ],
   "source": [
    "pandas_lanl.sample(5)"
   ]
  },
  {
   "cell_type": "code",
   "execution_count": 10,
   "id": "34addd1c",
   "metadata": {},
   "outputs": [],
   "source": [
    "pandas_lanl = pandas_lanl.rename(columns={'source user@domain': \"src_user\", 'destination user@domain': \"dest_user\"})"
   ]
  },
  {
   "cell_type": "code",
   "execution_count": 11,
   "id": "de17e1d3",
   "metadata": {},
   "outputs": [],
   "source": [
    "df = pandas_lanl ##shallow copy lol"
   ]
  },
  {
   "cell_type": "code",
   "execution_count": 12,
   "id": "64872f46",
   "metadata": {},
   "outputs": [
    {
     "data": {
      "text/plain": [
       "Index(['time', 'src_user', 'dest_user', 'source computer',\n",
       "       'destination computer', 'authentication type', 'logon type',\n",
       "       'authentication orientation', 'success/failure', 'day'],\n",
       "      dtype='object')"
      ]
     },
     "execution_count": 12,
     "metadata": {},
     "output_type": "execute_result"
    }
   ],
   "source": [
    "df.columns"
   ]
  },
  {
   "cell_type": "code",
   "execution_count": 13,
   "id": "b4b14458",
   "metadata": {},
   "outputs": [],
   "source": [
    "df = df[(df['src_user'].str.contains('LOCAL')==False) & (df['src_user'].str.contains('SYSTEM')==False) & \n",
    "        (df['src_user'].str.contains('ANONYMOUS')==False) & (df['src_user'].str.contains('ADMINISTRARTOR')==False) &\n",
    "        (df['src_user'].str.contains('$')==False) \n",
    "       ]\n",
    "\n",
    "df = df[(df['dest_user'].str.contains('LOCAL')==False) & (df['dest_user'].str.contains('SYSTEM')==False) & \n",
    "        (df['dest_user'].str.contains('ANONYMOUS')==False) & (df['dest_user'].str.contains('ADMINISTRARTOR')==False) &\n",
    "        (df['dest_user'].str.contains('$')==False) \n",
    "       ]\n"
   ]
  },
  {
   "cell_type": "code",
   "execution_count": 14,
   "id": "21422d8d",
   "metadata": {},
   "outputs": [
    {
     "data": {
      "text/plain": [
       "(0, 10)"
      ]
     },
     "execution_count": 14,
     "metadata": {},
     "output_type": "execute_result"
    }
   ],
   "source": [
    "df.shape"
   ]
  },
  {
   "cell_type": "code",
   "execution_count": 16,
   "id": "3709e017",
   "metadata": {},
   "outputs": [
    {
     "data": {
      "text/html": [
       "<div>\n",
       "<style scoped>\n",
       "    .dataframe tbody tr th:only-of-type {\n",
       "        vertical-align: middle;\n",
       "    }\n",
       "\n",
       "    .dataframe tbody tr th {\n",
       "        vertical-align: top;\n",
       "    }\n",
       "\n",
       "    .dataframe thead th {\n",
       "        text-align: right;\n",
       "    }\n",
       "</style>\n",
       "<table border=\"1\" class=\"dataframe\">\n",
       "  <thead>\n",
       "    <tr style=\"text-align: right;\">\n",
       "      <th></th>\n",
       "      <th>time</th>\n",
       "      <th>src_user</th>\n",
       "      <th>dest_user</th>\n",
       "      <th>source computer</th>\n",
       "      <th>destination computer</th>\n",
       "      <th>authentication type</th>\n",
       "      <th>logon type</th>\n",
       "      <th>authentication orientation</th>\n",
       "      <th>success/failure</th>\n",
       "      <th>day</th>\n",
       "    </tr>\n",
       "  </thead>\n",
       "  <tbody>\n",
       "    <tr>\n",
       "      <th>620080501</th>\n",
       "      <td>4521322</td>\n",
       "      <td>U341@DOM1</td>\n",
       "      <td>U341@DOM1</td>\n",
       "      <td>C612</td>\n",
       "      <td>C612</td>\n",
       "      <td>?</td>\n",
       "      <td>Network</td>\n",
       "      <td>LogOff</td>\n",
       "      <td>Success</td>\n",
       "      <td>53</td>\n",
       "    </tr>\n",
       "    <tr>\n",
       "      <th>99001974</th>\n",
       "      <td>1490866</td>\n",
       "      <td>C2070$@DOM1</td>\n",
       "      <td>C2070$@DOM1</td>\n",
       "      <td>C2071</td>\n",
       "      <td>C2071</td>\n",
       "      <td>?</td>\n",
       "      <td>?</td>\n",
       "      <td>TGT</td>\n",
       "      <td>Success</td>\n",
       "      <td>18</td>\n",
       "    </tr>\n",
       "  </tbody>\n",
       "</table>\n",
       "</div>"
      ],
      "text/plain": [
       "              time     src_user    dest_user source computer  \\\n",
       "620080501  4521322    U341@DOM1    U341@DOM1            C612   \n",
       "99001974   1490866  C2070$@DOM1  C2070$@DOM1           C2071   \n",
       "\n",
       "          destination computer authentication type logon type  \\\n",
       "620080501                 C612                   ?    Network   \n",
       "99001974                 C2071                   ?          ?   \n",
       "\n",
       "          authentication orientation success/failure  day  \n",
       "620080501                     LogOff         Success   53  \n",
       "99001974                         TGT         Success   18  "
      ]
     },
     "execution_count": 16,
     "metadata": {},
     "output_type": "execute_result"
    }
   ],
   "source": [
    "pandas_lanl.sample(2)"
   ]
  },
  {
   "cell_type": "code",
   "execution_count": null,
   "id": "b9c479ab",
   "metadata": {},
   "outputs": [],
   "source": []
  },
  {
   "cell_type": "code",
   "execution_count": null,
   "id": "bdd1c88c",
   "metadata": {},
   "outputs": [],
   "source": []
  },
  {
   "cell_type": "code",
   "execution_count": null,
   "id": "768861ce",
   "metadata": {},
   "outputs": [],
   "source": []
  },
  {
   "cell_type": "code",
   "execution_count": null,
   "id": "f999cc88",
   "metadata": {},
   "outputs": [],
   "source": []
  },
  {
   "cell_type": "code",
   "execution_count": null,
   "id": "85834a05",
   "metadata": {},
   "outputs": [],
   "source": []
  },
  {
   "cell_type": "code",
   "execution_count": null,
   "id": "da7bf688",
   "metadata": {},
   "outputs": [],
   "source": []
  },
  {
   "cell_type": "code",
   "execution_count": 1,
   "id": "ba8ed54e",
   "metadata": {},
   "outputs": [],
   "source": [
    "####decide to play with unique test data \n",
    "import pandas as pd \n",
    "import torch\n",
    "from torch import Tensor"
   ]
  },
  {
   "cell_type": "code",
   "execution_count": 2,
   "id": "1ed39cbb",
   "metadata": {},
   "outputs": [],
   "source": [
    "\n",
    "pandas_lanl = pd.read_csv(\"../lm-vol/redteam_complete.csv\")"
   ]
  },
  {
   "cell_type": "code",
   "execution_count": 3,
   "id": "41003e0f",
   "metadata": {},
   "outputs": [
    {
     "data": {
      "text/plain": [
       "(739, 10)"
      ]
     },
     "execution_count": 3,
     "metadata": {},
     "output_type": "execute_result"
    }
   ],
   "source": [
    "pandas_lanl.shape"
   ]
  },
  {
   "cell_type": "code",
   "execution_count": 4,
   "id": "7a2bba64",
   "metadata": {},
   "outputs": [
    {
     "data": {
      "text/plain": [
       "Index(['Unnamed: 0', 'time', 'source', 'source_computer',\n",
       "       'destination_computer', 'destination', 'authentication_type',\n",
       "       'logon_type', 'authentication_orientation', 'Success'],\n",
       "      dtype='object')"
      ]
     },
     "execution_count": 4,
     "metadata": {},
     "output_type": "execute_result"
    }
   ],
   "source": [
    "pandas_lanl.columns"
   ]
  },
  {
   "cell_type": "code",
   "execution_count": 6,
   "id": "a8dd5c04",
   "metadata": {},
   "outputs": [
    {
     "data": {
      "text/html": [
       "<div>\n",
       "<style scoped>\n",
       "    .dataframe tbody tr th:only-of-type {\n",
       "        vertical-align: middle;\n",
       "    }\n",
       "\n",
       "    .dataframe tbody tr th {\n",
       "        vertical-align: top;\n",
       "    }\n",
       "\n",
       "    .dataframe thead th {\n",
       "        text-align: right;\n",
       "    }\n",
       "</style>\n",
       "<table border=\"1\" class=\"dataframe\">\n",
       "  <thead>\n",
       "    <tr style=\"text-align: right;\">\n",
       "      <th></th>\n",
       "      <th>source</th>\n",
       "      <th>destination_computer</th>\n",
       "    </tr>\n",
       "  </thead>\n",
       "  <tbody>\n",
       "    <tr>\n",
       "      <th>112</th>\n",
       "      <td>U5087@DOM1</td>\n",
       "      <td>C353</td>\n",
       "    </tr>\n",
       "    <tr>\n",
       "      <th>81</th>\n",
       "      <td>U349@DOM1</td>\n",
       "      <td>C3601</td>\n",
       "    </tr>\n",
       "    <tr>\n",
       "      <th>689</th>\n",
       "      <td>U3005@DOM1</td>\n",
       "      <td>C2012</td>\n",
       "    </tr>\n",
       "    <tr>\n",
       "      <th>357</th>\n",
       "      <td>U1289@DOM1</td>\n",
       "      <td>C2519</td>\n",
       "    </tr>\n",
       "    <tr>\n",
       "      <th>548</th>\n",
       "      <td>U66@DOM1</td>\n",
       "      <td>C3610</td>\n",
       "    </tr>\n",
       "  </tbody>\n",
       "</table>\n",
       "</div>"
      ],
      "text/plain": [
       "         source destination_computer\n",
       "112  U5087@DOM1                 C353\n",
       "81    U349@DOM1                C3601\n",
       "689  U3005@DOM1                C2012\n",
       "357  U1289@DOM1                C2519\n",
       "548    U66@DOM1                C3610"
      ]
     },
     "execution_count": 6,
     "metadata": {},
     "output_type": "execute_result"
    }
   ],
   "source": [
    "client_service = pandas_lanl[['source','destination_computer']].copy()\n",
    "client_service.sample(5)"
   ]
  },
  {
   "cell_type": "code",
   "execution_count": 7,
   "id": "8524a7e4",
   "metadata": {},
   "outputs": [],
   "source": [
    "#df.rename(columns={\"A\": \"a\", \"B\": \"c\"})\n",
    "client_service = client_service.rename(columns={\"source\":\"client\",\"destination_computer\":\"service\"})"
   ]
  },
  {
   "cell_type": "code",
   "execution_count": 8,
   "id": "04386391",
   "metadata": {},
   "outputs": [
    {
     "name": "stdout",
     "output_type": "stream",
     "text": [
      "        clientId  mappedID\n",
      "0      U620@DOM1         0\n",
      "1      U748@DOM1         1\n",
      "2     U6115@DOM1         2\n",
      "3      U636@DOM1         3\n",
      "4     U1723@DOM1         4\n",
      "..           ...       ...\n",
      "99    U8840@DOM1        99\n",
      "100   U1306@DOM1       100\n",
      "101   U3764@DOM1       101\n",
      "102  U1467@C3597       102\n",
      "103   U3406@DOM1       103\n",
      "\n",
      "[104 rows x 2 columns]\n"
     ]
    }
   ],
   "source": [
    "unique_client_id = client_service['client'].unique()\n",
    "unique_client_id = pd.DataFrame(data={\n",
    "     'clientId': unique_client_id,\n",
    "     'mappedID': pd.RangeIndex(len(unique_client_id)),\n",
    " })\n",
    "\n",
    "print(unique_client_id)\n",
    "\n",
    "\n",
    "\n",
    "unique_service_id = client_service['service'].unique()\n",
    "unique_service_id = pd.DataFrame(data={\n",
    "     'serviceId': unique_service_id,\n",
    "     'mappedID': pd.RangeIndex(len(unique_service_id)),\n",
    " })"
   ]
  },
  {
   "cell_type": "code",
   "execution_count": 9,
   "id": "c4f9e40d",
   "metadata": {},
   "outputs": [
    {
     "name": "stdout",
     "output_type": "stream",
     "text": [
      "104 295\n"
     ]
    }
   ],
   "source": [
    "print(len(unique_client_id), len(unique_service_id))"
   ]
  },
  {
   "cell_type": "code",
   "execution_count": 10,
   "id": "4534aba5",
   "metadata": {},
   "outputs": [
    {
     "data": {
      "text/html": [
       "<div>\n",
       "<style scoped>\n",
       "    .dataframe tbody tr th:only-of-type {\n",
       "        vertical-align: middle;\n",
       "    }\n",
       "\n",
       "    .dataframe tbody tr th {\n",
       "        vertical-align: top;\n",
       "    }\n",
       "\n",
       "    .dataframe thead th {\n",
       "        text-align: right;\n",
       "    }\n",
       "</style>\n",
       "<table border=\"1\" class=\"dataframe\">\n",
       "  <thead>\n",
       "    <tr style=\"text-align: right;\">\n",
       "      <th></th>\n",
       "      <th>client</th>\n",
       "      <th>service</th>\n",
       "    </tr>\n",
       "  </thead>\n",
       "  <tbody>\n",
       "    <tr>\n",
       "      <th>0</th>\n",
       "      <td>U620@DOM1</td>\n",
       "      <td>C1003</td>\n",
       "    </tr>\n",
       "    <tr>\n",
       "      <th>1</th>\n",
       "      <td>U748@DOM1</td>\n",
       "      <td>C305</td>\n",
       "    </tr>\n",
       "    <tr>\n",
       "      <th>2</th>\n",
       "      <td>U748@DOM1</td>\n",
       "      <td>C728</td>\n",
       "    </tr>\n",
       "    <tr>\n",
       "      <th>3</th>\n",
       "      <td>U6115@DOM1</td>\n",
       "      <td>C1173</td>\n",
       "    </tr>\n",
       "    <tr>\n",
       "      <th>4</th>\n",
       "      <td>U636@DOM1</td>\n",
       "      <td>C294</td>\n",
       "    </tr>\n",
       "    <tr>\n",
       "      <th>...</th>\n",
       "      <td>...</td>\n",
       "      <td>...</td>\n",
       "    </tr>\n",
       "    <tr>\n",
       "      <th>734</th>\n",
       "      <td>U655@DOM1</td>\n",
       "      <td>C828</td>\n",
       "    </tr>\n",
       "    <tr>\n",
       "      <th>735</th>\n",
       "      <td>U655@DOM1</td>\n",
       "      <td>C828</td>\n",
       "    </tr>\n",
       "    <tr>\n",
       "      <th>736</th>\n",
       "      <td>U655@DOM1</td>\n",
       "      <td>C828</td>\n",
       "    </tr>\n",
       "    <tr>\n",
       "      <th>737</th>\n",
       "      <td>U655@DOM1</td>\n",
       "      <td>C828</td>\n",
       "    </tr>\n",
       "    <tr>\n",
       "      <th>738</th>\n",
       "      <td>U737@DOM1</td>\n",
       "      <td>C108</td>\n",
       "    </tr>\n",
       "  </tbody>\n",
       "</table>\n",
       "<p>739 rows × 2 columns</p>\n",
       "</div>"
      ],
      "text/plain": [
       "         client service\n",
       "0     U620@DOM1   C1003\n",
       "1     U748@DOM1    C305\n",
       "2     U748@DOM1    C728\n",
       "3    U6115@DOM1   C1173\n",
       "4     U636@DOM1    C294\n",
       "..          ...     ...\n",
       "734   U655@DOM1    C828\n",
       "735   U655@DOM1    C828\n",
       "736   U655@DOM1    C828\n",
       "737   U655@DOM1    C828\n",
       "738   U737@DOM1    C108\n",
       "\n",
       "[739 rows x 2 columns]"
      ]
     },
     "execution_count": 10,
     "metadata": {},
     "output_type": "execute_result"
    }
   ],
   "source": [
    "client_service"
   ]
  },
  {
   "cell_type": "code",
   "execution_count": 11,
   "id": "eaa952aa",
   "metadata": {},
   "outputs": [
    {
     "name": "stdout",
     "output_type": "stream",
     "text": [
      "tensor([[  0,   1,   1,  ...,  82,  82,   5],\n",
      "        [  0,   1,   2,  ..., 273, 273, 294]])\n"
     ]
    }
   ],
   "source": [
    "# Perform merge to obtain the edges from users and movies:\n",
    "client_id = pd.merge(client_service['client'], unique_client_id, left_on='client', right_on='clientId', how='left')\n",
    "client_id = torch.from_numpy(client_id['mappedID'].values)\n",
    "service_id = pd.merge(client_service['service'], unique_service_id, left_on='service', right_on='serviceId', how='left')\n",
    "service_id = torch.from_numpy(service_id['mappedID'].values)\n",
    "\n",
    "# following PyG semantics:\n",
    "edge_index_client_to_service = torch.stack([client_id, service_id], dim=0)\n",
    "\n",
    "print(edge_index_client_to_service)\n"
   ]
  },
  {
   "cell_type": "code",
   "execution_count": 16,
   "id": "f4d3f11a",
   "metadata": {},
   "outputs": [],
   "source": [
    "from torch_geometric.data import HeteroData\n",
    "import torch_geometric.transforms as T\n"
   ]
  },
  {
   "cell_type": "code",
   "execution_count": 17,
   "id": "c5145fb4",
   "metadata": {},
   "outputs": [],
   "source": [
    "# pip install pyg-lib torch-scatter torch-sparse torch-cluster torch-spline-conv torch-geometric -f https://data.pyg.org/whl/torch-1.13.0+cpu.html"
   ]
  },
  {
   "cell_type": "code",
   "execution_count": 12,
   "id": "6c0fc5e5",
   "metadata": {},
   "outputs": [],
   "source": [
    "from torch_geometric.data import HeteroData\n",
    "import torch_geometric.transforms as T\n",
    "\n",
    "data = HeteroData()\n",
    "data[\"client\"].node_id = torch.arange(len(unique_client_id))\n",
    "data[\"service\"].node_id = torch.arange(len(unique_service_id))\n",
    "\n",
    "data[\"client\", \"auth_attempt\", \"service\"].edge_index = edge_index_client_to_service\n",
    "\n",
    "Transform = T.ToUndirected()\n",
    "data = Transform(data)"
   ]
  },
  {
   "cell_type": "code",
   "execution_count": 13,
   "id": "e93a2704",
   "metadata": {},
   "outputs": [
    {
     "data": {
      "text/plain": [
       "torch_geometric.data.hetero_data.HeteroData"
      ]
     },
     "execution_count": 13,
     "metadata": {},
     "output_type": "execute_result"
    }
   ],
   "source": [
    "type(data)"
   ]
  },
  {
   "cell_type": "code",
   "execution_count": 17,
   "id": "97d163ec",
   "metadata": {},
   "outputs": [],
   "source": [
    "from torch_geometric.loader import LinkNeighborLoader\n",
    "edge_label_index = val_data[\"client\", \"auth_attempt\", \"service\"].edge_label_index\n",
    "edge_label = val_data[\"client\", \"auth_attempt\", \"service\"].edge_label\n",
    "\n",
    "val_loader = LinkNeighborLoader(\n",
    "    data=data,\n",
    "    num_neighbors=[20, 10],\n",
    "    edge_label_index=((\"client\", \"auth_attempt\", \"service\"), edge_label_index),\n",
    "    edge_label=edge_label,\n",
    "    batch_size=3 * 128,\n",
    "    shuffle=False,\n",
    ")\n",
    "\n",
    "sampled_data = next(iter(val_loader))"
   ]
  },
  {
   "cell_type": "code",
   "execution_count": 18,
   "id": "c56a8bc9",
   "metadata": {},
   "outputs": [
    {
     "name": "stdout",
     "output_type": "stream",
     "text": [
      "Sampled mini-batch:\n",
      "===================\n",
      "HeteroData(\n",
      "  \u001b[1mclient\u001b[0m={ node_id=[100] },\n",
      "  \u001b[1mservice\u001b[0m={ node_id=[258] },\n",
      "  \u001b[1m(client, auth_attempt, service)\u001b[0m={\n",
      "    edge_index=[2, 671],\n",
      "    input_id=[219],\n",
      "    edge_label_index=[2, 219],\n",
      "    edge_label=[219]\n",
      "  },\n",
      "  \u001b[1m(service, rev_auth_attempt, client)\u001b[0m={ edge_index=[2, 567] }\n",
      ")\n"
     ]
    }
   ],
   "source": [
    "print(\"Sampled mini-batch:\")\n",
    "print(\"===================\")\n",
    "print(sampled_data)"
   ]
  },
  {
   "cell_type": "code",
   "execution_count": null,
   "id": "51b8c009",
   "metadata": {},
   "outputs": [],
   "source": [
    "from sklearn.metrics import roc_auc_score\n",
    "\n",
    "preds = []\n",
    "ground_truths = []\n",
    "for sampled_data in tqdm.tqdm(val_loader):\n",
    "    with torch.no_grad():\n",
    "        # TODO: Collect predictions and ground-truths and write them into\n",
    "        # `preds` and `ground_truths`.\n",
    "        sampled_data = sampled_data.to(device)\n",
    "        preds.append(model.forward(sampled_data))\n",
    "        ground_truths.append(sampled_data[\"client\", \"auth_attempt\", \"service\"].edge_label)\n",
    "        \n",
    "        # raise NotImplementedError\n",
    "\n",
    "pred = torch.cat(preds, dim=0).cpu().numpy()\n",
    "ground_truth = torch.cat(ground_truths, dim=0).cpu().numpy()\n",
    "auc = roc_auc_score(ground_truth, pred)\n",
    "print()\n",
    "print(f\"Validation AUC on RED TEAM: {auc:.4f}\")"
   ]
  }
 ],
 "metadata": {
  "kernelspec": {
   "display_name": "Python 3 (ipykernel)",
   "language": "python",
   "name": "python3"
  },
  "language_info": {
   "codemirror_mode": {
    "name": "ipython",
    "version": 3
   },
   "file_extension": ".py",
   "mimetype": "text/x-python",
   "name": "python",
   "nbconvert_exporter": "python",
   "pygments_lexer": "ipython3",
   "version": "3.8.10"
  }
 },
 "nbformat": 4,
 "nbformat_minor": 5
}
