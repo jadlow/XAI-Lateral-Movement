{
 "cells": [
  {
   "cell_type": "code",
   "execution_count": 1,
   "id": "2d3315ad",
   "metadata": {},
   "outputs": [],
   "source": [
    "import dask.dataframe as dd\n",
    "names = ['time','source user@domain','destination user@domain','source computer','destination computer','authentication type','logon type','authentication orientation','success/failure','day']\n",
    "df =  dd.read_csv('../lm-vol/LANL_test.csv', dtype='str', header= None, names=names, blocksize=\"1024MB\")"
   ]
  },
  {
   "cell_type": "code",
   "execution_count": 6,
   "id": "5e5d7b39",
   "metadata": {},
   "outputs": [
    {
     "data": {
      "text/html": [
       "<div>\n",
       "<style scoped>\n",
       "    .dataframe tbody tr th:only-of-type {\n",
       "        vertical-align: middle;\n",
       "    }\n",
       "\n",
       "    .dataframe tbody tr th {\n",
       "        vertical-align: top;\n",
       "    }\n",
       "\n",
       "    .dataframe thead th {\n",
       "        text-align: right;\n",
       "    }\n",
       "</style>\n",
       "<table border=\"1\" class=\"dataframe\">\n",
       "  <thead>\n",
       "    <tr style=\"text-align: right;\">\n",
       "      <th></th>\n",
       "      <th>time</th>\n",
       "      <th>source user@domain</th>\n",
       "      <th>destination user@domain</th>\n",
       "      <th>source computer</th>\n",
       "      <th>destination computer</th>\n",
       "      <th>authentication type</th>\n",
       "      <th>logon type</th>\n",
       "      <th>authentication orientation</th>\n",
       "      <th>success/failure</th>\n",
       "      <th>day</th>\n",
       "    </tr>\n",
       "  </thead>\n",
       "  <tbody>\n",
       "    <tr>\n",
       "      <th>0</th>\n",
       "      <td>1</td>\n",
       "      <td>ANONYMOUS LOGON@C586</td>\n",
       "      <td>ANONYMOUS LOGON@C586</td>\n",
       "      <td>C1250</td>\n",
       "      <td>C586</td>\n",
       "      <td>NTLM</td>\n",
       "      <td>Network</td>\n",
       "      <td>LogOn</td>\n",
       "      <td>Success</td>\n",
       "      <td>1</td>\n",
       "    </tr>\n",
       "    <tr>\n",
       "      <th>1</th>\n",
       "      <td>1</td>\n",
       "      <td>ANONYMOUS LOGON@C586</td>\n",
       "      <td>ANONYMOUS LOGON@C586</td>\n",
       "      <td>C586</td>\n",
       "      <td>C586</td>\n",
       "      <td>?</td>\n",
       "      <td>Network</td>\n",
       "      <td>LogOff</td>\n",
       "      <td>Success</td>\n",
       "      <td>1</td>\n",
       "    </tr>\n",
       "    <tr>\n",
       "      <th>2</th>\n",
       "      <td>1</td>\n",
       "      <td>C101$@DOM1</td>\n",
       "      <td>C101$@DOM1</td>\n",
       "      <td>C988</td>\n",
       "      <td>C988</td>\n",
       "      <td>?</td>\n",
       "      <td>Network</td>\n",
       "      <td>LogOff</td>\n",
       "      <td>Success</td>\n",
       "      <td>1</td>\n",
       "    </tr>\n",
       "    <tr>\n",
       "      <th>3</th>\n",
       "      <td>1</td>\n",
       "      <td>C1020$@DOM1</td>\n",
       "      <td>SYSTEM@C1020</td>\n",
       "      <td>C1020</td>\n",
       "      <td>C1020</td>\n",
       "      <td>Negotiate</td>\n",
       "      <td>Service</td>\n",
       "      <td>LogOn</td>\n",
       "      <td>Success</td>\n",
       "      <td>1</td>\n",
       "    </tr>\n",
       "    <tr>\n",
       "      <th>4</th>\n",
       "      <td>1</td>\n",
       "      <td>C1021$@DOM1</td>\n",
       "      <td>C1021$@DOM1</td>\n",
       "      <td>C1021</td>\n",
       "      <td>C625</td>\n",
       "      <td>Kerberos</td>\n",
       "      <td>Network</td>\n",
       "      <td>LogOn</td>\n",
       "      <td>Success</td>\n",
       "      <td>1</td>\n",
       "    </tr>\n",
       "  </tbody>\n",
       "</table>\n",
       "</div>"
      ],
      "text/plain": [
       "  time    source user@domain destination user@domain source computer  \\\n",
       "0    1  ANONYMOUS LOGON@C586    ANONYMOUS LOGON@C586           C1250   \n",
       "1    1  ANONYMOUS LOGON@C586    ANONYMOUS LOGON@C586            C586   \n",
       "2    1            C101$@DOM1              C101$@DOM1            C988   \n",
       "3    1           C1020$@DOM1            SYSTEM@C1020           C1020   \n",
       "4    1           C1021$@DOM1             C1021$@DOM1           C1021   \n",
       "\n",
       "  destination computer authentication type logon type  \\\n",
       "0                 C586                NTLM    Network   \n",
       "1                 C586                   ?    Network   \n",
       "2                 C988                   ?    Network   \n",
       "3                C1020           Negotiate    Service   \n",
       "4                 C625            Kerberos    Network   \n",
       "\n",
       "  authentication orientation success/failure day  \n",
       "0                      LogOn         Success   1  \n",
       "1                     LogOff         Success   1  \n",
       "2                     LogOff         Success   1  \n",
       "3                      LogOn         Success   1  \n",
       "4                      LogOn         Success   1  "
      ]
     },
     "execution_count": 6,
     "metadata": {},
     "output_type": "execute_result"
    }
   ],
   "source": [
    "df.head()"
   ]
  },
  {
   "cell_type": "code",
   "execution_count": 8,
   "id": "8c9dae29",
   "metadata": {},
   "outputs": [],
   "source": [
    "unique_df = dd.read_csv('../lm-vol/LANL_test_unique_v2.csv', dtype='str', blocksize=\"1024MB\")"
   ]
  },
  {
   "cell_type": "code",
   "execution_count": 9,
   "id": "74c2240d",
   "metadata": {},
   "outputs": [
    {
     "data": {
      "text/html": [
       "<div>\n",
       "<style scoped>\n",
       "    .dataframe tbody tr th:only-of-type {\n",
       "        vertical-align: middle;\n",
       "    }\n",
       "\n",
       "    .dataframe tbody tr th {\n",
       "        vertical-align: top;\n",
       "    }\n",
       "\n",
       "    .dataframe thead th {\n",
       "        text-align: right;\n",
       "    }\n",
       "</style>\n",
       "<table border=\"1\" class=\"dataframe\">\n",
       "  <thead>\n",
       "    <tr style=\"text-align: right;\">\n",
       "      <th></th>\n",
       "      <th>source user@domain</th>\n",
       "      <th>destination computer</th>\n",
       "      <th>source computer</th>\n",
       "    </tr>\n",
       "  </thead>\n",
       "  <tbody>\n",
       "    <tr>\n",
       "      <th>0</th>\n",
       "      <td>ANONYMOUS LOGON@C586</td>\n",
       "      <td>C586</td>\n",
       "      <td>C1250</td>\n",
       "    </tr>\n",
       "    <tr>\n",
       "      <th>1</th>\n",
       "      <td>ANONYMOUS LOGON@C586</td>\n",
       "      <td>C586</td>\n",
       "      <td>C586</td>\n",
       "    </tr>\n",
       "    <tr>\n",
       "      <th>2</th>\n",
       "      <td>C101$@DOM1</td>\n",
       "      <td>C988</td>\n",
       "      <td>C988</td>\n",
       "    </tr>\n",
       "    <tr>\n",
       "      <th>3</th>\n",
       "      <td>C1020$@DOM1</td>\n",
       "      <td>C1020</td>\n",
       "      <td>C1020</td>\n",
       "    </tr>\n",
       "    <tr>\n",
       "      <th>4</th>\n",
       "      <td>C1021$@DOM1</td>\n",
       "      <td>C625</td>\n",
       "      <td>C1021</td>\n",
       "    </tr>\n",
       "  </tbody>\n",
       "</table>\n",
       "</div>"
      ],
      "text/plain": [
       "     source user@domain destination computer source computer\n",
       "0  ANONYMOUS LOGON@C586                 C586           C1250\n",
       "1  ANONYMOUS LOGON@C586                 C586            C586\n",
       "2            C101$@DOM1                 C988            C988\n",
       "3           C1020$@DOM1                C1020           C1020\n",
       "4           C1021$@DOM1                 C625           C1021"
      ]
     },
     "execution_count": 9,
     "metadata": {},
     "output_type": "execute_result"
    }
   ],
   "source": [
    "unique_df.head()"
   ]
  },
  {
   "cell_type": "code",
   "execution_count": 12,
   "id": "459ba4b1",
   "metadata": {},
   "outputs": [
    {
     "name": "stdout",
     "output_type": "stream",
     "text": [
      "0 3220\n",
      "1 1351289\n",
      "2 84449\n",
      "3 1313\n",
      "4 529\n",
      "5 6747\n",
      "6 6706\n",
      "7 1342\n",
      "8 25711\n",
      "9 28290\n",
      "10 1204\n",
      "11 1159\n",
      "12 662\n",
      "13 614\n",
      "14 1104\n",
      "15 3102\n",
      "16 1210\n"
     ]
    },
    {
     "ename": "KeyboardInterrupt",
     "evalue": "",
     "output_type": "error",
     "traceback": [
      "\u001b[0;31m---------------------------------------------------------------------------\u001b[0m",
      "\u001b[0;31mKeyboardInterrupt\u001b[0m                         Traceback (most recent call last)",
      "Cell \u001b[0;32mIn[12], line 3\u001b[0m\n\u001b[1;32m      1\u001b[0m duplicates \u001b[38;5;241m=\u001b[39m []\n\u001b[1;32m      2\u001b[0m \u001b[38;5;28;01mfor\u001b[39;00m index, row \u001b[38;5;129;01min\u001b[39;00m unique_df\u001b[38;5;241m.\u001b[39miterrows():\n\u001b[0;32m----> 3\u001b[0m     dups \u001b[38;5;241m=\u001b[39m \u001b[43mdf\u001b[49m\u001b[43m[\u001b[49m\u001b[43m(\u001b[49m\u001b[43mdf\u001b[49m\u001b[43m[\u001b[49m\u001b[38;5;124;43m'\u001b[39;49m\u001b[38;5;124;43msource user@domain\u001b[39;49m\u001b[38;5;124;43m'\u001b[39;49m\u001b[43m]\u001b[49m\u001b[43m \u001b[49m\u001b[38;5;241;43m==\u001b[39;49m\u001b[43m \u001b[49m\u001b[43mrow\u001b[49m\u001b[43m[\u001b[49m\u001b[38;5;124;43m'\u001b[39;49m\u001b[38;5;124;43msource user@domain\u001b[39;49m\u001b[38;5;124;43m'\u001b[39;49m\u001b[43m]\u001b[49m\u001b[43m)\u001b[49m\u001b[43m \u001b[49m\u001b[38;5;241;43m&\u001b[39;49m\u001b[43m \u001b[49m\u001b[43m(\u001b[49m\u001b[43mdf\u001b[49m\u001b[43m[\u001b[49m\u001b[38;5;124;43m'\u001b[39;49m\u001b[38;5;124;43msource computer\u001b[39;49m\u001b[38;5;124;43m'\u001b[39;49m\u001b[43m]\u001b[49m\u001b[43m \u001b[49m\u001b[38;5;241;43m==\u001b[39;49m\u001b[43m \u001b[49m\u001b[43mrow\u001b[49m\u001b[43m[\u001b[49m\u001b[38;5;124;43m'\u001b[39;49m\u001b[38;5;124;43msource computer\u001b[39;49m\u001b[38;5;124;43m'\u001b[39;49m\u001b[43m]\u001b[49m\u001b[43m)\u001b[49m\u001b[43m \u001b[49m\u001b[38;5;241;43m&\u001b[39;49m\u001b[43m \u001b[49m\u001b[43m(\u001b[49m\u001b[43mdf\u001b[49m\u001b[43m[\u001b[49m\u001b[38;5;124;43m'\u001b[39;49m\u001b[38;5;124;43mdestination computer\u001b[39;49m\u001b[38;5;124;43m'\u001b[39;49m\u001b[43m]\u001b[49m\u001b[43m \u001b[49m\u001b[38;5;241;43m==\u001b[39;49m\u001b[43m \u001b[49m\u001b[43mrow\u001b[49m\u001b[43m[\u001b[49m\u001b[38;5;124;43m'\u001b[39;49m\u001b[38;5;124;43mdestination computer\u001b[39;49m\u001b[38;5;124;43m'\u001b[39;49m\u001b[43m]\u001b[49m\u001b[43m)\u001b[49m\u001b[43m]\u001b[49m\u001b[38;5;241;43m.\u001b[39;49m\u001b[43mshape\u001b[49m\u001b[43m[\u001b[49m\u001b[38;5;241;43m0\u001b[39;49m\u001b[43m]\u001b[49m\u001b[38;5;241;43m.\u001b[39;49m\u001b[43mcompute\u001b[49m\u001b[43m(\u001b[49m\u001b[43m)\u001b[49m\n\u001b[1;32m      4\u001b[0m     duplicates\u001b[38;5;241m.\u001b[39mappend(dups)\n\u001b[1;32m      5\u001b[0m     \u001b[38;5;28mprint\u001b[39m(index, dups)\n",
      "File \u001b[0;32m/usr/local/lib/python3.8/site-packages/dask/base.py:314\u001b[0m, in \u001b[0;36mDaskMethodsMixin.compute\u001b[0;34m(self, **kwargs)\u001b[0m\n\u001b[1;32m    290\u001b[0m \u001b[38;5;28;01mdef\u001b[39;00m \u001b[38;5;21mcompute\u001b[39m(\u001b[38;5;28mself\u001b[39m, \u001b[38;5;241m*\u001b[39m\u001b[38;5;241m*\u001b[39mkwargs):\n\u001b[1;32m    291\u001b[0m \u001b[38;5;250m    \u001b[39m\u001b[38;5;124;03m\"\"\"Compute this dask collection\u001b[39;00m\n\u001b[1;32m    292\u001b[0m \n\u001b[1;32m    293\u001b[0m \u001b[38;5;124;03m    This turns a lazy Dask collection into its in-memory equivalent.\u001b[39;00m\n\u001b[0;32m   (...)\u001b[0m\n\u001b[1;32m    312\u001b[0m \u001b[38;5;124;03m    dask.base.compute\u001b[39;00m\n\u001b[1;32m    313\u001b[0m \u001b[38;5;124;03m    \"\"\"\u001b[39;00m\n\u001b[0;32m--> 314\u001b[0m     (result,) \u001b[38;5;241m=\u001b[39m \u001b[43mcompute\u001b[49m\u001b[43m(\u001b[49m\u001b[38;5;28;43mself\u001b[39;49m\u001b[43m,\u001b[49m\u001b[43m \u001b[49m\u001b[43mtraverse\u001b[49m\u001b[38;5;241;43m=\u001b[39;49m\u001b[38;5;28;43;01mFalse\u001b[39;49;00m\u001b[43m,\u001b[49m\u001b[43m \u001b[49m\u001b[38;5;241;43m*\u001b[39;49m\u001b[38;5;241;43m*\u001b[39;49m\u001b[43mkwargs\u001b[49m\u001b[43m)\u001b[49m\n\u001b[1;32m    315\u001b[0m     \u001b[38;5;28;01mreturn\u001b[39;00m result\n",
      "File \u001b[0;32m/usr/local/lib/python3.8/site-packages/dask/base.py:599\u001b[0m, in \u001b[0;36mcompute\u001b[0;34m(traverse, optimize_graph, scheduler, get, *args, **kwargs)\u001b[0m\n\u001b[1;32m    596\u001b[0m     keys\u001b[38;5;241m.\u001b[39mappend(x\u001b[38;5;241m.\u001b[39m__dask_keys__())\n\u001b[1;32m    597\u001b[0m     postcomputes\u001b[38;5;241m.\u001b[39mappend(x\u001b[38;5;241m.\u001b[39m__dask_postcompute__())\n\u001b[0;32m--> 599\u001b[0m results \u001b[38;5;241m=\u001b[39m \u001b[43mschedule\u001b[49m\u001b[43m(\u001b[49m\u001b[43mdsk\u001b[49m\u001b[43m,\u001b[49m\u001b[43m \u001b[49m\u001b[43mkeys\u001b[49m\u001b[43m,\u001b[49m\u001b[43m \u001b[49m\u001b[38;5;241;43m*\u001b[39;49m\u001b[38;5;241;43m*\u001b[39;49m\u001b[43mkwargs\u001b[49m\u001b[43m)\u001b[49m\n\u001b[1;32m    600\u001b[0m \u001b[38;5;28;01mreturn\u001b[39;00m repack([f(r, \u001b[38;5;241m*\u001b[39ma) \u001b[38;5;28;01mfor\u001b[39;00m r, (f, a) \u001b[38;5;129;01min\u001b[39;00m \u001b[38;5;28mzip\u001b[39m(results, postcomputes)])\n",
      "File \u001b[0;32m/usr/local/lib/python3.8/site-packages/dask/threaded.py:89\u001b[0m, in \u001b[0;36mget\u001b[0;34m(dsk, keys, cache, num_workers, pool, **kwargs)\u001b[0m\n\u001b[1;32m     86\u001b[0m     \u001b[38;5;28;01melif\u001b[39;00m \u001b[38;5;28misinstance\u001b[39m(pool, multiprocessing\u001b[38;5;241m.\u001b[39mpool\u001b[38;5;241m.\u001b[39mPool):\n\u001b[1;32m     87\u001b[0m         pool \u001b[38;5;241m=\u001b[39m MultiprocessingPoolExecutor(pool)\n\u001b[0;32m---> 89\u001b[0m results \u001b[38;5;241m=\u001b[39m \u001b[43mget_async\u001b[49m\u001b[43m(\u001b[49m\n\u001b[1;32m     90\u001b[0m \u001b[43m    \u001b[49m\u001b[43mpool\u001b[49m\u001b[38;5;241;43m.\u001b[39;49m\u001b[43msubmit\u001b[49m\u001b[43m,\u001b[49m\n\u001b[1;32m     91\u001b[0m \u001b[43m    \u001b[49m\u001b[43mpool\u001b[49m\u001b[38;5;241;43m.\u001b[39;49m\u001b[43m_max_workers\u001b[49m\u001b[43m,\u001b[49m\n\u001b[1;32m     92\u001b[0m \u001b[43m    \u001b[49m\u001b[43mdsk\u001b[49m\u001b[43m,\u001b[49m\n\u001b[1;32m     93\u001b[0m \u001b[43m    \u001b[49m\u001b[43mkeys\u001b[49m\u001b[43m,\u001b[49m\n\u001b[1;32m     94\u001b[0m \u001b[43m    \u001b[49m\u001b[43mcache\u001b[49m\u001b[38;5;241;43m=\u001b[39;49m\u001b[43mcache\u001b[49m\u001b[43m,\u001b[49m\n\u001b[1;32m     95\u001b[0m \u001b[43m    \u001b[49m\u001b[43mget_id\u001b[49m\u001b[38;5;241;43m=\u001b[39;49m\u001b[43m_thread_get_id\u001b[49m\u001b[43m,\u001b[49m\n\u001b[1;32m     96\u001b[0m \u001b[43m    \u001b[49m\u001b[43mpack_exception\u001b[49m\u001b[38;5;241;43m=\u001b[39;49m\u001b[43mpack_exception\u001b[49m\u001b[43m,\u001b[49m\n\u001b[1;32m     97\u001b[0m \u001b[43m    \u001b[49m\u001b[38;5;241;43m*\u001b[39;49m\u001b[38;5;241;43m*\u001b[39;49m\u001b[43mkwargs\u001b[49m\u001b[43m,\u001b[49m\n\u001b[1;32m     98\u001b[0m \u001b[43m\u001b[49m\u001b[43m)\u001b[49m\n\u001b[1;32m    100\u001b[0m \u001b[38;5;66;03m# Cleanup pools associated to dead threads\u001b[39;00m\n\u001b[1;32m    101\u001b[0m \u001b[38;5;28;01mwith\u001b[39;00m pools_lock:\n",
      "File \u001b[0;32m/usr/local/lib/python3.8/site-packages/dask/local.py:500\u001b[0m, in \u001b[0;36mget_async\u001b[0;34m(submit, num_workers, dsk, result, cache, get_id, rerun_exceptions_locally, pack_exception, raise_exception, callbacks, dumps, loads, chunksize, **kwargs)\u001b[0m\n\u001b[1;32m    498\u001b[0m \u001b[38;5;28;01mwhile\u001b[39;00m state[\u001b[38;5;124m\"\u001b[39m\u001b[38;5;124mwaiting\u001b[39m\u001b[38;5;124m\"\u001b[39m] \u001b[38;5;129;01mor\u001b[39;00m state[\u001b[38;5;124m\"\u001b[39m\u001b[38;5;124mready\u001b[39m\u001b[38;5;124m\"\u001b[39m] \u001b[38;5;129;01mor\u001b[39;00m state[\u001b[38;5;124m\"\u001b[39m\u001b[38;5;124mrunning\u001b[39m\u001b[38;5;124m\"\u001b[39m]:\n\u001b[1;32m    499\u001b[0m     fire_tasks(chunksize)\n\u001b[0;32m--> 500\u001b[0m     \u001b[38;5;28;01mfor\u001b[39;00m key, res_info, failed \u001b[38;5;129;01min\u001b[39;00m \u001b[43mqueue_get\u001b[49m\u001b[43m(\u001b[49m\u001b[43mqueue\u001b[49m\u001b[43m)\u001b[49m\u001b[38;5;241m.\u001b[39mresult():\n\u001b[1;32m    501\u001b[0m         \u001b[38;5;28;01mif\u001b[39;00m failed:\n\u001b[1;32m    502\u001b[0m             exc, tb \u001b[38;5;241m=\u001b[39m loads(res_info)\n",
      "File \u001b[0;32m/usr/local/lib/python3.8/site-packages/dask/local.py:137\u001b[0m, in \u001b[0;36mqueue_get\u001b[0;34m(q)\u001b[0m\n\u001b[1;32m    136\u001b[0m \u001b[38;5;28;01mdef\u001b[39;00m \u001b[38;5;21mqueue_get\u001b[39m(q):\n\u001b[0;32m--> 137\u001b[0m     \u001b[38;5;28;01mreturn\u001b[39;00m \u001b[43mq\u001b[49m\u001b[38;5;241;43m.\u001b[39;49m\u001b[43mget\u001b[49m\u001b[43m(\u001b[49m\u001b[43m)\u001b[49m\n",
      "File \u001b[0;32m/usr/local/lib/python3.8/queue.py:170\u001b[0m, in \u001b[0;36mQueue.get\u001b[0;34m(self, block, timeout)\u001b[0m\n\u001b[1;32m    168\u001b[0m \u001b[38;5;28;01melif\u001b[39;00m timeout \u001b[38;5;129;01mis\u001b[39;00m \u001b[38;5;28;01mNone\u001b[39;00m:\n\u001b[1;32m    169\u001b[0m     \u001b[38;5;28;01mwhile\u001b[39;00m \u001b[38;5;129;01mnot\u001b[39;00m \u001b[38;5;28mself\u001b[39m\u001b[38;5;241m.\u001b[39m_qsize():\n\u001b[0;32m--> 170\u001b[0m         \u001b[38;5;28;43mself\u001b[39;49m\u001b[38;5;241;43m.\u001b[39;49m\u001b[43mnot_empty\u001b[49m\u001b[38;5;241;43m.\u001b[39;49m\u001b[43mwait\u001b[49m\u001b[43m(\u001b[49m\u001b[43m)\u001b[49m\n\u001b[1;32m    171\u001b[0m \u001b[38;5;28;01melif\u001b[39;00m timeout \u001b[38;5;241m<\u001b[39m \u001b[38;5;241m0\u001b[39m:\n\u001b[1;32m    172\u001b[0m     \u001b[38;5;28;01mraise\u001b[39;00m \u001b[38;5;167;01mValueError\u001b[39;00m(\u001b[38;5;124m\"\u001b[39m\u001b[38;5;124m'\u001b[39m\u001b[38;5;124mtimeout\u001b[39m\u001b[38;5;124m'\u001b[39m\u001b[38;5;124m must be a non-negative number\u001b[39m\u001b[38;5;124m\"\u001b[39m)\n",
      "File \u001b[0;32m/usr/local/lib/python3.8/threading.py:302\u001b[0m, in \u001b[0;36mCondition.wait\u001b[0;34m(self, timeout)\u001b[0m\n\u001b[1;32m    300\u001b[0m \u001b[38;5;28;01mtry\u001b[39;00m:    \u001b[38;5;66;03m# restore state no matter what (e.g., KeyboardInterrupt)\u001b[39;00m\n\u001b[1;32m    301\u001b[0m     \u001b[38;5;28;01mif\u001b[39;00m timeout \u001b[38;5;129;01mis\u001b[39;00m \u001b[38;5;28;01mNone\u001b[39;00m:\n\u001b[0;32m--> 302\u001b[0m         \u001b[43mwaiter\u001b[49m\u001b[38;5;241;43m.\u001b[39;49m\u001b[43macquire\u001b[49m\u001b[43m(\u001b[49m\u001b[43m)\u001b[49m\n\u001b[1;32m    303\u001b[0m         gotit \u001b[38;5;241m=\u001b[39m \u001b[38;5;28;01mTrue\u001b[39;00m\n\u001b[1;32m    304\u001b[0m     \u001b[38;5;28;01melse\u001b[39;00m:\n",
      "\u001b[0;31mKeyboardInterrupt\u001b[0m: "
     ]
    }
   ],
   "source": [
    "duplicates = []\n",
    "for index, row in unique_df.iterrows():\n",
    "    dups = df[(df['source user@domain'] == row['source user@domain']) & (df['source computer'] == row['source computer']) & (df['destination computer'] == row['destination computer'])].shape[0].compute()\n",
    "    duplicates.append(dups)\n",
    "    print(index, dups)"
   ]
  },
  {
   "cell_type": "code",
   "execution_count": 89,
   "id": "29bcdd85",
   "metadata": {},
   "outputs": [
    {
     "name": "stdout",
     "output_type": "stream",
     "text": [
      "1062874\n"
     ]
    }
   ],
   "source": [
    "import pandas as pd\n",
    "names = ['time','source user@domain','destination user@domain','source computer','destination computer','authentication type','logon type','authentication orientation','success/failure','day']\n",
    "max = 0\n",
    "inter = 0\n",
    "keys = []\n",
    "unique_df = pd.read_csv('../lm-vol/LANL_test_unique_v2.csv', dtype='str')\n",
    "for index, row in unique_df.iterrows():\n",
    "    keys.append('['+row['source user@domain']+', '+row['source computer']+', '+row['destination computer']+']')\n",
    "print(len(keys))"
   ]
  },
  {
   "cell_type": "code",
   "execution_count": 117,
   "id": "8f7e7073",
   "metadata": {},
   "outputs": [],
   "source": [
    "counts = dict.fromkeys(keys,0)"
   ]
  },
  {
   "cell_type": "code",
   "execution_count": 118,
   "id": "8f1dfccb",
   "metadata": {},
   "outputs": [
    {
     "ename": "AttributeError",
     "evalue": "'dict' object has no attribute 'astype'",
     "output_type": "error",
     "traceback": [
      "\u001b[0;31m---------------------------------------------------------------------------\u001b[0m",
      "\u001b[0;31mAttributeError\u001b[0m                            Traceback (most recent call last)",
      "Cell \u001b[0;32mIn[118], line 7\u001b[0m\n\u001b[1;32m      5\u001b[0m     \u001b[38;5;28;01mfor\u001b[39;00m index, item \u001b[38;5;129;01min\u001b[39;00m s\u001b[38;5;241m.\u001b[39mitems():\n\u001b[1;32m      6\u001b[0m         counts[\u001b[38;5;124m'\u001b[39m\u001b[38;5;124m[\u001b[39m\u001b[38;5;124m'\u001b[39m\u001b[38;5;241m+\u001b[39mindex[\u001b[38;5;241m0\u001b[39m]\u001b[38;5;241m+\u001b[39m\u001b[38;5;124m'\u001b[39m\u001b[38;5;124m, \u001b[39m\u001b[38;5;124m'\u001b[39m\u001b[38;5;241m+\u001b[39mindex[\u001b[38;5;241m1\u001b[39m]\u001b[38;5;241m+\u001b[39m\u001b[38;5;124m'\u001b[39m\u001b[38;5;124m, \u001b[39m\u001b[38;5;124m'\u001b[39m\u001b[38;5;241m+\u001b[39mindex[\u001b[38;5;241m2\u001b[39m]\u001b[38;5;241m+\u001b[39m\u001b[38;5;124m'\u001b[39m\u001b[38;5;124m]\u001b[39m\u001b[38;5;124m'\u001b[39m] \u001b[38;5;241m+\u001b[39m\u001b[38;5;241m=\u001b[39m item\n\u001b[0;32m----> 7\u001b[0m \u001b[43mcounts\u001b[49m\u001b[38;5;241;43m.\u001b[39;49m\u001b[43mastype\u001b[49m(\u001b[38;5;28mint\u001b[39m)\n",
      "\u001b[0;31mAttributeError\u001b[0m: 'dict' object has no attribute 'astype'"
     ]
    }
   ],
   "source": [
    "for chunk in pd.read_csv('../lm-vol/LANL_test.csv', dtype='str', header= None, names=names, chunksize=1000000):\n",
    "    inter += 1\n",
    "    df = chunk[['source user@domain', 'source computer', 'destination computer']]\n",
    "    s = df.value_counts()\n",
    "    for index, item in s.items():\n",
    "        counts['['+index[0]+', '+index[1]+', '+index[2]+']'] += item"
   ]
  },
  {
   "cell_type": "code",
   "execution_count": 127,
   "id": "707ca75f",
   "metadata": {},
   "outputs": [],
   "source": [
    "temp = list(counts.keys())\n",
    "res = list(map(lambda i: [i, counts[i]], temp))"
   ]
  },
  {
   "cell_type": "code",
   "execution_count": 133,
   "id": "c3c08514",
   "metadata": {},
   "outputs": [
    {
     "name": "stdout",
     "output_type": "stream",
     "text": [
      "319239960\n",
      "1062874\n"
     ]
    }
   ],
   "source": [
    "import numpy as np\n",
    "total_records = 0\n",
    "for pair in res:\n",
    "    total_records += pair[1]\n",
    "print(total_records)\n",
    "print(len(res))\n",
    "res = np.array(res)"
   ]
  },
  {
   "cell_type": "code",
   "execution_count": null,
   "id": "23b7b4d7",
   "metadata": {},
   "outputs": [],
   "source": [
    "import dask.dataframe as dd\n",
    "names = ['time','source user@domain','destination user@domain','source computer','destination computer','authentication type','logon type','authentication orientation','success/failure','day']\n",
    "test_df =  dd.read_csv('../lm-vol/LANL_test.csv', dtype='str', header= None, names=names, blocksize=\"1024MB\")"
   ]
  },
  {
   "cell_type": "code",
   "execution_count": 134,
   "id": "17ea7031",
   "metadata": {},
   "outputs": [],
   "source": [
    "np.save('../lm-vol/LANL_test_unique_freq.npy', res)"
   ]
  },
  {
   "cell_type": "code",
   "execution_count": null,
   "id": "61d4de7c",
   "metadata": {},
   "outputs": [],
   "source": [
    "persisteddf = df.persist()"
   ]
  },
  {
   "cell_type": "code",
   "execution_count": null,
   "id": "0b3a7e5e",
   "metadata": {},
   "outputs": [],
   "source": [
    "persisteddf.shape[0].compute()"
   ]
  },
  {
   "cell_type": "code",
   "execution_count": null,
   "id": "f34f999c",
   "metadata": {},
   "outputs": [],
   "source": [
    "# df = df.assign(src_user = df['source user@domain'].str.split('@').map(lambda x: x[0]))\n",
    "# df = df.assign(dest_user = df['destination user@domain'].str.split('@').map(lambda x: x[0]))"
   ]
  },
  {
   "cell_type": "code",
   "execution_count": null,
   "id": "2ca742c4",
   "metadata": {},
   "outputs": [],
   "source": [
    "# df = df[(df['src_user'].str.contains('LOCAL')==False) & (df['src_user'].str.contains('SYSTEM')==False) & (df['src_user'].str.contains('ANONYMOUS')==False) & (df['src_user'].str.contains('ADMINISTRARTOR')==False)]\n",
    "# df = df[df['src_user'].str[-1] != '$']\n",
    "# df = df[(df['dest_user'].str.contains('LOCAL')==False) & (df['dest_user'].str.contains('SYSTEM')==False) & (df['dest_user'].str.contains('ANONYMOUS')==False) & (df['dest_user'].str.contains('ADMINISTRARTOR')==False)]\n",
    "# df = df[df['dest_user'].str[-1] != '$']"
   ]
  },
  {
   "cell_type": "code",
   "execution_count": null,
   "id": "2a8eb588",
   "metadata": {},
   "outputs": [],
   "source": [
    "df.head()"
   ]
  },
  {
   "cell_type": "code",
   "execution_count": null,
   "id": "f7186100",
   "metadata": {},
   "outputs": [],
   "source": [
    "df = df.drop_duplicates(subset=['source user@domain', 'destination computer', 'source computer'])"
   ]
  },
  {
   "cell_type": "code",
   "execution_count": null,
   "id": "e8a833fe",
   "metadata": {},
   "outputs": [],
   "source": [
    "LANL_train_unique_df = df[['source user@domain', 'destination computer', 'source computer']]"
   ]
  },
  {
   "cell_type": "code",
   "execution_count": null,
   "id": "e5dc875c",
   "metadata": {},
   "outputs": [],
   "source": [
    "LANL_train_unique_df.to_csv(\"../lm-vol/LANL_test_unique_v2.csv\", index=False, single_file=True)"
   ]
  },
  {
   "cell_type": "code",
   "execution_count": null,
   "id": "e028ec04",
   "metadata": {},
   "outputs": [],
   "source": [
    "LANL_train_unique_df.shape[0].compute()"
   ]
  },
  {
   "cell_type": "code",
   "execution_count": null,
   "id": "d72f2842",
   "metadata": {},
   "outputs": [],
   "source": []
  }
 ],
 "metadata": {
  "kernelspec": {
   "display_name": "Python 3 (ipykernel)",
   "language": "python",
   "name": "python3"
  },
  "language_info": {
   "codemirror_mode": {
    "name": "ipython",
    "version": 3
   },
   "file_extension": ".py",
   "mimetype": "text/x-python",
   "name": "python",
   "nbconvert_exporter": "python",
   "pygments_lexer": "ipython3",
   "version": "3.8.10"
  }
 },
 "nbformat": 4,
 "nbformat_minor": 5
}
