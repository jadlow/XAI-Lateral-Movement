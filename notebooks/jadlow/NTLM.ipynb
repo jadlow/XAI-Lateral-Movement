{
 "cells": [
  {
   "cell_type": "code",
   "execution_count": 8,
   "id": "8e59d61e",
   "metadata": {},
   "outputs": [],
   "source": [
    "import pandas as pd\n",
    "import networkx as nx"
   ]
  },
  {
   "cell_type": "code",
   "execution_count": 5,
   "id": "262d06d2",
   "metadata": {},
   "outputs": [],
   "source": [
    "train_df =  pd.read_csv('../lm-vol/LANL_train_NTLM_Pikachu_filter.csv', dtype='str')\n",
    "test_df =  pd.read_csv('../lm-vol/LANL_test_NTLM_Pikachu_filter.csv', dtype='str')"
   ]
  },
  {
   "cell_type": "code",
   "execution_count": 6,
   "id": "734072d6",
   "metadata": {},
   "outputs": [
    {
     "data": {
      "text/plain": [
       "(3590236, 12)"
      ]
     },
     "execution_count": 6,
     "metadata": {},
     "output_type": "execute_result"
    }
   ],
   "source": [
    "train_df.shape\n",
    "test_df.shape"
   ]
  },
  {
   "cell_type": "code",
   "execution_count": 16,
   "id": "298102bd",
   "metadata": {},
   "outputs": [
    {
     "name": "stderr",
     "output_type": "stream",
     "text": [
      "/tmp/ipykernel_382635/2206492509.py:3: DtypeWarning: Columns (0,9) have mixed types. Specify dtype option on import or set low_memory=False.\n",
      "  for chunk in pd.read_csv('../lm-vol/LANL_train_NTLM_Pikachu_filter.csv', chunksize=1000000):\n"
     ]
    }
   ],
   "source": [
    "graph_structure = ('src_user', 'dest_user')\n",
    "G_test = nx.Graph()\n",
    "for chunk in pd.read_csv('../lm-vol/LANL_train_NTLM_Pikachu_filter.csv', chunksize=1000000):\n",
    "    for index, row in chunk.iterrows():\n",
    "        user_node = row[graph_structure[0]]\n",
    "        dest_node = row[graph_structure[1]]\n",
    "        G_test.add_nodes_from([user_node, dest_node])\n",
    "        G_test.add_edge(user_node, dest_node)"
   ]
  },
  {
   "cell_type": "code",
   "execution_count": 17,
   "id": "6b45127f",
   "metadata": {},
   "outputs": [
    {
     "name": "stderr",
     "output_type": "stream",
     "text": [
      "/tmp/ipykernel_382635/1988734659.py:3: DtypeWarning: Columns (0,9) have mixed types. Specify dtype option on import or set low_memory=False.\n",
      "  for chunk in pd.read_csv('../lm-vol/LANL_train_NTLM_Pikachu_filter.csv', chunksize=1000000):\n"
     ]
    }
   ],
   "source": [
    "graph_structure = ('src_user', 'source computer', 'dest_user')\n",
    "G_test_v2 = nx.Graph()\n",
    "for chunk in pd.read_csv('../lm-vol/LANL_train_NTLM_Pikachu_filter.csv', chunksize=1000000):\n",
    "    for index, row in chunk.iterrows():\n",
    "        user_node = row[graph_structure[0]]\n",
    "        ip_node = row[graph_structure[1]]\n",
    "        dest_node = row[graph_structure[2]]\n",
    "        G_test_v2.add_nodes_from([user_node, ip_node, dest_node])\n",
    "        G_test_v2.add_edge(user_node, ip_node)\n",
    "        G_test_v2.add_edge(ip_node, dest_node)"
   ]
  },
  {
   "cell_type": "code",
   "execution_count": 13,
   "id": "efe5ebc3",
   "metadata": {},
   "outputs": [],
   "source": [
    "from stellargraph import StellarGraph\n",
    "from stellargraph.data import EdgeSplitter\n",
    "from sklearn.model_selection import train_test_split\n",
    "from sklearn.linear_model import LogisticRegressionCV\n",
    "\n",
    "test_graph = StellarGraph.from_networkx(G_test)\n",
    "test_graph_v2 = StellarGraph.from_networkx(G_test_v2)"
   ]
  },
  {
   "cell_type": "code",
   "execution_count": 14,
   "id": "fb4e80f1",
   "metadata": {},
   "outputs": [
    {
     "name": "stdout",
     "output_type": "stream",
     "text": [
      "StellarGraph: Undirected multigraph\n",
      " Nodes: 7508, Edges: 7507\n",
      "\n",
      " Node types:\n",
      "  default: [7508]\n",
      "    Features: none\n",
      "    Edge types: default-default->default\n",
      "\n",
      " Edge types:\n",
      "    default-default->default: [7507]\n",
      "        Weights: all 1 (default)\n",
      "        Features: none\n",
      "StellarGraph: Undirected multigraph\n",
      " Nodes: 17621, Edges: 18028\n",
      "\n",
      " Node types:\n",
      "  default: [17621]\n",
      "    Features: none\n",
      "    Edge types: default-default->default\n",
      "\n",
      " Edge types:\n",
      "    default-default->default: [18028]\n",
      "        Weights: all 1 (default)\n",
      "        Features: none\n"
     ]
    }
   ],
   "source": [
    "print(test_graph.info())\n",
    "print(test_graph_v2.info())"
   ]
  },
  {
   "cell_type": "code",
   "execution_count": 18,
   "id": "12a1d2a0",
   "metadata": {},
   "outputs": [],
   "source": [
    "nx.write_graphml(G_test, \"../lm-vol/LANL_train_NTLM_Pikachu_filter.graphml\")\n",
    "nx.write_graphml(G_test_v2, \"../lm-vol/LANL_train_NTLM_Pikachu_filter_v2.graphml\")"
   ]
  },
  {
   "cell_type": "code",
   "execution_count": null,
   "id": "d5343fa7",
   "metadata": {},
   "outputs": [],
   "source": [
    "import dask.dataframe as dd"
   ]
  },
  {
   "cell_type": "code",
   "execution_count": null,
   "id": "610d22d5",
   "metadata": {},
   "outputs": [],
   "source": [
    "names = ['time','source user@domain','destination user@domain','source computer','destination computer','authentication type','logon type','authentication orientation','success/failure','day']\n",
    "df =  dd.read_csv('../lm-vol/LANL_train_NTLM.csv', dtype='str', header= None, names=names, blocksize=\"1024MB\")"
   ]
  },
  {
   "cell_type": "code",
   "execution_count": null,
   "id": "ad101107",
   "metadata": {},
   "outputs": [],
   "source": [
    "train_df =  dd.read_csv('../lm-vol/LANL_train.csv', dtype='str', header= None, names=names, blocksize=\"1024MB\")"
   ]
  },
  {
   "cell_type": "code",
   "execution_count": null,
   "id": "ca972be9",
   "metadata": {
    "scrolled": true
   },
   "outputs": [],
   "source": [
    "df.head()"
   ]
  },
  {
   "cell_type": "code",
   "execution_count": null,
   "id": "9b4baf21",
   "metadata": {},
   "outputs": [],
   "source": [
    "df = df.assign(src_user = df['source user@domain'].str.split('@').map(lambda x: x[0]))\n",
    "df = df.assign(dest_user = df['destination user@domain'].str.split('@').map(lambda x: x[0]))"
   ]
  },
  {
   "cell_type": "code",
   "execution_count": null,
   "id": "0725901d",
   "metadata": {},
   "outputs": [],
   "source": [
    "df.head()"
   ]
  },
  {
   "cell_type": "code",
   "execution_count": null,
   "id": "9fc7793d",
   "metadata": {},
   "outputs": [],
   "source": [
    "df = df[(df['src_user'].str.contains('LOCAL')==False) & (df['src_user'].str.contains('SYSTEM')==False) & (df['src_user'].str.contains('ANONYMOUS')==False) & (df['src_user'].str.contains('ADMINISTRARTOR')==False)]"
   ]
  },
  {
   "cell_type": "code",
   "execution_count": null,
   "id": "e583295a",
   "metadata": {},
   "outputs": [],
   "source": [
    "df = df[df['src_user'].str[-1] != '$']"
   ]
  },
  {
   "cell_type": "code",
   "execution_count": null,
   "id": "ef562e9f",
   "metadata": {},
   "outputs": [],
   "source": [
    "df.head()"
   ]
  },
  {
   "cell_type": "code",
   "execution_count": null,
   "id": "5db0a09a",
   "metadata": {},
   "outputs": [],
   "source": [
    "df = df[(df['dest_user'].str.contains('LOCAL')==False) & (df['dest_user'].str.contains('SYSTEM')==False) & (df['dest_user'].str.contains('ANONYMOUS')==False) & (df['dest_user'].str.contains('ADMINISTRARTOR')==False)]\n",
    "df = df[df['dest_user'].str[-1] != '$']"
   ]
  },
  {
   "cell_type": "code",
   "execution_count": null,
   "id": "4d11dc84",
   "metadata": {},
   "outputs": [],
   "source": [
    "df.head()"
   ]
  },
  {
   "cell_type": "code",
   "execution_count": null,
   "id": "9cb09837",
   "metadata": {},
   "outputs": [],
   "source": [
    "df.shape[0].compute()"
   ]
  },
  {
   "cell_type": "code",
   "execution_count": null,
   "id": "1cf30f87",
   "metadata": {},
   "outputs": [],
   "source": [
    "df.to_csv(\"../lm-vol/LANL_train_NTLM_Pikachu_filter.csv\", index=False, single_file=True)"
   ]
  },
  {
   "cell_type": "code",
   "execution_count": null,
   "id": "194f09bd",
   "metadata": {},
   "outputs": [],
   "source": [
    "df.to_parquet(\"../lm-vol/LANL_test_Pickachu_filter.parquet\", engine='pyarrow')"
   ]
  },
  {
   "cell_type": "code",
   "execution_count": null,
   "id": "16c5624c",
   "metadata": {
    "scrolled": true
   },
   "outputs": [],
   "source": [
    "ntlm_df = df[df['authentication type'] == 'Kerberos']\n",
    "ntlm_df.head()"
   ]
  },
  {
   "cell_type": "code",
   "execution_count": null,
   "id": "abba2d9e",
   "metadata": {},
   "outputs": [],
   "source": [
    "ntlm_df.to_csv('../lm-vol/LANL_test_Kerberos.csv', single_file=True)"
   ]
  },
  {
   "cell_type": "code",
   "execution_count": null,
   "id": "f3de8d0a",
   "metadata": {},
   "outputs": [],
   "source": [
    "ntlm_df.shape[0].compute()"
   ]
  },
  {
   "cell_type": "code",
   "execution_count": null,
   "id": "1a55d988",
   "metadata": {},
   "outputs": [],
   "source": [
    "ntlm_train_df = train_df[train_df['authentication type'] == 'Kerberos']\n",
    "ntlm_train_df.head()"
   ]
  },
  {
   "cell_type": "code",
   "execution_count": null,
   "id": "a59754a4",
   "metadata": {},
   "outputs": [],
   "source": [
    "ntlm_train_df.shape[0].compute()"
   ]
  },
  {
   "cell_type": "code",
   "execution_count": null,
   "id": "feb71fc7",
   "metadata": {},
   "outputs": [],
   "source": [
    "ntlm_train_df.to_csv('../lm-vol/LANL_train_Kerberos.csv', single_file=True)"
   ]
  },
  {
   "cell_type": "code",
   "execution_count": null,
   "id": "cb636b20",
   "metadata": {},
   "outputs": [],
   "source": [
    "df2.shape[0].compute()"
   ]
  },
  {
   "cell_type": "code",
   "execution_count": null,
   "id": "0545aeef",
   "metadata": {},
   "outputs": [],
   "source": [
    "train_df2.shape[0].compute()"
   ]
  },
  {
   "cell_type": "code",
   "execution_count": null,
   "id": "dc3dcb3f",
   "metadata": {},
   "outputs": [],
   "source": [
    "df2 = df2.repartition(npartitions=15)\n",
    "df2.npartitions"
   ]
  },
  {
   "cell_type": "code",
   "execution_count": null,
   "id": "578e8008",
   "metadata": {},
   "outputs": [],
   "source": [
    "train_df2.npartitions"
   ]
  },
  {
   "cell_type": "code",
   "execution_count": null,
   "id": "6709ab66",
   "metadata": {},
   "outputs": [],
   "source": [
    "df2 = df2.persist()"
   ]
  },
  {
   "cell_type": "code",
   "execution_count": null,
   "id": "5d581005",
   "metadata": {},
   "outputs": [],
   "source": [
    "max = 100\n",
    "for index, row in df2.iterrows():\n",
    "    if index > max:\n",
    "        break\n",
    "    print(row)"
   ]
  },
  {
   "cell_type": "code",
   "execution_count": null,
   "id": "199e8c54",
   "metadata": {},
   "outputs": [],
   "source": [
    "display(df2)"
   ]
  },
  {
   "cell_type": "code",
   "execution_count": null,
   "id": "8224be52",
   "metadata": {},
   "outputs": [],
   "source": [
    "import multiprocessing\n",
    "import numpy as np\n",
    "import pandas as pd\n",
    "import pickle\n",
    "import gensim\n",
    "from gensim.models import KeyedVectors"
   ]
  },
  {
   "cell_type": "code",
   "execution_count": null,
   "id": "47c4a3fe",
   "metadata": {},
   "outputs": [],
   "source": [
    "for chunk in pd.read_csv('../lm-vol/LANL_test.csv', header=None, chunksize=1000000):\n",
    "    NUM_CORES = 20\n",
    "    # split the raw dataframe into chunks\n",
    "    df_chunks = np.array_split(chunk ,NUM_CORES)\n",
    "    # use a pool to spawn multiple proecsses\n",
    "    with multiprocessing.Pool(NUM_CORES) as pool:\n",
    "        # concatenate all processed chunks together.\n",
    "        # process_df_function is the function you defined in the previous block\n",
    "        processed_df = pd.concat(pool.map(process_df_function, df_chunks), ignore_index=True)\n",
    "    processed_anomalies = processed_df[(processed_df[\"ip_to_service_pred\"].astype(float) <= 0.1) | (processed_df[\"client_to_ip_pred\"].astype(float) <= 0.1)]"
   ]
  }
 ],
 "metadata": {
  "kernelspec": {
   "display_name": "Python 3 (ipykernel)",
   "language": "python",
   "name": "python3"
  },
  "language_info": {
   "codemirror_mode": {
    "name": "ipython",
    "version": 3
   },
   "file_extension": ".py",
   "mimetype": "text/x-python",
   "name": "python",
   "nbconvert_exporter": "python",
   "pygments_lexer": "ipython3",
   "version": "3.8.10"
  }
 },
 "nbformat": 4,
 "nbformat_minor": 5
}
