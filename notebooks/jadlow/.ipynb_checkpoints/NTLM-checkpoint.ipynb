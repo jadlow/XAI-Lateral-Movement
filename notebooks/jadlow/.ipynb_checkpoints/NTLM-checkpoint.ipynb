{
 "cells": [
  {
   "cell_type": "code",
   "execution_count": 3,
   "id": "8e59d61e",
   "metadata": {},
   "outputs": [],
   "source": [
    "import dask.dataframe as dd"
   ]
  },
  {
   "cell_type": "code",
   "execution_count": 10,
   "id": "610d22d5",
   "metadata": {},
   "outputs": [],
   "source": [
    "names = ['time','source user@domain','destination user@domain','source computer','destination computer','authentication type','logon type','authentication orientation','success/failure','day']\n",
    "df =  dd.read_csv('../lm-vol/LANL_test.csv', dtype='str', header= None, names=names, blocksize=\"1024MB\")"
   ]
  },
  {
   "cell_type": "code",
   "execution_count": 25,
   "id": "ad101107",
   "metadata": {},
   "outputs": [],
   "source": [
    "train_df =  dd.read_csv('../lm-vol/LANL_train.csv', dtype='str', header= None, names=names, blocksize=\"1024MB\")"
   ]
  },
  {
   "cell_type": "code",
   "execution_count": 11,
   "id": "ca972be9",
   "metadata": {},
   "outputs": [
    {
     "data": {
      "text/html": [
       "<div>\n",
       "<style scoped>\n",
       "    .dataframe tbody tr th:only-of-type {\n",
       "        vertical-align: middle;\n",
       "    }\n",
       "\n",
       "    .dataframe tbody tr th {\n",
       "        vertical-align: top;\n",
       "    }\n",
       "\n",
       "    .dataframe thead th {\n",
       "        text-align: right;\n",
       "    }\n",
       "</style>\n",
       "<table border=\"1\" class=\"dataframe\">\n",
       "  <thead>\n",
       "    <tr style=\"text-align: right;\">\n",
       "      <th></th>\n",
       "      <th>time</th>\n",
       "      <th>source user@domain</th>\n",
       "      <th>destination user@domain</th>\n",
       "      <th>source computer</th>\n",
       "      <th>destination computer</th>\n",
       "      <th>authentication type</th>\n",
       "      <th>logon type</th>\n",
       "      <th>authentication orientation</th>\n",
       "      <th>success/failure</th>\n",
       "      <th>day</th>\n",
       "    </tr>\n",
       "  </thead>\n",
       "  <tbody>\n",
       "    <tr>\n",
       "      <th>0</th>\n",
       "      <td>1</td>\n",
       "      <td>ANONYMOUS LOGON@C586</td>\n",
       "      <td>ANONYMOUS LOGON@C586</td>\n",
       "      <td>C1250</td>\n",
       "      <td>C586</td>\n",
       "      <td>NTLM</td>\n",
       "      <td>Network</td>\n",
       "      <td>LogOn</td>\n",
       "      <td>Success</td>\n",
       "      <td>1</td>\n",
       "    </tr>\n",
       "    <tr>\n",
       "      <th>1</th>\n",
       "      <td>1</td>\n",
       "      <td>ANONYMOUS LOGON@C586</td>\n",
       "      <td>ANONYMOUS LOGON@C586</td>\n",
       "      <td>C586</td>\n",
       "      <td>C586</td>\n",
       "      <td>?</td>\n",
       "      <td>Network</td>\n",
       "      <td>LogOff</td>\n",
       "      <td>Success</td>\n",
       "      <td>1</td>\n",
       "    </tr>\n",
       "    <tr>\n",
       "      <th>2</th>\n",
       "      <td>1</td>\n",
       "      <td>C101$@DOM1</td>\n",
       "      <td>C101$@DOM1</td>\n",
       "      <td>C988</td>\n",
       "      <td>C988</td>\n",
       "      <td>?</td>\n",
       "      <td>Network</td>\n",
       "      <td>LogOff</td>\n",
       "      <td>Success</td>\n",
       "      <td>1</td>\n",
       "    </tr>\n",
       "    <tr>\n",
       "      <th>3</th>\n",
       "      <td>1</td>\n",
       "      <td>C1020$@DOM1</td>\n",
       "      <td>SYSTEM@C1020</td>\n",
       "      <td>C1020</td>\n",
       "      <td>C1020</td>\n",
       "      <td>Negotiate</td>\n",
       "      <td>Service</td>\n",
       "      <td>LogOn</td>\n",
       "      <td>Success</td>\n",
       "      <td>1</td>\n",
       "    </tr>\n",
       "    <tr>\n",
       "      <th>4</th>\n",
       "      <td>1</td>\n",
       "      <td>C1021$@DOM1</td>\n",
       "      <td>C1021$@DOM1</td>\n",
       "      <td>C1021</td>\n",
       "      <td>C625</td>\n",
       "      <td>Kerberos</td>\n",
       "      <td>Network</td>\n",
       "      <td>LogOn</td>\n",
       "      <td>Success</td>\n",
       "      <td>1</td>\n",
       "    </tr>\n",
       "  </tbody>\n",
       "</table>\n",
       "</div>"
      ],
      "text/plain": [
       "  time    source user@domain destination user@domain source computer  \\\n",
       "0    1  ANONYMOUS LOGON@C586    ANONYMOUS LOGON@C586           C1250   \n",
       "1    1  ANONYMOUS LOGON@C586    ANONYMOUS LOGON@C586            C586   \n",
       "2    1            C101$@DOM1              C101$@DOM1            C988   \n",
       "3    1           C1020$@DOM1            SYSTEM@C1020           C1020   \n",
       "4    1           C1021$@DOM1             C1021$@DOM1           C1021   \n",
       "\n",
       "  destination computer authentication type logon type  \\\n",
       "0                 C586                NTLM    Network   \n",
       "1                 C586                   ?    Network   \n",
       "2                 C988                   ?    Network   \n",
       "3                C1020           Negotiate    Service   \n",
       "4                 C625            Kerberos    Network   \n",
       "\n",
       "  authentication orientation success/failure day  \n",
       "0                      LogOn         Success   1  \n",
       "1                     LogOff         Success   1  \n",
       "2                     LogOff         Success   1  \n",
       "3                      LogOn         Success   1  \n",
       "4                      LogOn         Success   1  "
      ]
     },
     "execution_count": 11,
     "metadata": {},
     "output_type": "execute_result"
    }
   ],
   "source": [
    "df.head()"
   ]
  },
  {
   "cell_type": "code",
   "execution_count": 21,
   "id": "16c5624c",
   "metadata": {},
   "outputs": [
    {
     "data": {
      "text/html": [
       "<div>\n",
       "<style scoped>\n",
       "    .dataframe tbody tr th:only-of-type {\n",
       "        vertical-align: middle;\n",
       "    }\n",
       "\n",
       "    .dataframe tbody tr th {\n",
       "        vertical-align: top;\n",
       "    }\n",
       "\n",
       "    .dataframe thead th {\n",
       "        text-align: right;\n",
       "    }\n",
       "</style>\n",
       "<table border=\"1\" class=\"dataframe\">\n",
       "  <thead>\n",
       "    <tr style=\"text-align: right;\">\n",
       "      <th></th>\n",
       "      <th>time</th>\n",
       "      <th>source user@domain</th>\n",
       "      <th>destination user@domain</th>\n",
       "      <th>source computer</th>\n",
       "      <th>destination computer</th>\n",
       "      <th>authentication type</th>\n",
       "      <th>logon type</th>\n",
       "      <th>authentication orientation</th>\n",
       "      <th>success/failure</th>\n",
       "      <th>day</th>\n",
       "    </tr>\n",
       "  </thead>\n",
       "  <tbody>\n",
       "    <tr>\n",
       "      <th>0</th>\n",
       "      <td>1</td>\n",
       "      <td>ANONYMOUS LOGON@C586</td>\n",
       "      <td>ANONYMOUS LOGON@C586</td>\n",
       "      <td>C1250</td>\n",
       "      <td>C586</td>\n",
       "      <td>NTLM</td>\n",
       "      <td>Network</td>\n",
       "      <td>LogOn</td>\n",
       "      <td>Success</td>\n",
       "      <td>1</td>\n",
       "    </tr>\n",
       "    <tr>\n",
       "      <th>226</th>\n",
       "      <td>1</td>\n",
       "      <td>U898@DOM1</td>\n",
       "      <td>U898@DOM1</td>\n",
       "      <td>C2944</td>\n",
       "      <td>C2944</td>\n",
       "      <td>NTLM</td>\n",
       "      <td>Network</td>\n",
       "      <td>LogOn</td>\n",
       "      <td>Success</td>\n",
       "      <td>1</td>\n",
       "    </tr>\n",
       "    <tr>\n",
       "      <th>245</th>\n",
       "      <td>2</td>\n",
       "      <td>ANONYMOUS LOGON@C457</td>\n",
       "      <td>ANONYMOUS LOGON@C457</td>\n",
       "      <td>C4615</td>\n",
       "      <td>C457</td>\n",
       "      <td>NTLM</td>\n",
       "      <td>Network</td>\n",
       "      <td>LogOn</td>\n",
       "      <td>Success</td>\n",
       "      <td>1</td>\n",
       "    </tr>\n",
       "    <tr>\n",
       "      <th>246</th>\n",
       "      <td>2</td>\n",
       "      <td>ANONYMOUS LOGON@C586</td>\n",
       "      <td>ANONYMOUS LOGON@C586</td>\n",
       "      <td>C2734</td>\n",
       "      <td>C586</td>\n",
       "      <td>NTLM</td>\n",
       "      <td>Network</td>\n",
       "      <td>LogOn</td>\n",
       "      <td>Success</td>\n",
       "      <td>1</td>\n",
       "    </tr>\n",
       "    <tr>\n",
       "      <th>247</th>\n",
       "      <td>2</td>\n",
       "      <td>ANONYMOUS LOGON@C586</td>\n",
       "      <td>ANONYMOUS LOGON@C586</td>\n",
       "      <td>C3896</td>\n",
       "      <td>C586</td>\n",
       "      <td>NTLM</td>\n",
       "      <td>Network</td>\n",
       "      <td>LogOn</td>\n",
       "      <td>Success</td>\n",
       "      <td>1</td>\n",
       "    </tr>\n",
       "  </tbody>\n",
       "</table>\n",
       "</div>"
      ],
      "text/plain": [
       "    time    source user@domain destination user@domain source computer  \\\n",
       "0      1  ANONYMOUS LOGON@C586    ANONYMOUS LOGON@C586           C1250   \n",
       "226    1             U898@DOM1               U898@DOM1           C2944   \n",
       "245    2  ANONYMOUS LOGON@C457    ANONYMOUS LOGON@C457           C4615   \n",
       "246    2  ANONYMOUS LOGON@C586    ANONYMOUS LOGON@C586           C2734   \n",
       "247    2  ANONYMOUS LOGON@C586    ANONYMOUS LOGON@C586           C3896   \n",
       "\n",
       "    destination computer authentication type logon type  \\\n",
       "0                   C586                NTLM    Network   \n",
       "226                C2944                NTLM    Network   \n",
       "245                 C457                NTLM    Network   \n",
       "246                 C586                NTLM    Network   \n",
       "247                 C586                NTLM    Network   \n",
       "\n",
       "    authentication orientation success/failure day  \n",
       "0                        LogOn         Success   1  \n",
       "226                      LogOn         Success   1  \n",
       "245                      LogOn         Success   1  \n",
       "246                      LogOn         Success   1  \n",
       "247                      LogOn         Success   1  "
      ]
     },
     "execution_count": 21,
     "metadata": {},
     "output_type": "execute_result"
    }
   ],
   "source": [
    "df2 = df[df['authentication type'] == 'NTLM']\n",
    "df2.head()"
   ]
  },
  {
   "cell_type": "code",
   "execution_count": 26,
   "id": "1a55d988",
   "metadata": {},
   "outputs": [],
   "source": [
    "train_df2 = train_df[train_df['authentication type'] == 'NTLM']"
   ]
  },
  {
   "cell_type": "code",
   "execution_count": 15,
   "id": "cb636b20",
   "metadata": {},
   "outputs": [
    {
     "data": {
      "text/plain": [
       "15882161"
      ]
     },
     "execution_count": 15,
     "metadata": {},
     "output_type": "execute_result"
    }
   ],
   "source": [
    "df2.shape[0].compute()"
   ]
  },
  {
   "cell_type": "code",
   "execution_count": 27,
   "id": "0545aeef",
   "metadata": {},
   "outputs": [
    {
     "data": {
      "text/plain": [
       "33459139"
      ]
     },
     "execution_count": 27,
     "metadata": {},
     "output_type": "execute_result"
    }
   ],
   "source": [
    "train_df2.shape[0].compute()"
   ]
  },
  {
   "cell_type": "code",
   "execution_count": 22,
   "id": "dc3dcb3f",
   "metadata": {},
   "outputs": [
    {
     "data": {
      "text/plain": [
       "15"
      ]
     },
     "execution_count": 22,
     "metadata": {},
     "output_type": "execute_result"
    }
   ],
   "source": [
    "df2 = df2.repartition(npartitions=15)\n",
    "df2.npartitions"
   ]
  },
  {
   "cell_type": "code",
   "execution_count": 28,
   "id": "578e8008",
   "metadata": {},
   "outputs": [
    {
     "data": {
      "text/plain": [
       "53"
      ]
     },
     "execution_count": 28,
     "metadata": {},
     "output_type": "execute_result"
    }
   ],
   "source": [
    "train_df2.npartitions"
   ]
  },
  {
   "cell_type": "code",
   "execution_count": 23,
   "id": "6709ab66",
   "metadata": {},
   "outputs": [],
   "source": [
    "df2 = df2.persist()"
   ]
  },
  {
   "cell_type": "code",
   "execution_count": 24,
   "id": "5d581005",
   "metadata": {},
   "outputs": [
    {
     "name": "stdout",
     "output_type": "stream",
     "text": [
      "time                                             1\n",
      "source user@domain            ANONYMOUS LOGON@C586\n",
      "destination user@domain       ANONYMOUS LOGON@C586\n",
      "source computer                              C1250\n",
      "destination computer                          C586\n",
      "authentication type                           NTLM\n",
      "logon type                                 Network\n",
      "authentication orientation                   LogOn\n",
      "success/failure                            Success\n",
      "day                                              1\n",
      "Name: 0, dtype: object\n"
     ]
    }
   ],
   "source": [
    "max = 100\n",
    "for index, row in df2.iterrows():\n",
    "    if index > max:\n",
    "        break\n",
    "    print(row)"
   ]
  },
  {
   "cell_type": "code",
   "execution_count": null,
   "id": "05051e0f",
   "metadata": {},
   "outputs": [],
   "source": []
  },
  {
   "cell_type": "code",
   "execution_count": null,
   "id": "8224be52",
   "metadata": {},
   "outputs": [],
   "source": [
    "import multiprocessing\n",
    "import numpy as np\n",
    "import pandas as pd\n",
    "import pickle\n",
    "import gensim\n",
    "from gensim.models import KeyedVectors"
   ]
  },
  {
   "cell_type": "code",
   "execution_count": null,
   "id": "47c4a3fe",
   "metadata": {},
   "outputs": [],
   "source": [
    "for chunk in pd.read_csv('../lm-vol/LANL_test.csv', header=None, chunksize=1000000):\n",
    "    NUM_CORES = 20\n",
    "    # split the raw dataframe into chunks\n",
    "    df_chunks = np.array_split(chunk ,NUM_CORES)\n",
    "    # use a pool to spawn multiple proecsses\n",
    "    with multiprocessing.Pool(NUM_CORES) as pool:\n",
    "        # concatenate all processed chunks together.\n",
    "        # process_df_function is the function you defined in the previous block\n",
    "        processed_df = pd.concat(pool.map(process_df_function, df_chunks), ignore_index=True)\n",
    "    processed_anomalies = processed_df[(processed_df[\"ip_to_service_pred\"].astype(float) <= 0.1) | (processed_df[\"client_to_ip_pred\"].astype(float) <= 0.1)]"
   ]
  }
 ],
 "metadata": {
  "kernelspec": {
   "display_name": "Python 3 (ipykernel)",
   "language": "python",
   "name": "python3"
  },
  "language_info": {
   "codemirror_mode": {
    "name": "ipython",
    "version": 3
   },
   "file_extension": ".py",
   "mimetype": "text/x-python",
   "name": "python",
   "nbconvert_exporter": "python",
   "pygments_lexer": "ipython3",
   "version": "3.8.10"
  }
 },
 "nbformat": 4,
 "nbformat_minor": 5
}
