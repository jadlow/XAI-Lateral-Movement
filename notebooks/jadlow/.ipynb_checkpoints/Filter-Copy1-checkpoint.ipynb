{
 "cells": [
  {
   "cell_type": "code",
   "execution_count": 1,
   "id": "2d3315ad",
   "metadata": {},
   "outputs": [],
   "source": [
    "import dask.dataframe as dd\n",
    "names = ['time','source user@domain','destination user@domain','source computer','destination computer','authentication type','logon type','authentication orientation','success/failure','day']\n",
    "df =  dd.read_csv('../lm-vol/LANL_test.csv', dtype='str', header= None, names=names, blocksize=\"1024MB\")"
   ]
  },
  {
   "cell_type": "code",
   "execution_count": null,
   "id": "be795df9",
   "metadata": {},
   "outputs": [],
   "source": [
    "import dask.dataframe as dd\n",
    "names = ['time','source user@domain','destination user@domain','source computer','destination computer','authentication type','logon type','authentication orientation','success/failure','day']\n",
    "test_df =  dd.read_csv('../lm-vol/LANL_test.csv', dtype='str', header= None, names=names, blocksize=\"1024MB\")"
   ]
  },
  {
   "cell_type": "code",
   "execution_count": null,
   "id": "ae0eb72c",
   "metadata": {},
   "outputs": [],
   "source": [
    "persisteddf = df.persist()"
   ]
  },
  {
   "cell_type": "code",
   "execution_count": null,
   "id": "7742ce1f",
   "metadata": {},
   "outputs": [],
   "source": [
    "persisteddf.shape[0].compute()"
   ]
  },
  {
   "cell_type": "code",
   "execution_count": null,
   "id": "f34f999c",
   "metadata": {},
   "outputs": [],
   "source": [
    "# df = df.assign(src_user = df['source user@domain'].str.split('@').map(lambda x: x[0]))\n",
    "# df = df.assign(dest_user = df['destination user@domain'].str.split('@').map(lambda x: x[0]))"
   ]
  },
  {
   "cell_type": "code",
   "execution_count": null,
   "id": "2ca742c4",
   "metadata": {},
   "outputs": [],
   "source": [
    "# df = df[(df['src_user'].str.contains('LOCAL')==False) & (df['src_user'].str.contains('SYSTEM')==False) & (df['src_user'].str.contains('ANONYMOUS')==False) & (df['src_user'].str.contains('ADMINISTRARTOR')==False)]\n",
    "# df = df[df['src_user'].str[-1] != '$']\n",
    "# df = df[(df['dest_user'].str.contains('LOCAL')==False) & (df['dest_user'].str.contains('SYSTEM')==False) & (df['dest_user'].str.contains('ANONYMOUS')==False) & (df['dest_user'].str.contains('ADMINISTRARTOR')==False)]\n",
    "# df = df[df['dest_user'].str[-1] != '$']"
   ]
  },
  {
   "cell_type": "code",
   "execution_count": 2,
   "id": "a6189fdd",
   "metadata": {},
   "outputs": [
    {
     "data": {
      "text/html": [
       "<div>\n",
       "<style scoped>\n",
       "    .dataframe tbody tr th:only-of-type {\n",
       "        vertical-align: middle;\n",
       "    }\n",
       "\n",
       "    .dataframe tbody tr th {\n",
       "        vertical-align: top;\n",
       "    }\n",
       "\n",
       "    .dataframe thead th {\n",
       "        text-align: right;\n",
       "    }\n",
       "</style>\n",
       "<table border=\"1\" class=\"dataframe\">\n",
       "  <thead>\n",
       "    <tr style=\"text-align: right;\">\n",
       "      <th></th>\n",
       "      <th>time</th>\n",
       "      <th>source user@domain</th>\n",
       "      <th>destination user@domain</th>\n",
       "      <th>source computer</th>\n",
       "      <th>destination computer</th>\n",
       "      <th>authentication type</th>\n",
       "      <th>logon type</th>\n",
       "      <th>authentication orientation</th>\n",
       "      <th>success/failure</th>\n",
       "      <th>day</th>\n",
       "    </tr>\n",
       "  </thead>\n",
       "  <tbody>\n",
       "    <tr>\n",
       "      <th>0</th>\n",
       "      <td>1</td>\n",
       "      <td>ANONYMOUS LOGON@C586</td>\n",
       "      <td>ANONYMOUS LOGON@C586</td>\n",
       "      <td>C1250</td>\n",
       "      <td>C586</td>\n",
       "      <td>NTLM</td>\n",
       "      <td>Network</td>\n",
       "      <td>LogOn</td>\n",
       "      <td>Success</td>\n",
       "      <td>1</td>\n",
       "    </tr>\n",
       "    <tr>\n",
       "      <th>1</th>\n",
       "      <td>1</td>\n",
       "      <td>ANONYMOUS LOGON@C586</td>\n",
       "      <td>ANONYMOUS LOGON@C586</td>\n",
       "      <td>C586</td>\n",
       "      <td>C586</td>\n",
       "      <td>?</td>\n",
       "      <td>Network</td>\n",
       "      <td>LogOff</td>\n",
       "      <td>Success</td>\n",
       "      <td>1</td>\n",
       "    </tr>\n",
       "    <tr>\n",
       "      <th>2</th>\n",
       "      <td>1</td>\n",
       "      <td>C101$@DOM1</td>\n",
       "      <td>C101$@DOM1</td>\n",
       "      <td>C988</td>\n",
       "      <td>C988</td>\n",
       "      <td>?</td>\n",
       "      <td>Network</td>\n",
       "      <td>LogOff</td>\n",
       "      <td>Success</td>\n",
       "      <td>1</td>\n",
       "    </tr>\n",
       "    <tr>\n",
       "      <th>3</th>\n",
       "      <td>1</td>\n",
       "      <td>C1020$@DOM1</td>\n",
       "      <td>SYSTEM@C1020</td>\n",
       "      <td>C1020</td>\n",
       "      <td>C1020</td>\n",
       "      <td>Negotiate</td>\n",
       "      <td>Service</td>\n",
       "      <td>LogOn</td>\n",
       "      <td>Success</td>\n",
       "      <td>1</td>\n",
       "    </tr>\n",
       "    <tr>\n",
       "      <th>4</th>\n",
       "      <td>1</td>\n",
       "      <td>C1021$@DOM1</td>\n",
       "      <td>C1021$@DOM1</td>\n",
       "      <td>C1021</td>\n",
       "      <td>C625</td>\n",
       "      <td>Kerberos</td>\n",
       "      <td>Network</td>\n",
       "      <td>LogOn</td>\n",
       "      <td>Success</td>\n",
       "      <td>1</td>\n",
       "    </tr>\n",
       "  </tbody>\n",
       "</table>\n",
       "</div>"
      ],
      "text/plain": [
       "  time    source user@domain destination user@domain source computer  \\\n",
       "0    1  ANONYMOUS LOGON@C586    ANONYMOUS LOGON@C586           C1250   \n",
       "1    1  ANONYMOUS LOGON@C586    ANONYMOUS LOGON@C586            C586   \n",
       "2    1            C101$@DOM1              C101$@DOM1            C988   \n",
       "3    1           C1020$@DOM1            SYSTEM@C1020           C1020   \n",
       "4    1           C1021$@DOM1             C1021$@DOM1           C1021   \n",
       "\n",
       "  destination computer authentication type logon type  \\\n",
       "0                 C586                NTLM    Network   \n",
       "1                 C586                   ?    Network   \n",
       "2                 C988                   ?    Network   \n",
       "3                C1020           Negotiate    Service   \n",
       "4                 C625            Kerberos    Network   \n",
       "\n",
       "  authentication orientation success/failure day  \n",
       "0                      LogOn         Success   1  \n",
       "1                     LogOff         Success   1  \n",
       "2                     LogOff         Success   1  \n",
       "3                      LogOn         Success   1  \n",
       "4                      LogOn         Success   1  "
      ]
     },
     "execution_count": 2,
     "metadata": {},
     "output_type": "execute_result"
    }
   ],
   "source": [
    "df.head()"
   ]
  },
  {
   "cell_type": "code",
   "execution_count": 3,
   "id": "f7186100",
   "metadata": {},
   "outputs": [],
   "source": [
    "df = df.drop_duplicates(subset=['source user@domain', 'destination computer', 'source computer'])"
   ]
  },
  {
   "cell_type": "code",
   "execution_count": 4,
   "id": "5ce8cf63",
   "metadata": {},
   "outputs": [],
   "source": [
    "LANL_train_unique_df = df[['source user@domain', 'destination computer', 'source computer']]"
   ]
  },
  {
   "cell_type": "code",
   "execution_count": null,
   "id": "e7b86628",
   "metadata": {},
   "outputs": [],
   "source": [
    "LANL_train_unique_df.shape[0].compute()"
   ]
  },
  {
   "cell_type": "code",
   "execution_count": null,
   "id": "6d69b2b8",
   "metadata": {},
   "outputs": [],
   "source": [
    "LANL_train_unique_df.to_csv(\"../lm-vol/LANL_test_unique.csv\", index=False, single_file=True)"
   ]
  },
  {
   "cell_type": "code",
   "execution_count": null,
   "id": "e028ec04",
   "metadata": {},
   "outputs": [],
   "source": [
    "df.to_csv(\"../lm-vol/LANL_Pickachu_filter.csv\", index=False, single_file=True)"
   ]
  },
  {
   "cell_type": "code",
   "execution_count": null,
   "id": "d72f2842",
   "metadata": {},
   "outputs": [],
   "source": []
  }
 ],
 "metadata": {
  "kernelspec": {
   "display_name": "Python 3 (ipykernel)",
   "language": "python",
   "name": "python3"
  },
  "language_info": {
   "codemirror_mode": {
    "name": "ipython",
    "version": 3
   },
   "file_extension": ".py",
   "mimetype": "text/x-python",
   "name": "python",
   "nbconvert_exporter": "python",
   "pygments_lexer": "ipython3",
   "version": "3.8.10"
  }
 },
 "nbformat": 4,
 "nbformat_minor": 5
}
