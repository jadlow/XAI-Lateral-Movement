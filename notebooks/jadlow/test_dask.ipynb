{
 "cells": [
  {
   "cell_type": "code",
   "execution_count": 2,
   "id": "c22e8a32",
   "metadata": {},
   "outputs": [],
   "source": [
    "import multiprocessing\n",
    "import numpy as np\n",
    "import pandas as pd\n",
    "import pickle\n",
    "import gensim\n",
    "from gensim.models import KeyedVectors"
   ]
  },
  {
   "cell_type": "code",
   "execution_count": 3,
   "id": "a8a7801b",
   "metadata": {},
   "outputs": [],
   "source": [
    "def operator_hadamard(u, v):\n",
    "    return u * v\n",
    "\n",
    "\n",
    "def process_df_function(df):\n",
    "\n",
    "    output_df = df.copy()\n",
    "    graph_structure = (1, 3, 2)\n",
    "    client_to_ip_pred = []\n",
    "    ip_to_service_pred = []\n",
    "    for index, row in output_df.iterrows():\n",
    "        try: \n",
    "            client_embedding = wv[(row[graph_structure[0]])]\n",
    "            ip_embedding = wv[(row[graph_structure[1]])]\n",
    "            service_embedding = wv[(row[graph_structure[2]])]\n",
    "            client_to_ip_embedding = [operator_hadamard(client_embedding, ip_embedding)]\n",
    "            ip_to_service_embedding = [operator_hadamard(ip_embedding, service_embedding)]\n",
    "            client_to_ip = clf.predict_proba(client_to_ip_embedding)\n",
    "            ip_to_service = clf.predict_proba(ip_to_service_embedding)\n",
    "            client_to_ip_pred.append(client_to_ip[0][1])\n",
    "            ip_to_service_pred.append(ip_to_service[0][1])\n",
    "        except: \n",
    "            client_to_ip_pred.append(None)\n",
    "            ip_to_service_pred.append(None)\n",
    "    output_df['client_to_ip_pred'] = client_to_ip_pred\n",
    "    output_df['ip_to_service_pred'] = ip_to_service_pred  \n",
    "\n",
    "    output_df.reset_index(drop=True, inplace=True)\n",
    "\n",
    "    return output_df\n"
   ]
  },
  {
   "cell_type": "code",
   "execution_count": 4,
   "id": "0354537c",
   "metadata": {},
   "outputs": [],
   "source": [
    "\n",
    "name='2_18_500_epochs'\n",
    "with open(f'../lm-vol/{name}_lr.pkl', 'rb') as file:\n",
    "    clf = pickle.load(file)\n",
    "model = gensim.models.Word2Vec.load(f'../lm-vol/{name}_word2vec.model')\n",
    "wv = KeyedVectors.load(f'../lm-vol/{name}_word2vec.wordvectors', mmap='r')\n"
   ]
  },
  {
   "cell_type": "code",
   "execution_count": 5,
   "id": "61e01db8",
   "metadata": {},
   "outputs": [
    {
     "name": "stdout",
     "output_type": "stream",
     "text": [
      "CPU times: user 1.63 s, sys: 532 ms, total: 2.17 s\n",
      "Wall time: 20.1 s\n"
     ]
    }
   ],
   "source": [
    "%%time\n",
    "\n",
    "for chunk in pd.read_csv('../lm-vol/LANL_test.csv', header=None, chunksize=1000000):\n",
    "    NUM_CORES = 20\n",
    "    # split the raw dataframe into chunks\n",
    "    df_chunks = np.array_split(chunk ,NUM_CORES)\n",
    "    # use a pool to spawn multiple proecsses\n",
    "    with multiprocessing.Pool(NUM_CORES) as pool:\n",
    "        # concatenate all processed chunks together.\n",
    "        # process_df_function is the function you defined in the previous block\n",
    "        processed_df = pd.concat(pool.map(process_df_function, df_chunks), ignore_index=True)\n",
    "    processed_anomalies = processed_df[(processed_df[\"ip_to_service_pred\"].astype(float) <= 0.1) | (processed_df[\"client_to_ip_pred\"].astype(float) <= 0.1)]\n"
   ]
  },
  {
   "cell_type": "code",
   "execution_count": 6,
   "id": "76a4c18f",
   "metadata": {},
   "outputs": [
    {
     "name": "stdout",
     "output_type": "stream",
     "text": [
      "CPU times: user 6min 17s, sys: 13.4 s, total: 6min 30s\n",
      "Wall time: 7min 1s\n"
     ]
    }
   ],
   "source": [
    "%%time\n",
    "for chunk in pd.read_csv('../lm-vol/LANL_test.csv', header=None, chunksize=1000000):\n",
    "    process_df_function(chunk)\n",
    "    break"
   ]
  },
  {
   "cell_type": "code",
   "execution_count": null,
   "id": "52e0170f",
   "metadata": {},
   "outputs": [],
   "source": []
  }
 ],
 "metadata": {
  "kernelspec": {
   "display_name": "Python 3 (ipykernel)",
   "language": "python",
   "name": "python3"
  },
  "language_info": {
   "codemirror_mode": {
    "name": "ipython",
    "version": 3
   },
   "file_extension": ".py",
   "mimetype": "text/x-python",
   "name": "python",
   "nbconvert_exporter": "python",
   "pygments_lexer": "ipython3",
   "version": "3.8.10"
  }
 },
 "nbformat": 4,
 "nbformat_minor": 5
}
