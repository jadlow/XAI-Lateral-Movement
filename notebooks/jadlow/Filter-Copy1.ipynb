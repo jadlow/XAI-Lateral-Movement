{
 "cells": [
  {
   "cell_type": "code",
   "execution_count": 1,
   "id": "2d3315ad",
   "metadata": {},
   "outputs": [],
   "source": [
    "import dask.dataframe as dd\n",
    "names = ['time','source user@domain','destination user@domain','source computer','destination computer','authentication type','logon type','authentication orientation','success/failure','day']\n",
    "df =  dd.read_csv('../lm-vol/LANL_train.csv', dtype='str', header= None, names=names, blocksize=\"1024MB\")"
   ]
  },
  {
   "cell_type": "code",
   "execution_count": null,
   "id": "a6189fdd",
   "metadata": {},
   "outputs": [],
   "source": [
    "df.head()"
   ]
  },
  {
   "cell_type": "code",
   "execution_count": 2,
   "id": "f7186100",
   "metadata": {},
   "outputs": [],
   "source": [
    "df = df.drop_duplicates(subset=['source user@domain', 'destination computer', 'source computer'])"
   ]
  },
  {
   "cell_type": "code",
   "execution_count": 3,
   "id": "5ce8cf63",
   "metadata": {},
   "outputs": [],
   "source": [
    "LANL_train_unique_df = df[['source user@domain', 'destination computer', 'source computer']]"
   ]
  },
  {
   "cell_type": "code",
   "execution_count": 4,
   "id": "6d69b2b8",
   "metadata": {},
   "outputs": [
    {
     "data": {
      "text/plain": [
       "['/lm-vol/LANL_train_unique_v2.csv']"
      ]
     },
     "execution_count": 4,
     "metadata": {},
     "output_type": "execute_result"
    }
   ],
   "source": [
    "LANL_train_unique_df.to_csv(\"../lm-vol/LANL_train_unique_v2.csv\", index=False, single_file=True)"
   ]
  },
  {
   "cell_type": "code",
   "execution_count": null,
   "id": "e028ec04",
   "metadata": {},
   "outputs": [],
   "source": [
    "LANL_train_unique_df.shape[0].compute()"
   ]
  },
  {
   "cell_type": "code",
   "execution_count": null,
   "id": "d72f2842",
   "metadata": {},
   "outputs": [],
   "source": []
  }
 ],
 "metadata": {
  "kernelspec": {
   "display_name": "Python 3 (ipykernel)",
   "language": "python",
   "name": "python3"
  },
  "language_info": {
   "codemirror_mode": {
    "name": "ipython",
    "version": 3
   },
   "file_extension": ".py",
   "mimetype": "text/x-python",
   "name": "python",
   "nbconvert_exporter": "python",
   "pygments_lexer": "ipython3",
   "version": "3.8.10"
  }
 },
 "nbformat": 4,
 "nbformat_minor": 5
}
