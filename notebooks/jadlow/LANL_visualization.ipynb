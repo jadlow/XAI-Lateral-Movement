{
 "cells": [
  {
   "cell_type": "code",
   "execution_count": 2,
   "id": "59e895b2",
   "metadata": {
    "scrolled": true
   },
   "outputs": [],
   "source": [
    "import gensim\n",
    "from gensim.models import KeyedVectors\n",
    "from stellargraph.data import EdgeSplitter\n",
    "import networkx as nx\n",
    "from sklearn.linear_model import LogisticRegressionCV\n",
    "import pandas as pd\n",
    "import pickle"
   ]
  },
  {
   "cell_type": "code",
   "execution_count": 3,
   "id": "0ed33701",
   "metadata": {},
   "outputs": [],
   "source": [
    "train_df = pd.read_csv('../../../../lm-vol/LANL_train_unique_v2.csv')"
   ]
  },
  {
   "cell_type": "code",
   "execution_count": 5,
   "id": "3d66d67e",
   "metadata": {},
   "outputs": [
    {
     "data": {
      "text/html": [
       "<div>\n",
       "<style scoped>\n",
       "    .dataframe tbody tr th:only-of-type {\n",
       "        vertical-align: middle;\n",
       "    }\n",
       "\n",
       "    .dataframe tbody tr th {\n",
       "        vertical-align: top;\n",
       "    }\n",
       "\n",
       "    .dataframe thead th {\n",
       "        text-align: right;\n",
       "    }\n",
       "</style>\n",
       "<table border=\"1\" class=\"dataframe\">\n",
       "  <thead>\n",
       "    <tr style=\"text-align: right;\">\n",
       "      <th></th>\n",
       "      <th>source user@domain</th>\n",
       "      <th>destination computer</th>\n",
       "      <th>source computer</th>\n",
       "    </tr>\n",
       "  </thead>\n",
       "  <tbody>\n",
       "    <tr>\n",
       "      <th>0</th>\n",
       "      <td>ANONYMOUS LOGON@C1697</td>\n",
       "      <td>C1697</td>\n",
       "      <td>C1697</td>\n",
       "    </tr>\n",
       "    <tr>\n",
       "      <th>1</th>\n",
       "      <td>ANONYMOUS LOGON@C586</td>\n",
       "      <td>C586</td>\n",
       "      <td>C1505</td>\n",
       "    </tr>\n",
       "    <tr>\n",
       "      <th>2</th>\n",
       "      <td>ANONYMOUS LOGON@C586</td>\n",
       "      <td>C586</td>\n",
       "      <td>C586</td>\n",
       "    </tr>\n",
       "    <tr>\n",
       "      <th>3</th>\n",
       "      <td>C10081$@DOM1</td>\n",
       "      <td>C528</td>\n",
       "      <td>C528</td>\n",
       "    </tr>\n",
       "    <tr>\n",
       "      <th>4</th>\n",
       "      <td>C101$@DOM1</td>\n",
       "      <td>C988</td>\n",
       "      <td>C988</td>\n",
       "    </tr>\n",
       "    <tr>\n",
       "      <th>...</th>\n",
       "      <td>...</td>\n",
       "      <td>...</td>\n",
       "      <td>...</td>\n",
       "    </tr>\n",
       "    <tr>\n",
       "      <th>1431275</th>\n",
       "      <td>U8500@DOM1</td>\n",
       "      <td>C529</td>\n",
       "      <td>C1128</td>\n",
       "    </tr>\n",
       "    <tr>\n",
       "      <th>1431276</th>\n",
       "      <td>U8500@DOM1</td>\n",
       "      <td>C457</td>\n",
       "      <td>C1128</td>\n",
       "    </tr>\n",
       "    <tr>\n",
       "      <th>1431277</th>\n",
       "      <td>U8500@DOM1</td>\n",
       "      <td>C1114</td>\n",
       "      <td>C1115</td>\n",
       "    </tr>\n",
       "    <tr>\n",
       "      <th>1431278</th>\n",
       "      <td>U8500@DOM1</td>\n",
       "      <td>C1115</td>\n",
       "      <td>C1115</td>\n",
       "    </tr>\n",
       "    <tr>\n",
       "      <th>1431279</th>\n",
       "      <td>U6957@DOM1</td>\n",
       "      <td>C612</td>\n",
       "      <td>C1265</td>\n",
       "    </tr>\n",
       "  </tbody>\n",
       "</table>\n",
       "<p>1431280 rows × 3 columns</p>\n",
       "</div>"
      ],
      "text/plain": [
       "            source user@domain destination computer source computer\n",
       "0        ANONYMOUS LOGON@C1697                C1697           C1697\n",
       "1         ANONYMOUS LOGON@C586                 C586           C1505\n",
       "2         ANONYMOUS LOGON@C586                 C586            C586\n",
       "3                 C10081$@DOM1                 C528            C528\n",
       "4                   C101$@DOM1                 C988            C988\n",
       "...                        ...                  ...             ...\n",
       "1431275             U8500@DOM1                 C529           C1128\n",
       "1431276             U8500@DOM1                 C457           C1128\n",
       "1431277             U8500@DOM1                C1114           C1115\n",
       "1431278             U8500@DOM1                C1115           C1115\n",
       "1431279             U6957@DOM1                 C612           C1265\n",
       "\n",
       "[1431280 rows x 3 columns]"
      ]
     },
     "execution_count": 5,
     "metadata": {},
     "output_type": "execute_result"
    }
   ],
   "source": [
    "train_df"
   ]
  },
  {
   "cell_type": "code",
   "execution_count": 6,
   "id": "47d2d60c",
   "metadata": {},
   "outputs": [],
   "source": [
    "test_df = pd.read_csv('../../../../lm-vol/LANL_test_unique_v2.csv')"
   ]
  },
  {
   "cell_type": "code",
   "execution_count": 7,
   "id": "feffc24b",
   "metadata": {},
   "outputs": [
    {
     "data": {
      "text/html": [
       "<div>\n",
       "<style scoped>\n",
       "    .dataframe tbody tr th:only-of-type {\n",
       "        vertical-align: middle;\n",
       "    }\n",
       "\n",
       "    .dataframe tbody tr th {\n",
       "        vertical-align: top;\n",
       "    }\n",
       "\n",
       "    .dataframe thead th {\n",
       "        text-align: right;\n",
       "    }\n",
       "</style>\n",
       "<table border=\"1\" class=\"dataframe\">\n",
       "  <thead>\n",
       "    <tr style=\"text-align: right;\">\n",
       "      <th></th>\n",
       "      <th>source user@domain</th>\n",
       "      <th>destination computer</th>\n",
       "      <th>source computer</th>\n",
       "    </tr>\n",
       "  </thead>\n",
       "  <tbody>\n",
       "    <tr>\n",
       "      <th>0</th>\n",
       "      <td>ANONYMOUS LOGON@C586</td>\n",
       "      <td>C586</td>\n",
       "      <td>C1250</td>\n",
       "    </tr>\n",
       "    <tr>\n",
       "      <th>1</th>\n",
       "      <td>ANONYMOUS LOGON@C586</td>\n",
       "      <td>C586</td>\n",
       "      <td>C586</td>\n",
       "    </tr>\n",
       "    <tr>\n",
       "      <th>2</th>\n",
       "      <td>C101$@DOM1</td>\n",
       "      <td>C988</td>\n",
       "      <td>C988</td>\n",
       "    </tr>\n",
       "    <tr>\n",
       "      <th>3</th>\n",
       "      <td>C1020$@DOM1</td>\n",
       "      <td>C1020</td>\n",
       "      <td>C1020</td>\n",
       "    </tr>\n",
       "    <tr>\n",
       "      <th>4</th>\n",
       "      <td>C1021$@DOM1</td>\n",
       "      <td>C625</td>\n",
       "      <td>C1021</td>\n",
       "    </tr>\n",
       "    <tr>\n",
       "      <th>...</th>\n",
       "      <td>...</td>\n",
       "      <td>...</td>\n",
       "      <td>...</td>\n",
       "    </tr>\n",
       "    <tr>\n",
       "      <th>1062869</th>\n",
       "      <td>U7319@?</td>\n",
       "      <td>C528</td>\n",
       "      <td>C528</td>\n",
       "    </tr>\n",
       "    <tr>\n",
       "      <th>1062870</th>\n",
       "      <td>U1345@DOM1</td>\n",
       "      <td>C1640</td>\n",
       "      <td>C23653</td>\n",
       "    </tr>\n",
       "    <tr>\n",
       "      <th>1062871</th>\n",
       "      <td>U5462@DOM1</td>\n",
       "      <td>C1065</td>\n",
       "      <td>C17256</td>\n",
       "    </tr>\n",
       "    <tr>\n",
       "      <th>1062872</th>\n",
       "      <td>U5462@DOM1</td>\n",
       "      <td>C1065</td>\n",
       "      <td>C1065</td>\n",
       "    </tr>\n",
       "    <tr>\n",
       "      <th>1062873</th>\n",
       "      <td>U422@?</td>\n",
       "      <td>C2109</td>\n",
       "      <td>C2109</td>\n",
       "    </tr>\n",
       "  </tbody>\n",
       "</table>\n",
       "<p>1062874 rows × 3 columns</p>\n",
       "</div>"
      ],
      "text/plain": [
       "           source user@domain destination computer source computer\n",
       "0        ANONYMOUS LOGON@C586                 C586           C1250\n",
       "1        ANONYMOUS LOGON@C586                 C586            C586\n",
       "2                  C101$@DOM1                 C988            C988\n",
       "3                 C1020$@DOM1                C1020           C1020\n",
       "4                 C1021$@DOM1                 C625           C1021\n",
       "...                       ...                  ...             ...\n",
       "1062869               U7319@?                 C528            C528\n",
       "1062870            U1345@DOM1                C1640          C23653\n",
       "1062871            U5462@DOM1                C1065          C17256\n",
       "1062872            U5462@DOM1                C1065           C1065\n",
       "1062873                U422@?                C2109           C2109\n",
       "\n",
       "[1062874 rows x 3 columns]"
      ]
     },
     "execution_count": 7,
     "metadata": {},
     "output_type": "execute_result"
    }
   ],
   "source": [
    "test_df"
   ]
  },
  {
   "cell_type": "code",
   "execution_count": 8,
   "id": "685fabf1",
   "metadata": {},
   "outputs": [],
   "source": [
    "model = gensim.models.Word2Vec.load('../../../../lm-vol/2_28_new_structure_500_epochs_word2vec.model')\n",
    "wv = KeyedVectors.load('../../../../lm-vol/2_28_new_structure_500_epochs_word2vec.wordvectors', mmap='r')\n",
    "G = nx.read_graphml('../../../../lm-vol/LANL_train_unique_v2.graphml')\n",
    "\n",
    "def operator_hadamard(u, v):\n",
    "    return u * v"
   ]
  },
  {
   "cell_type": "code",
   "execution_count": 9,
   "id": "0cda3e34",
   "metadata": {},
   "outputs": [],
   "source": [
    "with open('../../../../lm-vol/2_28_new_structure_lr.pkl', 'rb') as file:\n",
    "    clf = pickle.load(file)"
   ]
  },
  {
   "cell_type": "code",
   "execution_count": 10,
   "id": "d12fa0e2",
   "metadata": {
    "scrolled": true
   },
   "outputs": [],
   "source": [
    "graph_structure = ('source user@domain', 'source computer', 'destination computer')\n",
    "client_to_ip_pred = []\n",
    "ip_to_service_pred = []\n",
    "inconclusive = 0\n",
    "for index, row in test_df.iterrows():\n",
    "    try:\n",
    "        client_embedding = wv[(row[graph_structure[0]])]\n",
    "        ip_embedding = wv[(row[graph_structure[1]])]\n",
    "        service_embedding = wv[(row[graph_structure[2]])]\n",
    "        client_to_ip_embedding = [operator_hadamard(client_embedding, ip_embedding)]\n",
    "        ip_to_service_embedding = [operator_hadamard(ip_embedding, service_embedding)]\n",
    "        client_to_ip = clf.predict_proba(client_to_ip_embedding)\n",
    "        ip_to_service = clf.predict_proba(ip_to_service_embedding)\n",
    "        client_to_ip_pred.append(client_to_ip[0][1])\n",
    "        ip_to_service_pred.append(ip_to_service[0][1])\n",
    "    except: \n",
    "        client_to_ip_pred.append(None)\n",
    "        ip_to_service_pred.append(None)\n",
    "        inconclusive += 1"
   ]
  },
  {
   "cell_type": "code",
   "execution_count": 12,
   "id": "abac905d",
   "metadata": {},
   "outputs": [
    {
     "data": {
      "text/plain": [
       "1062874"
      ]
     },
     "execution_count": 12,
     "metadata": {},
     "output_type": "execute_result"
    }
   ],
   "source": [
    "len(client_to_ip_pred)"
   ]
  },
  {
   "cell_type": "code",
   "execution_count": 13,
   "id": "7ddbeb9f",
   "metadata": {},
   "outputs": [],
   "source": [
    "test_df['client_to_ip'] = client_to_ip_pred\n",
    "test_df['ip_to_service'] = ip_to_service_pred"
   ]
  },
  {
   "cell_type": "code",
   "execution_count": 16,
   "id": "c10b635c",
   "metadata": {},
   "outputs": [
    {
     "name": "stdout",
     "output_type": "stream",
     "text": [
      "0.3626282239611694\n",
      "378928\n",
      "666021\n"
     ]
    }
   ],
   "source": [
    "anomalous_edges = len(test_df[(test_df[\"ip_to_service\"].astype(float) <= 0.1) | (test_df[\"client_to_ip\"].astype(float) <= 0.1)])\n",
    "normal_edges = len(test_df[(test_df[\"ip_to_service\"].astype(float) > 0.1) & (test_df[\"client_to_ip\"].astype(float) > 0.1)])\n",
    "print(anomalous_edges/(normal_edges+anomalous_edges))\n",
    "print(anomalous_edges)\n",
    "print(normal_edges)"
   ]
  },
  {
   "cell_type": "markdown",
   "id": "992223c6",
   "metadata": {},
   "source": [
    "test_G = nx.Graph()\n",
    "for index, row in test_df.iterrows():\n",
    "    user_node = row[graph_structure[0]]\n",
    "    ip_node = row[graph_structure[1]]\n",
    "    service_node = row[graph_structure[2]]\n",
    "    test_G.add_nodes_from([ip_node, service_node, user_node])\n",
    "    test_G.add_edge(user_node, ip_node)\n",
    "    test_G.add_edge(ip_node, service_node)"
   ]
  },
  {
   "cell_type": "code",
   "execution_count": null,
   "id": "829c4747",
   "metadata": {},
   "outputs": [],
   "source": [
    "test_nodes = set(test_G.nodes)\n",
    "train_nodes = set(G.nodes)\n",
    "missing_nodes = test_nodes.difference(train_nodes)\n",
    "filtered_test_G = test_G.copy()\n",
    "for index, edge in enumerate(filtered_test_G.edges):\n",
    "    if edge[0] in missing_nodes or edge[1] in missing_nodes:\n",
    "        filtered_test_G.remove_edge(*edge)"
   ]
  },
  {
   "cell_type": "code",
   "execution_count": null,
   "id": "41ed9aa0",
   "metadata": {},
   "outputs": [],
   "source": [
    "edge_vectors = []\n",
    "for index, edge in enumerate(filtered_test_G.edges):\n",
    "    src = model.wv[edge[0]]\n",
    "    dest = model.wv[edge[1]]\n",
    "    src_to_dest = [operator_hadamard(src, dest)]\n",
    "    prob = clf.predict_proba(src_to_dest)\n",
    "    if prob[0][1] <= 0.1:\n",
    "        edge_vectors.append((src_to_dest, 1))\n",
    "    else:\n",
    "        edge_vectors.append((src_to_dest, 0))"
   ]
  },
  {
   "cell_type": "code",
   "execution_count": null,
   "id": "14dcdde9",
   "metadata": {},
   "outputs": [],
   "source": [
    "anomalous_edge_vectors = filter(lambda x: x[1] == 1, edge_vectors)\n",
    "print(len(list(anomalous_edge_vectors)))"
   ]
  },
  {
   "cell_type": "code",
   "execution_count": null,
   "id": "9718c1e6",
   "metadata": {},
   "outputs": [],
   "source": [
    "tsne = TSNE(n_components=2, random_state=7, perplexity=15)\n",
    "embeddings = np.array([edge[0][0] for edge in edge_vectors])\n",
    "embeddings_2d = tsne.fit_transform(embeddings)"
   ]
  },
  {
   "cell_type": "code",
   "execution_count": null,
   "id": "f30f33f4",
   "metadata": {},
   "outputs": [],
   "source": [
    "labels = np.array([edge[1] for edge in edge_vectors])\n",
    "figure = plt.figure(figsize=(11, 9))\n",
    "\n",
    "ax = figure.add_subplot(111)\n",
    "\n",
    "ax.scatter(embeddings_2d[:, 0], embeddings_2d[:, 1], s=5, c=labels, cmap='bwr')"
   ]
  },
  {
   "cell_type": "code",
   "execution_count": null,
   "id": "ea5629c4",
   "metadata": {},
   "outputs": [],
   "source": [
    "predictions = []\n",
    "for index, row in test_df.iterrows():\n",
    "    try:\n",
    "        client = model.wv[row['client']]\n",
    "        ip = model.wv[row['id.orig_h']]\n",
    "        service = model.wv[row['service']]\n",
    "        client_to_ip = [operator_hadamard(client, ip)]\n",
    "        ip_to_service = [operator_hadamard(service, ip)]\n",
    "        prob1 = clf.predict_proba(client_to_ip)\n",
    "        prob2 = clf.predict_proba(ip_to_service)\n",
    "        if prob1[0][1] <= 0.1:\n",
    "            predictions.append(1)\n",
    "        elif prob2[0][1]<= 0.1:\n",
    "            predictions.append(1)\n",
    "        else:\n",
    "            predictions.append(0)\n",
    "    except:\n",
    "        predictions.append(-1)\n",
    "test_df['predictions'] = predictions"
   ]
  },
  {
   "cell_type": "code",
   "execution_count": null,
   "id": "0f7a3b3b",
   "metadata": {},
   "outputs": [],
   "source": [
    "test_df[['client', 'service', 'id.orig_h', 'predictions', 'malicious']]"
   ]
  },
  {
   "cell_type": "code",
   "execution_count": null,
   "id": "826af07d",
   "metadata": {},
   "outputs": [],
   "source": [
    "red_labels = list(test_df.malicious)\n",
    "labels = list(test_df.predictions)\n",
    "true_positives = 0\n",
    "false_positives = 0\n",
    "true_negatives = 0\n",
    "false_negatives = 0\n",
    "for index, label in enumerate(labels):\n",
    "    if label == 1:\n",
    "        if red_labels[index] == 1:\n",
    "            true_positives += 1\n",
    "        else:\n",
    "            false_positives += 1\n",
    "    else:\n",
    "        if red_labels[index] == 1:\n",
    "            false_negatives += 1\n",
    "        else:\n",
    "            true_negatives += 1\n",
    "print(f'true postives: {true_positives}')\n",
    "print(f'true negatives: {true_negatives}')\n",
    "print(f'false postives: {false_positives}')\n",
    "print(f'false negatives: {false_negatives}')\n",
    "print(f'false positive rate: {false_positives/(true_negatives+false_positives)}')\n",
    "print(f'true positive rate: {true_positives/(true_positives+false_negatives)}')"
   ]
  },
  {
   "cell_type": "code",
   "execution_count": null,
   "id": "ea7a8151",
   "metadata": {},
   "outputs": [],
   "source": [
    "test_df['predictions'].value_counts()"
   ]
  },
  {
   "cell_type": "code",
   "execution_count": null,
   "id": "d4dc3586",
   "metadata": {},
   "outputs": [],
   "source": [
    "anomaly_df = test_df[test_df['predictions'] == 1]\n",
    "missing_df = test_df[test_df['predictions'] == -1]"
   ]
  },
  {
   "cell_type": "code",
   "execution_count": null,
   "id": "26485bc5",
   "metadata": {},
   "outputs": [],
   "source": [
    "anomaly_df[['client', 'id.orig_h', 'service', 'ts']]"
   ]
  },
  {
   "cell_type": "code",
   "execution_count": null,
   "id": "4d14cb76",
   "metadata": {},
   "outputs": [],
   "source": [
    "anomalies = []\n",
    "for index, row in anomaly_df.iterrows():\n",
    "    anomaly = [row['client'], row['id.orig_h'], row['service']]\n",
    "    anomalies.append(anomaly)"
   ]
  },
  {
   "cell_type": "code",
   "execution_count": null,
   "id": "7121498c",
   "metadata": {},
   "outputs": [],
   "source": [
    "def explain_graph(anomaly, train_graph):\n",
    "    \n",
    "    def filter_node(node):\n",
    "        return node in filtered_nodes\n",
    "    \n",
    "    client_node, ip_node, service_node = anomaly\n",
    "    client_neighbors = [n for n in train_graph.neighbors(client_node)]\n",
    "    ip_neighbors = [n for n in train_graph.neighbors(ip_node)]\n",
    "    service_neighbors = [n for n in train_graph.neighbors(service_node)]\n",
    "    print(f'client {anomaly[0]} has {len(client_neighbors)} neighbors')\n",
    "    print(f'ip {anomaly[1]} has {len(ip_neighbors)} neighbors')\n",
    "    print(f'service {anomaly[2]} has {len(service_neighbors)} neighbors')\n",
    "    filtered_nodes = set(client_neighbors + ip_neighbors + service_neighbors + anomaly)\n",
    "    view = nx.subgraph_view(train_graph, filter_node = filter_node)\n",
    "    ColorScale = plt.get_cmap('RdYlGn')\n",
    "    subgraph = nx.Graph(view)\n",
    "    subgraph.add_edge(client_node, ip_node)\n",
    "    subgraph.add_edge(ip_node, service_node)\n",
    "    for edge in subgraph.edges:\n",
    "        src, dest = edge\n",
    "        edge_embedding = [operator_hadamard(model.wv[src],model.wv[dest])]\n",
    "        edge_prob = clf.predict_proba(edge_embedding)\n",
    "        subgraph[src][dest]['prob'] = ColorScale(edge_prob[0][1])\n",
    "    node_colors = []\n",
    "    for node in subgraph.nodes:\n",
    "        if node == client_node:\n",
    "            node_colors.append('yellow')\n",
    "        elif node == ip_node:\n",
    "            node_colors.append('orange')\n",
    "        elif node == service_node:\n",
    "            node_colors.append('red')\n",
    "        else:\n",
    "            node_colors.append('#1f77b4')\n",
    "    edge_colors = [x[2] for x in subgraph.edges.data('prob')]\n",
    "    nx.draw(subgraph, edge_color=edge_colors, node_color=node_colors, with_labels=True)"
   ]
  },
  {
   "cell_type": "code",
   "execution_count": null,
   "id": "6c86db17",
   "metadata": {},
   "outputs": [],
   "source": [
    "explain_graph(anomalies[75], G)"
   ]
  },
  {
   "cell_type": "code",
   "execution_count": null,
   "id": "7146755e",
   "metadata": {},
   "outputs": [],
   "source": []
  },
  {
   "cell_type": "code",
   "execution_count": null,
   "id": "fc02967c",
   "metadata": {},
   "outputs": [],
   "source": []
  }
 ],
 "metadata": {
  "kernelspec": {
   "display_name": "Python 3 (ipykernel)",
   "language": "python",
   "name": "python3"
  },
  "language_info": {
   "codemirror_mode": {
    "name": "ipython",
    "version": 3
   },
   "file_extension": ".py",
   "mimetype": "text/x-python",
   "name": "python",
   "nbconvert_exporter": "python",
   "pygments_lexer": "ipython3",
   "version": "3.8.10"
  }
 },
 "nbformat": 4,
 "nbformat_minor": 5
}
