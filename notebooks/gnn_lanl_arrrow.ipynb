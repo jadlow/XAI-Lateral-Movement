{
 "cells": [
  {
   "cell_type": "code",
   "execution_count": 2,
   "id": "2428e294",
   "metadata": {},
   "outputs": [],
   "source": [
    "from pyarrow import csv"
   ]
  },
  {
   "cell_type": "code",
   "execution_count": 3,
   "id": "35d23708",
   "metadata": {},
   "outputs": [],
   "source": [
    "read_options = csv.ReadOptions(\n",
    "               column_names=[\"time\",\"source user@domain\",\"destination user@domain\", \\\n",
    "                             \"source computer\",\"destination computer\",\"authentication type\", \\\n",
    "                             \"logon type\",\"authentication orientation\",\"success/failure\",\"day\"])\n"
   ]
  },
  {
   "cell_type": "code",
   "execution_count": 5,
   "id": "143a4842",
   "metadata": {},
   "outputs": [],
   "source": [
    "table_file = csv.read_csv('../lm-vol/redteam_complete.csv', read_options=read_options)"
   ]
  },
  {
   "cell_type": "code",
   "execution_count": 6,
   "id": "6f9f7629",
   "metadata": {},
   "outputs": [
    {
     "name": "stdout",
     "output_type": "stream",
     "text": [
      "Help on built-in function filter:\n",
      "\n",
      "filter(...) method of pyarrow.lib.Table instance\n",
      "    Table.filter(self, mask, null_selection_behavior=u'drop')\n",
      "    \n",
      "    Select rows from the table.\n",
      "    \n",
      "    The Table can be filtered based on a mask, which will be passed to\n",
      "    :func:`pyarrow.compute.filter` to perform the filtering, or it can\n",
      "    be filtered through a boolean :class:`.Expression`\n",
      "    \n",
      "    Parameters\n",
      "    ----------\n",
      "    mask : Array or array-like or .Expression\n",
      "        The boolean mask or the :class:`.Expression` to filter the table with.\n",
      "    null_selection_behavior : str, default \"drop\"\n",
      "        How nulls in the mask should be handled, does nothing if\n",
      "        an :class:`.Expression` is used.\n",
      "    \n",
      "    Returns\n",
      "    -------\n",
      "    filtered : Table\n",
      "        A table of the same schema, with only the rows selected\n",
      "        by applied filtering\n",
      "    \n",
      "    Examples\n",
      "    --------\n",
      "    >>> import pyarrow as pa\n",
      "    >>> import pandas as pd\n",
      "    >>> df = pd.DataFrame({'year': [2020, 2022, 2019, 2021],\n",
      "    ...                    'n_legs': [2, 4, 5, 100],\n",
      "    ...                    'animals': [\"Flamingo\", \"Horse\", \"Brittle stars\", \"Centipede\"]})\n",
      "    >>> table = pa.Table.from_pandas(df)\n",
      "    \n",
      "    Define an expression and select rows:\n",
      "    \n",
      "    >>> import pyarrow.compute as pc\n",
      "    >>> expr = pc.field(\"year\") <= 2020\n",
      "    >>> table.filter(expr)\n",
      "    pyarrow.Table\n",
      "    year: int64\n",
      "    n_legs: int64\n",
      "    animals: string\n",
      "    ----\n",
      "    year: [[2020,2019]]\n",
      "    n_legs: [[2,5]]\n",
      "    animals: [[\"Flamingo\",\"Brittle stars\"]]\n",
      "    \n",
      "    Define a mask and select rows:\n",
      "    \n",
      "    >>> mask=[True, True, False, None]\n",
      "    >>> table.filter(mask)\n",
      "    pyarrow.Table\n",
      "    year: int64\n",
      "    n_legs: int64\n",
      "    animals: string\n",
      "    ----\n",
      "    year: [[2020,2022]]\n",
      "    n_legs: [[2,4]]\n",
      "    animals: [[\"Flamingo\",\"Horse\"]]\n",
      "    >>> table.filter(mask, null_selection_behavior='emit_null')\n",
      "    pyarrow.Table\n",
      "    year: int64\n",
      "    n_legs: int64\n",
      "    animals: string\n",
      "    ----\n",
      "    year: [[2020,2022,null]]\n",
      "    n_legs: [[2,4,null]]\n",
      "    animals: [[\"Flamingo\",\"Horse\",null]]\n",
      "\n"
     ]
    }
   ],
   "source": [
    "help(table_file.filter)"
   ]
  },
  {
   "cell_type": "code",
   "execution_count": 7,
   "id": "b1f3cb82",
   "metadata": {},
   "outputs": [],
   "source": [
    "pandas_lanl = table_file.to_pandas()"
   ]
  },
  {
   "cell_type": "code",
   "execution_count": 8,
   "id": "c24134d1",
   "metadata": {},
   "outputs": [
    {
     "data": {
      "text/plain": [
       "(740, 10)"
      ]
     },
     "execution_count": 8,
     "metadata": {},
     "output_type": "execute_result"
    }
   ],
   "source": [
    "pandas_lanl.shape"
   ]
  },
  {
   "cell_type": "code",
   "execution_count": 9,
   "id": "d2eca39a",
   "metadata": {},
   "outputs": [
    {
     "data": {
      "text/plain": [
       "Index(['time', 'source user@domain', 'destination user@domain',\n",
       "       'source computer', 'destination computer', 'authentication type',\n",
       "       'logon type', 'authentication orientation', 'success/failure', 'day'],\n",
       "      dtype='object')"
      ]
     },
     "execution_count": 9,
     "metadata": {},
     "output_type": "execute_result"
    }
   ],
   "source": [
    "pandas_lanl.columns"
   ]
  },
  {
   "cell_type": "code",
   "execution_count": 10,
   "id": "033c350d",
   "metadata": {},
   "outputs": [],
   "source": [
    "import pandas as pd \n",
    "import torch\n",
    "from torch import Tensor"
   ]
  },
  {
   "cell_type": "code",
   "execution_count": 11,
   "id": "83e16b51",
   "metadata": {},
   "outputs": [
    {
     "data": {
      "text/html": [
       "<div>\n",
       "<style scoped>\n",
       "    .dataframe tbody tr th:only-of-type {\n",
       "        vertical-align: middle;\n",
       "    }\n",
       "\n",
       "    .dataframe tbody tr th {\n",
       "        vertical-align: top;\n",
       "    }\n",
       "\n",
       "    .dataframe thead th {\n",
       "        text-align: right;\n",
       "    }\n",
       "</style>\n",
       "<table border=\"1\" class=\"dataframe\">\n",
       "  <thead>\n",
       "    <tr style=\"text-align: right;\">\n",
       "      <th></th>\n",
       "      <th>time</th>\n",
       "      <th>source user@domain</th>\n",
       "      <th>destination user@domain</th>\n",
       "      <th>source computer</th>\n",
       "      <th>destination computer</th>\n",
       "      <th>authentication type</th>\n",
       "      <th>logon type</th>\n",
       "      <th>authentication orientation</th>\n",
       "      <th>success/failure</th>\n",
       "      <th>day</th>\n",
       "    </tr>\n",
       "  </thead>\n",
       "  <tbody>\n",
       "    <tr>\n",
       "      <th>171</th>\n",
       "      <td>170.0</td>\n",
       "      <td>760075</td>\n",
       "      <td>U1653@DOM1</td>\n",
       "      <td>C17693</td>\n",
       "      <td>C395</td>\n",
       "      <td>U1653@DOM1</td>\n",
       "      <td>NTLM</td>\n",
       "      <td>Network</td>\n",
       "      <td>LogOn</td>\n",
       "      <td>Success</td>\n",
       "    </tr>\n",
       "    <tr>\n",
       "      <th>246</th>\n",
       "      <td>245.0</td>\n",
       "      <td>767813</td>\n",
       "      <td>U66@DOM1</td>\n",
       "      <td>C17693</td>\n",
       "      <td>C2944</td>\n",
       "      <td>U66@DOM1</td>\n",
       "      <td>NTLM</td>\n",
       "      <td>Network</td>\n",
       "      <td>LogOn</td>\n",
       "      <td>Success</td>\n",
       "    </tr>\n",
       "    <tr>\n",
       "      <th>415</th>\n",
       "      <td>414.0</td>\n",
       "      <td>1076742</td>\n",
       "      <td>U453@DOM1</td>\n",
       "      <td>C17693</td>\n",
       "      <td>C2388</td>\n",
       "      <td>U453@DOM1</td>\n",
       "      <td>NTLM</td>\n",
       "      <td>Network</td>\n",
       "      <td>LogOn</td>\n",
       "      <td>Success</td>\n",
       "    </tr>\n",
       "    <tr>\n",
       "      <th>97</th>\n",
       "      <td>96.0</td>\n",
       "      <td>739706</td>\n",
       "      <td>U1600@DOM1</td>\n",
       "      <td>C17693</td>\n",
       "      <td>C92</td>\n",
       "      <td>U1600@DOM1</td>\n",
       "      <td>NTLM</td>\n",
       "      <td>Network</td>\n",
       "      <td>LogOn</td>\n",
       "      <td>Success</td>\n",
       "    </tr>\n",
       "    <tr>\n",
       "      <th>250</th>\n",
       "      <td>249.0</td>\n",
       "      <td>768546</td>\n",
       "      <td>U4353@DOM1</td>\n",
       "      <td>C17693</td>\n",
       "      <td>C17860</td>\n",
       "      <td>U4353@DOM1</td>\n",
       "      <td>NTLM</td>\n",
       "      <td>Network</td>\n",
       "      <td>LogOn</td>\n",
       "      <td>Success</td>\n",
       "    </tr>\n",
       "  </tbody>\n",
       "</table>\n",
       "</div>"
      ],
      "text/plain": [
       "      time source user@domain destination user@domain source computer  \\\n",
       "171  170.0             760075              U1653@DOM1          C17693   \n",
       "246  245.0             767813                U66@DOM1          C17693   \n",
       "415  414.0            1076742               U453@DOM1          C17693   \n",
       "97    96.0             739706              U1600@DOM1          C17693   \n",
       "250  249.0             768546              U4353@DOM1          C17693   \n",
       "\n",
       "    destination computer authentication type logon type  \\\n",
       "171                 C395          U1653@DOM1       NTLM   \n",
       "246                C2944            U66@DOM1       NTLM   \n",
       "415                C2388           U453@DOM1       NTLM   \n",
       "97                   C92          U1600@DOM1       NTLM   \n",
       "250               C17860          U4353@DOM1       NTLM   \n",
       "\n",
       "    authentication orientation success/failure      day  \n",
       "171                    Network           LogOn  Success  \n",
       "246                    Network           LogOn  Success  \n",
       "415                    Network           LogOn  Success  \n",
       "97                     Network           LogOn  Success  \n",
       "250                    Network           LogOn  Success  "
      ]
     },
     "execution_count": 11,
     "metadata": {},
     "output_type": "execute_result"
    }
   ],
   "source": [
    "pandas_lanl.sample(5)"
   ]
  },
  {
   "cell_type": "code",
   "execution_count": 10,
   "id": "34addd1c",
   "metadata": {},
   "outputs": [],
   "source": [
    "pandas_lanl = pandas_lanl.rename(columns={'source user@domain': \"src_user\", 'destination user@domain': \"dest_user\"})"
   ]
  },
  {
   "cell_type": "code",
   "execution_count": 11,
   "id": "de17e1d3",
   "metadata": {},
   "outputs": [],
   "source": [
    "df = pandas_lanl ##shallow copy lol"
   ]
  },
  {
   "cell_type": "code",
   "execution_count": 12,
   "id": "64872f46",
   "metadata": {},
   "outputs": [
    {
     "data": {
      "text/plain": [
       "Index(['time', 'src_user', 'dest_user', 'source computer',\n",
       "       'destination computer', 'authentication type', 'logon type',\n",
       "       'authentication orientation', 'success/failure', 'day'],\n",
       "      dtype='object')"
      ]
     },
     "execution_count": 12,
     "metadata": {},
     "output_type": "execute_result"
    }
   ],
   "source": [
    "df.columns"
   ]
  },
  {
   "cell_type": "code",
   "execution_count": 13,
   "id": "b4b14458",
   "metadata": {},
   "outputs": [],
   "source": [
    "df = df[(df['src_user'].str.contains('LOCAL')==False) & (df['src_user'].str.contains('SYSTEM')==False) & \n",
    "        (df['src_user'].str.contains('ANONYMOUS')==False) & (df['src_user'].str.contains('ADMINISTRARTOR')==False) &\n",
    "        (df['src_user'].str.contains('$')==False) \n",
    "       ]\n",
    "\n",
    "df = df[(df['dest_user'].str.contains('LOCAL')==False) & (df['dest_user'].str.contains('SYSTEM')==False) & \n",
    "        (df['dest_user'].str.contains('ANONYMOUS')==False) & (df['dest_user'].str.contains('ADMINISTRARTOR')==False) &\n",
    "        (df['dest_user'].str.contains('$')==False) \n",
    "       ]\n"
   ]
  },
  {
   "cell_type": "code",
   "execution_count": 14,
   "id": "21422d8d",
   "metadata": {},
   "outputs": [
    {
     "data": {
      "text/plain": [
       "(0, 10)"
      ]
     },
     "execution_count": 14,
     "metadata": {},
     "output_type": "execute_result"
    }
   ],
   "source": [
    "df.shape"
   ]
  },
  {
   "cell_type": "code",
   "execution_count": 16,
   "id": "3709e017",
   "metadata": {},
   "outputs": [
    {
     "data": {
      "text/html": [
       "<div>\n",
       "<style scoped>\n",
       "    .dataframe tbody tr th:only-of-type {\n",
       "        vertical-align: middle;\n",
       "    }\n",
       "\n",
       "    .dataframe tbody tr th {\n",
       "        vertical-align: top;\n",
       "    }\n",
       "\n",
       "    .dataframe thead th {\n",
       "        text-align: right;\n",
       "    }\n",
       "</style>\n",
       "<table border=\"1\" class=\"dataframe\">\n",
       "  <thead>\n",
       "    <tr style=\"text-align: right;\">\n",
       "      <th></th>\n",
       "      <th>time</th>\n",
       "      <th>src_user</th>\n",
       "      <th>dest_user</th>\n",
       "      <th>source computer</th>\n",
       "      <th>destination computer</th>\n",
       "      <th>authentication type</th>\n",
       "      <th>logon type</th>\n",
       "      <th>authentication orientation</th>\n",
       "      <th>success/failure</th>\n",
       "      <th>day</th>\n",
       "    </tr>\n",
       "  </thead>\n",
       "  <tbody>\n",
       "    <tr>\n",
       "      <th>620080501</th>\n",
       "      <td>4521322</td>\n",
       "      <td>U341@DOM1</td>\n",
       "      <td>U341@DOM1</td>\n",
       "      <td>C612</td>\n",
       "      <td>C612</td>\n",
       "      <td>?</td>\n",
       "      <td>Network</td>\n",
       "      <td>LogOff</td>\n",
       "      <td>Success</td>\n",
       "      <td>53</td>\n",
       "    </tr>\n",
       "    <tr>\n",
       "      <th>99001974</th>\n",
       "      <td>1490866</td>\n",
       "      <td>C2070$@DOM1</td>\n",
       "      <td>C2070$@DOM1</td>\n",
       "      <td>C2071</td>\n",
       "      <td>C2071</td>\n",
       "      <td>?</td>\n",
       "      <td>?</td>\n",
       "      <td>TGT</td>\n",
       "      <td>Success</td>\n",
       "      <td>18</td>\n",
       "    </tr>\n",
       "  </tbody>\n",
       "</table>\n",
       "</div>"
      ],
      "text/plain": [
       "              time     src_user    dest_user source computer  \\\n",
       "620080501  4521322    U341@DOM1    U341@DOM1            C612   \n",
       "99001974   1490866  C2070$@DOM1  C2070$@DOM1           C2071   \n",
       "\n",
       "          destination computer authentication type logon type  \\\n",
       "620080501                 C612                   ?    Network   \n",
       "99001974                 C2071                   ?          ?   \n",
       "\n",
       "          authentication orientation success/failure  day  \n",
       "620080501                     LogOff         Success   53  \n",
       "99001974                         TGT         Success   18  "
      ]
     },
     "execution_count": 16,
     "metadata": {},
     "output_type": "execute_result"
    }
   ],
   "source": [
    "pandas_lanl.sample(2)"
   ]
  },
  {
   "cell_type": "code",
   "execution_count": null,
   "id": "b9c479ab",
   "metadata": {},
   "outputs": [],
   "source": []
  },
  {
   "cell_type": "code",
   "execution_count": null,
   "id": "bdd1c88c",
   "metadata": {},
   "outputs": [],
   "source": []
  },
  {
   "cell_type": "code",
   "execution_count": null,
   "id": "768861ce",
   "metadata": {},
   "outputs": [],
   "source": []
  },
  {
   "cell_type": "code",
   "execution_count": null,
   "id": "f999cc88",
   "metadata": {},
   "outputs": [],
   "source": []
  },
  {
   "cell_type": "code",
   "execution_count": null,
   "id": "85834a05",
   "metadata": {},
   "outputs": [],
   "source": []
  },
  {
   "cell_type": "code",
   "execution_count": null,
   "id": "da7bf688",
   "metadata": {},
   "outputs": [],
   "source": []
  },
  {
   "cell_type": "code",
   "execution_count": 21,
   "id": "ba8ed54e",
   "metadata": {},
   "outputs": [],
   "source": [
    "####decide to play with unique test data \n",
    "import pandas as pd \n",
    "import torch\n",
    "from torch import Tensor"
   ]
  },
  {
   "cell_type": "code",
   "execution_count": 22,
   "id": "1ed39cbb",
   "metadata": {},
   "outputs": [],
   "source": [
    "\n",
    "pandas_lanl = pd.read_csv(\"../lm-vol/redteam_complete.csv\")"
   ]
  },
  {
   "cell_type": "code",
   "execution_count": 23,
   "id": "41003e0f",
   "metadata": {},
   "outputs": [
    {
     "data": {
      "text/plain": [
       "(739, 10)"
      ]
     },
     "execution_count": 23,
     "metadata": {},
     "output_type": "execute_result"
    }
   ],
   "source": [
    "pandas_lanl.shape"
   ]
  },
  {
   "cell_type": "code",
   "execution_count": 24,
   "id": "7a2bba64",
   "metadata": {},
   "outputs": [
    {
     "data": {
      "text/plain": [
       "Index(['Unnamed: 0', 'time', 'source', 'source_computer',\n",
       "       'destination_computer', 'destination', 'authentication_type',\n",
       "       'logon_type', 'authentication_orientation', 'Success'],\n",
       "      dtype='object')"
      ]
     },
     "execution_count": 24,
     "metadata": {},
     "output_type": "execute_result"
    }
   ],
   "source": [
    "pandas_lanl.columns"
   ]
  },
  {
   "cell_type": "code",
   "execution_count": 29,
   "id": "a8dd5c04",
   "metadata": {},
   "outputs": [
    {
     "data": {
      "text/html": [
       "<div>\n",
       "<style scoped>\n",
       "    .dataframe tbody tr th:only-of-type {\n",
       "        vertical-align: middle;\n",
       "    }\n",
       "\n",
       "    .dataframe tbody tr th {\n",
       "        vertical-align: top;\n",
       "    }\n",
       "\n",
       "    .dataframe thead th {\n",
       "        text-align: right;\n",
       "    }\n",
       "</style>\n",
       "<table border=\"1\" class=\"dataframe\">\n",
       "  <thead>\n",
       "    <tr style=\"text-align: right;\">\n",
       "      <th></th>\n",
       "      <th>source</th>\n",
       "      <th>destination_computer</th>\n",
       "    </tr>\n",
       "  </thead>\n",
       "  <tbody>\n",
       "    <tr>\n",
       "      <th>418</th>\n",
       "      <td>U66@DOM1</td>\n",
       "      <td>C2388</td>\n",
       "    </tr>\n",
       "    <tr>\n",
       "      <th>714</th>\n",
       "      <td>U1145@DOM1</td>\n",
       "      <td>C2877</td>\n",
       "    </tr>\n",
       "    <tr>\n",
       "      <th>670</th>\n",
       "      <td>U524@DOM1</td>\n",
       "      <td>C15</td>\n",
       "    </tr>\n",
       "    <tr>\n",
       "      <th>545</th>\n",
       "      <td>U66@DOM1</td>\n",
       "      <td>C2388</td>\n",
       "    </tr>\n",
       "    <tr>\n",
       "      <th>377</th>\n",
       "      <td>U66@DOM1</td>\n",
       "      <td>C92</td>\n",
       "    </tr>\n",
       "  </tbody>\n",
       "</table>\n",
       "</div>"
      ],
      "text/plain": [
       "         source destination_computer\n",
       "418    U66@DOM1                C2388\n",
       "714  U1145@DOM1                C2877\n",
       "670   U524@DOM1                  C15\n",
       "545    U66@DOM1                C2388\n",
       "377    U66@DOM1                  C92"
      ]
     },
     "execution_count": 29,
     "metadata": {},
     "output_type": "execute_result"
    }
   ],
   "source": [
    "client_service = pandas_lanl[['source','destination_computer']].copy()\n",
    "client_service.sample(5)"
   ]
  },
  {
   "cell_type": "code",
   "execution_count": 27,
   "id": "8524a7e4",
   "metadata": {},
   "outputs": [],
   "source": [
    "#df.rename(columns={\"A\": \"a\", \"B\": \"c\"})\n",
    "client_service = client_service.rename(columns={\"source user@domain\":\"client\",\"destination computer\":\"service\"})"
   ]
  },
  {
   "cell_type": "code",
   "execution_count": 28,
   "id": "04386391",
   "metadata": {},
   "outputs": [
    {
     "ename": "KeyError",
     "evalue": "'client'",
     "output_type": "error",
     "traceback": [
      "\u001b[0;31m---------------------------------------------------------------------------\u001b[0m",
      "\u001b[0;31mKeyError\u001b[0m                                  Traceback (most recent call last)",
      "File \u001b[0;32m/usr/local/lib/python3.8/site-packages/pandas/core/indexes/base.py:3802\u001b[0m, in \u001b[0;36mIndex.get_loc\u001b[0;34m(self, key, method, tolerance)\u001b[0m\n\u001b[1;32m   3801\u001b[0m \u001b[38;5;28;01mtry\u001b[39;00m:\n\u001b[0;32m-> 3802\u001b[0m     \u001b[38;5;28;01mreturn\u001b[39;00m \u001b[38;5;28;43mself\u001b[39;49m\u001b[38;5;241;43m.\u001b[39;49m\u001b[43m_engine\u001b[49m\u001b[38;5;241;43m.\u001b[39;49m\u001b[43mget_loc\u001b[49m\u001b[43m(\u001b[49m\u001b[43mcasted_key\u001b[49m\u001b[43m)\u001b[49m\n\u001b[1;32m   3803\u001b[0m \u001b[38;5;28;01mexcept\u001b[39;00m \u001b[38;5;167;01mKeyError\u001b[39;00m \u001b[38;5;28;01mas\u001b[39;00m err:\n",
      "File \u001b[0;32m/usr/local/lib/python3.8/site-packages/pandas/_libs/index.pyx:138\u001b[0m, in \u001b[0;36mpandas._libs.index.IndexEngine.get_loc\u001b[0;34m()\u001b[0m\n",
      "File \u001b[0;32m/usr/local/lib/python3.8/site-packages/pandas/_libs/index.pyx:165\u001b[0m, in \u001b[0;36mpandas._libs.index.IndexEngine.get_loc\u001b[0;34m()\u001b[0m\n",
      "File \u001b[0;32mpandas/_libs/hashtable_class_helper.pxi:5745\u001b[0m, in \u001b[0;36mpandas._libs.hashtable.PyObjectHashTable.get_item\u001b[0;34m()\u001b[0m\n",
      "File \u001b[0;32mpandas/_libs/hashtable_class_helper.pxi:5753\u001b[0m, in \u001b[0;36mpandas._libs.hashtable.PyObjectHashTable.get_item\u001b[0;34m()\u001b[0m\n",
      "\u001b[0;31mKeyError\u001b[0m: 'client'",
      "\nThe above exception was the direct cause of the following exception:\n",
      "\u001b[0;31mKeyError\u001b[0m                                  Traceback (most recent call last)",
      "Cell \u001b[0;32mIn[28], line 1\u001b[0m\n\u001b[0;32m----> 1\u001b[0m unique_client_id \u001b[38;5;241m=\u001b[39m \u001b[43mclient_service\u001b[49m\u001b[43m[\u001b[49m\u001b[38;5;124;43m'\u001b[39;49m\u001b[38;5;124;43mclient\u001b[39;49m\u001b[38;5;124;43m'\u001b[39;49m\u001b[43m]\u001b[49m\u001b[38;5;241m.\u001b[39munique()\n\u001b[1;32m      2\u001b[0m unique_client_id \u001b[38;5;241m=\u001b[39m pd\u001b[38;5;241m.\u001b[39mDataFrame(data\u001b[38;5;241m=\u001b[39m{\n\u001b[1;32m      3\u001b[0m      \u001b[38;5;124m'\u001b[39m\u001b[38;5;124mclientId\u001b[39m\u001b[38;5;124m'\u001b[39m: unique_client_id,\n\u001b[1;32m      4\u001b[0m      \u001b[38;5;124m'\u001b[39m\u001b[38;5;124mmappedID\u001b[39m\u001b[38;5;124m'\u001b[39m: pd\u001b[38;5;241m.\u001b[39mRangeIndex(\u001b[38;5;28mlen\u001b[39m(unique_client_id)),\n\u001b[1;32m      5\u001b[0m  })\n\u001b[1;32m      7\u001b[0m \u001b[38;5;28mprint\u001b[39m(unique_client_id)\n",
      "File \u001b[0;32m/usr/local/lib/python3.8/site-packages/pandas/core/frame.py:3807\u001b[0m, in \u001b[0;36mDataFrame.__getitem__\u001b[0;34m(self, key)\u001b[0m\n\u001b[1;32m   3805\u001b[0m \u001b[38;5;28;01mif\u001b[39;00m \u001b[38;5;28mself\u001b[39m\u001b[38;5;241m.\u001b[39mcolumns\u001b[38;5;241m.\u001b[39mnlevels \u001b[38;5;241m>\u001b[39m \u001b[38;5;241m1\u001b[39m:\n\u001b[1;32m   3806\u001b[0m     \u001b[38;5;28;01mreturn\u001b[39;00m \u001b[38;5;28mself\u001b[39m\u001b[38;5;241m.\u001b[39m_getitem_multilevel(key)\n\u001b[0;32m-> 3807\u001b[0m indexer \u001b[38;5;241m=\u001b[39m \u001b[38;5;28;43mself\u001b[39;49m\u001b[38;5;241;43m.\u001b[39;49m\u001b[43mcolumns\u001b[49m\u001b[38;5;241;43m.\u001b[39;49m\u001b[43mget_loc\u001b[49m\u001b[43m(\u001b[49m\u001b[43mkey\u001b[49m\u001b[43m)\u001b[49m\n\u001b[1;32m   3808\u001b[0m \u001b[38;5;28;01mif\u001b[39;00m is_integer(indexer):\n\u001b[1;32m   3809\u001b[0m     indexer \u001b[38;5;241m=\u001b[39m [indexer]\n",
      "File \u001b[0;32m/usr/local/lib/python3.8/site-packages/pandas/core/indexes/base.py:3804\u001b[0m, in \u001b[0;36mIndex.get_loc\u001b[0;34m(self, key, method, tolerance)\u001b[0m\n\u001b[1;32m   3802\u001b[0m     \u001b[38;5;28;01mreturn\u001b[39;00m \u001b[38;5;28mself\u001b[39m\u001b[38;5;241m.\u001b[39m_engine\u001b[38;5;241m.\u001b[39mget_loc(casted_key)\n\u001b[1;32m   3803\u001b[0m \u001b[38;5;28;01mexcept\u001b[39;00m \u001b[38;5;167;01mKeyError\u001b[39;00m \u001b[38;5;28;01mas\u001b[39;00m err:\n\u001b[0;32m-> 3804\u001b[0m     \u001b[38;5;28;01mraise\u001b[39;00m \u001b[38;5;167;01mKeyError\u001b[39;00m(key) \u001b[38;5;28;01mfrom\u001b[39;00m \u001b[38;5;21;01merr\u001b[39;00m\n\u001b[1;32m   3805\u001b[0m \u001b[38;5;28;01mexcept\u001b[39;00m \u001b[38;5;167;01mTypeError\u001b[39;00m:\n\u001b[1;32m   3806\u001b[0m     \u001b[38;5;66;03m# If we have a listlike key, _check_indexing_error will raise\u001b[39;00m\n\u001b[1;32m   3807\u001b[0m     \u001b[38;5;66;03m#  InvalidIndexError. Otherwise we fall through and re-raise\u001b[39;00m\n\u001b[1;32m   3808\u001b[0m     \u001b[38;5;66;03m#  the TypeError.\u001b[39;00m\n\u001b[1;32m   3809\u001b[0m     \u001b[38;5;28mself\u001b[39m\u001b[38;5;241m.\u001b[39m_check_indexing_error(key)\n",
      "\u001b[0;31mKeyError\u001b[0m: 'client'"
     ]
    }
   ],
   "source": [
    "unique_client_id = client_service['client'].unique()\n",
    "unique_client_id = pd.DataFrame(data={\n",
    "     'clientId': unique_client_id,\n",
    "     'mappedID': pd.RangeIndex(len(unique_client_id)),\n",
    " })\n",
    "\n",
    "print(unique_client_id)\n",
    "\n",
    "\n",
    "\n",
    "unique_service_id = client_service['service'].unique()\n",
    "unique_service_id = pd.DataFrame(data={\n",
    "     'serviceId': unique_service_id,\n",
    "     'mappedID': pd.RangeIndex(len(unique_service_id)),\n",
    " })"
   ]
  },
  {
   "cell_type": "code",
   "execution_count": 13,
   "id": "c4f9e40d",
   "metadata": {},
   "outputs": [
    {
     "name": "stdout",
     "output_type": "stream",
     "text": [
      "68741 14247\n"
     ]
    }
   ],
   "source": [
    "print(len(unique_client_id), len(unique_service_id))"
   ]
  },
  {
   "cell_type": "code",
   "execution_count": 14,
   "id": "4534aba5",
   "metadata": {},
   "outputs": [
    {
     "data": {
      "text/html": [
       "<div>\n",
       "<style scoped>\n",
       "    .dataframe tbody tr th:only-of-type {\n",
       "        vertical-align: middle;\n",
       "    }\n",
       "\n",
       "    .dataframe tbody tr th {\n",
       "        vertical-align: top;\n",
       "    }\n",
       "\n",
       "    .dataframe thead th {\n",
       "        text-align: right;\n",
       "    }\n",
       "</style>\n",
       "<table border=\"1\" class=\"dataframe\">\n",
       "  <thead>\n",
       "    <tr style=\"text-align: right;\">\n",
       "      <th></th>\n",
       "      <th>client</th>\n",
       "      <th>service</th>\n",
       "    </tr>\n",
       "  </thead>\n",
       "  <tbody>\n",
       "    <tr>\n",
       "      <th>0</th>\n",
       "      <td>ANONYMOUS LOGON@C586</td>\n",
       "      <td>C586</td>\n",
       "    </tr>\n",
       "    <tr>\n",
       "      <th>1</th>\n",
       "      <td>ANONYMOUS LOGON@C586</td>\n",
       "      <td>C586</td>\n",
       "    </tr>\n",
       "    <tr>\n",
       "      <th>2</th>\n",
       "      <td>C101$@DOM1</td>\n",
       "      <td>C988</td>\n",
       "    </tr>\n",
       "    <tr>\n",
       "      <th>3</th>\n",
       "      <td>C1020$@DOM1</td>\n",
       "      <td>C1020</td>\n",
       "    </tr>\n",
       "    <tr>\n",
       "      <th>4</th>\n",
       "      <td>C1021$@DOM1</td>\n",
       "      <td>C625</td>\n",
       "    </tr>\n",
       "    <tr>\n",
       "      <th>...</th>\n",
       "      <td>...</td>\n",
       "      <td>...</td>\n",
       "    </tr>\n",
       "    <tr>\n",
       "      <th>1062869</th>\n",
       "      <td>U7319@?</td>\n",
       "      <td>C528</td>\n",
       "    </tr>\n",
       "    <tr>\n",
       "      <th>1062870</th>\n",
       "      <td>U1345@DOM1</td>\n",
       "      <td>C1640</td>\n",
       "    </tr>\n",
       "    <tr>\n",
       "      <th>1062871</th>\n",
       "      <td>U5462@DOM1</td>\n",
       "      <td>C1065</td>\n",
       "    </tr>\n",
       "    <tr>\n",
       "      <th>1062872</th>\n",
       "      <td>U5462@DOM1</td>\n",
       "      <td>C1065</td>\n",
       "    </tr>\n",
       "    <tr>\n",
       "      <th>1062873</th>\n",
       "      <td>U422@?</td>\n",
       "      <td>C2109</td>\n",
       "    </tr>\n",
       "  </tbody>\n",
       "</table>\n",
       "<p>1062874 rows × 2 columns</p>\n",
       "</div>"
      ],
      "text/plain": [
       "                       client service\n",
       "0        ANONYMOUS LOGON@C586    C586\n",
       "1        ANONYMOUS LOGON@C586    C586\n",
       "2                  C101$@DOM1    C988\n",
       "3                 C1020$@DOM1   C1020\n",
       "4                 C1021$@DOM1    C625\n",
       "...                       ...     ...\n",
       "1062869               U7319@?    C528\n",
       "1062870            U1345@DOM1   C1640\n",
       "1062871            U5462@DOM1   C1065\n",
       "1062872            U5462@DOM1   C1065\n",
       "1062873                U422@?   C2109\n",
       "\n",
       "[1062874 rows x 2 columns]"
      ]
     },
     "execution_count": 14,
     "metadata": {},
     "output_type": "execute_result"
    }
   ],
   "source": [
    "client_service"
   ]
  },
  {
   "cell_type": "code",
   "execution_count": 15,
   "id": "eaa952aa",
   "metadata": {},
   "outputs": [
    {
     "name": "stdout",
     "output_type": "stream",
     "text": [
      "tensor([[    0,     0,     1,  ..., 23357, 23357, 50922],\n",
      "        [    0,     0,     1,  ...,    16,    16,  1384]])\n"
     ]
    }
   ],
   "source": [
    "# Perform merge to obtain the edges from users and movies:\n",
    "client_id = pd.merge(client_service['client'], unique_client_id, left_on='client', right_on='clientId', how='left')\n",
    "client_id = torch.from_numpy(client_id['mappedID'].values)\n",
    "service_id = pd.merge(client_service['service'], unique_service_id, left_on='service', right_on='serviceId', how='left')\n",
    "service_id = torch.from_numpy(service_id['mappedID'].values)\n",
    "\n",
    "# following PyG semantics:\n",
    "edge_index_client_to_service = torch.stack([client_id, service_id], dim=0)\n",
    "\n",
    "print(edge_index_client_to_service)\n"
   ]
  },
  {
   "cell_type": "code",
   "execution_count": 16,
   "id": "f4d3f11a",
   "metadata": {},
   "outputs": [],
   "source": [
    "from torch_geometric.data import HeteroData\n",
    "import torch_geometric.transforms as T\n"
   ]
  },
  {
   "cell_type": "code",
   "execution_count": 17,
   "id": "c5145fb4",
   "metadata": {},
   "outputs": [],
   "source": [
    "# pip install pyg-lib torch-scatter torch-sparse torch-cluster torch-spline-conv torch-geometric -f https://data.pyg.org/whl/torch-1.13.0+cpu.html"
   ]
  },
  {
   "cell_type": "code",
   "execution_count": 18,
   "id": "6c0fc5e5",
   "metadata": {},
   "outputs": [],
   "source": [
    "from torch_geometric.data import HeteroData\n",
    "import torch_geometric.transforms as T\n",
    "\n",
    "data = HeteroData()\n",
    "data[\"client\"].node_id = torch.arange(len(unique_client_id))\n",
    "data[\"service\"].node_id = torch.arange(len(unique_service_id))\n",
    "\n",
    "data[\"client\", \"auth_attempt\", \"service\"].edge_index = edge_index_client_to_service\n",
    "\n",
    "Transform = T.ToUndirected()\n",
    "data = Transform(data)"
   ]
  },
  {
   "cell_type": "code",
   "execution_count": 19,
   "id": "12a290b5",
   "metadata": {},
   "outputs": [],
   "source": [
    "transform = T.RandomLinkSplit(\n",
    "    num_val=0.1,  # TODO\n",
    "    num_test=0.1,  # TODO\n",
    "    disjoint_train_ratio=0.3,  # TODO\n",
    "    neg_sampling_ratio=2,  # TODO\n",
    "    add_negative_train_samples=False,  # TODO\n",
    "    edge_types=(\"client\", \"auth_attempt\", \"service\"),\n",
    "    rev_edge_types=(\"service\", \"rev_auth_attempt\", \"client\"),\n",
    ")\n",
    "\n",
    "train_data, val_data, test_data = transform(data)"
   ]
  },
  {
   "cell_type": "code",
   "execution_count": 20,
   "id": "10a85717",
   "metadata": {},
   "outputs": [
    {
     "name": "stdout",
     "output_type": "stream",
     "text": [
      "Sampled mini-batch:\n",
      "===================\n",
      "HeteroData(\n",
      "  \u001b[1mclient\u001b[0m={ node_id=[4065] },\n",
      "  \u001b[1mservice\u001b[0m={ node_id=[1547] },\n",
      "  \u001b[1m(client, auth_attempt, service)\u001b[0m={\n",
      "    edge_index=[2, 5617],\n",
      "    edge_label=[384],\n",
      "    edge_label_index=[2, 384],\n",
      "    input_id=[128]\n",
      "  },\n",
      "  \u001b[1m(service, rev_auth_attempt, client)\u001b[0m={ edge_index=[2, 14954] }\n",
      ")\n"
     ]
    }
   ],
   "source": [
    "from torch_geometric.loader import LinkNeighborLoader\n",
    "\n",
    "# Define seed edges:\n",
    "edge_label_index = train_data[\"client\", \"auth_attempt\", \"service\"].edge_label_index\n",
    "edge_label = train_data[\"client\", \"auth_attempt\", \"service\"].edge_label\n",
    "\n",
    "train_loader = LinkNeighborLoader(\n",
    "    data=train_data,  # TODO\n",
    "    num_neighbors=[20,10],  # TODO\n",
    "    neg_sampling_ratio=2,  # TODO\n",
    "    edge_label_index=((\"client\", \"auth_attempt\", \"service\"), edge_label_index),\n",
    "    edge_label=edge_label,\n",
    "    batch_size=128,\n",
    "    shuffle=True,\n",
    ")\n",
    "\n",
    "# Inspect a sample:\n",
    "sampled_data = next(iter(train_loader))\n",
    "\n",
    "print(\"Sampled mini-batch:\")\n",
    "print(\"===================\")\n",
    "print(sampled_data)"
   ]
  },
  {
   "cell_type": "code",
   "execution_count": 21,
   "id": "6be5cd26",
   "metadata": {},
   "outputs": [],
   "source": [
    "from torch_geometric.nn import SAGEConv, to_hetero"
   ]
  },
  {
   "cell_type": "code",
   "execution_count": 22,
   "id": "03a45ad5",
   "metadata": {},
   "outputs": [
    {
     "name": "stdout",
     "output_type": "stream",
     "text": [
      "Model(\n",
      "  (user_emb): Embedding(68741, 64)\n",
      "  (movie_emb): Embedding(14247, 64)\n",
      "  (gnn): GraphModule(\n",
      "    (conv1): ModuleDict(\n",
      "      (client__auth_attempt__service): SAGEConv(64, 64, aggr=mean)\n",
      "      (service__rev_auth_attempt__client): SAGEConv(64, 64, aggr=mean)\n",
      "    )\n",
      "    (conv2): ModuleDict(\n",
      "      (client__auth_attempt__service): SAGEConv(64, 64, aggr=mean)\n",
      "      (service__rev_auth_attempt__client): SAGEConv(64, 64, aggr=mean)\n",
      "    )\n",
      "  )\n",
      "  (classifier): Classifier()\n",
      ")\n"
     ]
    }
   ],
   "source": [
    "class GNN(torch.nn.Module):\n",
    "    def __init__(self, hidden_channels):\n",
    "        super().__init__()\n",
    "\n",
    "        self.conv1 = SAGEConv(hidden_channels, hidden_channels)\n",
    "        self.conv2 = SAGEConv(hidden_channels, hidden_channels)\n",
    "\n",
    "    def forward(self, x: Tensor, edge_index: Tensor) -> Tensor:\n",
    "        # Define a 2-layer GNN computation graph.\n",
    "        # Use a *single* `ReLU` non-linearity in-between.\n",
    "        # TODO:\n",
    "        x = self.conv1(x, edge_index).relu()\n",
    "        x = self.conv2(x, edge_index)\n",
    "        return x\n",
    "        # raise NotImplementedError\n",
    "\n",
    "# Our final classifier applies the dot-product between source and destination\n",
    "# node embeddings to derive edge-level predictions:\n",
    "class Classifier(torch.nn.Module):\n",
    "    def forward(self, x_user: Tensor, x_movie: Tensor, edge_label_index: Tensor) -> Tensor:\n",
    "        # Convert node embeddings to edge-level representations:\n",
    "        edge_feat_user = x_user[edge_label_index[0]]\n",
    "        edge_feat_movie = x_movie[edge_label_index[1]]\n",
    "\n",
    "        # Apply dot-product to get a prediction per supervision edge:\n",
    "        return (edge_feat_user * edge_feat_movie).sum(dim=-1)\n",
    "\n",
    "\n",
    "class Model(torch.nn.Module):\n",
    "    def __init__(self, hidden_channels):\n",
    "        super().__init__()\n",
    "        # Since the dataset does not come with rich features, we also learn two\n",
    "        # embedding matrices for users and movies:\n",
    "        # self.movie_lin = torch.nn.Linear(20, hidden_channels)\n",
    "        self.user_emb = torch.nn.Embedding(data[\"client\"].num_nodes, hidden_channels)\n",
    "        self.movie_emb = torch.nn.Embedding(data[\"service\"].num_nodes, hidden_channels)\n",
    "\n",
    "        # Instantiate homogeneous GNN:\n",
    "        self.gnn = GNN(hidden_channels)\n",
    "\n",
    "        # Convert GNN model into a heterogeneous variant:\n",
    "        self.gnn = to_hetero(self.gnn, metadata=data.metadata())\n",
    "\n",
    "        self.classifier = Classifier()\n",
    "\n",
    "    def forward(self, data: HeteroData) -> Tensor:\n",
    "        x_dict = {\n",
    "          \"client\": self.user_emb(data[\"client\"].node_id),\n",
    "          \"service\": self.movie_emb(data[\"service\"].node_id),\n",
    "        } \n",
    "\n",
    "        # `x_dict` holds feature matrices of all node types\n",
    "        # `edge_index_dict` holds all edge indices of all edge types\n",
    "        x_dict = self.gnn(x_dict, data.edge_index_dict)\n",
    "\n",
    "        pred = self.classifier(\n",
    "            x_dict[\"client\"],\n",
    "            x_dict[\"service\"],\n",
    "            data[\"client\", \"auth_attempt\", \"service\"].edge_label_index,\n",
    "        )\n",
    "\n",
    "        return pred\n",
    "\n",
    "        \n",
    "model = Model(hidden_channels=64)\n",
    "\n",
    "print(model)"
   ]
  },
  {
   "cell_type": "code",
   "execution_count": null,
   "id": "040f51f6",
   "metadata": {},
   "outputs": [
    {
     "name": "stdout",
     "output_type": "stream",
     "text": [
      "Device: 'cpu'\n"
     ]
    },
    {
     "name": "stderr",
     "output_type": "stream",
     "text": [
      "100%|████████████████████████████████████████████████████████| 1993/1993 [30:33<00:00,  1.09it/s]\n"
     ]
    },
    {
     "name": "stdout",
     "output_type": "stream",
     "text": [
      "Epoch: 001, Loss: 0.1758\n"
     ]
    },
    {
     "name": "stderr",
     "output_type": "stream",
     "text": [
      "100%|████████████████████████████████████████████████████████| 1993/1993 [25:37<00:00,  1.30it/s]\n"
     ]
    },
    {
     "name": "stdout",
     "output_type": "stream",
     "text": [
      "Epoch: 002, Loss: 0.1307\n"
     ]
    },
    {
     "name": "stderr",
     "output_type": "stream",
     "text": [
      "100%|████████████████████████████████████████████████████████| 1993/1993 [11:17<00:00,  2.94it/s]\n"
     ]
    },
    {
     "name": "stdout",
     "output_type": "stream",
     "text": [
      "Epoch: 003, Loss: 0.1141\n"
     ]
    },
    {
     "name": "stderr",
     "output_type": "stream",
     "text": [
      "100%|████████████████████████████████████████████████████████| 1993/1993 [07:15<00:00,  4.57it/s]\n"
     ]
    },
    {
     "name": "stdout",
     "output_type": "stream",
     "text": [
      "Epoch: 004, Loss: 0.1012\n"
     ]
    },
    {
     "name": "stderr",
     "output_type": "stream",
     "text": [
      " 18%|██████████▎                                              | 360/1993 [01:10<05:15,  5.18it/s]"
     ]
    }
   ],
   "source": [
    "import tqdm\n",
    "import torch.nn.functional as F\n",
    "\n",
    "device = torch.device('cuda' if torch.cuda.is_available() else 'cpu')\n",
    "print(f\"Device: '{device}'\")\n",
    "\n",
    "model = model.to(device)\n",
    "optimizer = torch.optim.Adam(model.parameters(), lr=0.001)\n",
    "\n",
    "for epoch in range(1, 8):\n",
    "    total_loss = total_examples = 0\n",
    "    for sampled_data in tqdm.tqdm(train_loader):\n",
    "        optimizer.zero_grad()\n",
    "\n",
    "        \n",
    "        # print(sampled_data)\n",
    "\n",
    "        # TODO: Move `sampled_data` to the respective `device`\n",
    "        sampled_data = sampled_data.to(device)\n",
    "        # TODO: Run `forward` pass of the model\n",
    "        pred = model.forward(sampled_data)\n",
    "\n",
    "        # print(pred.size() == sampled_data[\"user\", \"rates\", \"movie\"].edge_label.size())\n",
    "        # print(sampled_data[\"user\", \"rates\", \"movie\"].edge_label)\n",
    "        # TODO: Apply binary cross entropy via\n",
    "        # `F.binary_cross_entropy_with_logits(pred, ground_truth)`\n",
    "        \n",
    "        loss = F.binary_cross_entropy_with_logits(pred, sampled_data[\"client\", \"auth_attempt\", \"service\"].edge_label)\n",
    "\n",
    "        # raise NotImplementedError\n",
    "\n",
    "        loss.backward()\n",
    "        optimizer.step()\n",
    "        total_loss += float(loss) * pred.numel()\n",
    "        total_examples += pred.numel()\n",
    "    print(f\"Epoch: {epoch:03d}, Loss: {total_loss / total_examples:.4f}\")"
   ]
  },
  {
   "cell_type": "code",
   "execution_count": null,
   "id": "0a28c3d4",
   "metadata": {},
   "outputs": [],
   "source": [
    "torch.save(model, '../lm-vol/torchmodel01')"
   ]
  },
  {
   "cell_type": "code",
   "execution_count": null,
   "id": "97d163ec",
   "metadata": {},
   "outputs": [
    {
     "name": "stdout",
     "output_type": "stream",
     "text": [
      "Found existing installation: bokeh 3.1.0\n",
      "Uninstalling bokeh-3.1.0:\n",
      "  Would remove:\n",
      "    /usr/local/bin/bokeh\n",
      "    /usr/local/lib/python3.8/site-packages/bokeh-3.1.0.dist-info/*\n",
      "    /usr/local/lib/python3.8/site-packages/bokeh/*\n",
      "Proceed (y/n)? "
     ]
    }
   ],
   "source": [
    "!pip uninstall bokeh"
   ]
  },
  {
   "cell_type": "code",
   "execution_count": null,
   "id": "c56a8bc9",
   "metadata": {},
   "outputs": [],
   "source": []
  }
 ],
 "metadata": {
  "kernelspec": {
   "display_name": "Python 3 (ipykernel)",
   "language": "python",
   "name": "python3"
  },
  "language_info": {
   "codemirror_mode": {
    "name": "ipython",
    "version": 3
   },
   "file_extension": ".py",
   "mimetype": "text/x-python",
   "name": "python",
   "nbconvert_exporter": "python",
   "pygments_lexer": "ipython3",
   "version": "3.8.10"
  }
 },
 "nbformat": 4,
 "nbformat_minor": 5
}
